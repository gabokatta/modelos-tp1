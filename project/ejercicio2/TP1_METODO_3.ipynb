{
  "nbformat": 4,
  "nbformat_minor": 0,
  "metadata": {
    "colab": {
      "provenance": []
    },
    "kernelspec": {
      "name": "python3",
      "display_name": "Python 3"
    },
    "language_info": {
      "name": "python"
    }
  },
  "cells": [
    {
      "cell_type": "markdown",
      "source": [
        "## Paso 0: Instalo las dependencias"
      ],
      "metadata": {
        "id": "pP5tzqpQSpJw"
      }
    },
    {
      "cell_type": "code",
      "source": [
        "!pip install cplex docplex"
      ],
      "metadata": {
        "id": "EyYluLM8Q7du",
        "colab": {
          "base_uri": "https://localhost:8080/"
        },
        "outputId": "0f10fe31-9a01-412a-bc60-0cae23af9571"
      },
      "execution_count": 1,
      "outputs": [
        {
          "output_type": "stream",
          "name": "stdout",
          "text": [
            "Looking in indexes: https://pypi.org/simple, https://us-python.pkg.dev/colab-wheels/public/simple/\n",
            "Requirement already satisfied: cplex in /usr/local/lib/python3.10/dist-packages (22.1.1.0)\n",
            "Requirement already satisfied: docplex in /usr/local/lib/python3.10/dist-packages (2.25.236)\n",
            "Requirement already satisfied: six in /usr/local/lib/python3.10/dist-packages (from docplex) (1.16.0)\n"
          ]
        }
      ]
    },
    {
      "cell_type": "code",
      "source": [
        "import matplotlib.pyplot as plt\n",
        "import numpy as np\n",
        "import pandas as pd\n",
        "from sklearn.manifold import MDS\n",
        "import string\n",
        "\n",
        "#Cplex en python\n",
        "from docplex.mp.model import Model\n",
        "import docplex.mp.solution as Solution"
      ],
      "metadata": {
        "id": "z8KdERv5C7dj"
      },
      "execution_count": 2,
      "outputs": []
    },
    {
      "cell_type": "markdown",
      "source": [
        "## Paso 1: Obtengo la información de los bancos"
      ],
      "metadata": {
        "id": "QlIAVrHRRDHe"
      }
    },
    {
      "cell_type": "markdown",
      "source": [
        "### Obtengo las distancias entre bancos"
      ],
      "metadata": {
        "id": "51XABIJrTBaG"
      }
    },
    {
      "cell_type": "code",
      "source": [
        "distances = pd.read_csv('distancias.csv', header=None)\n",
        "banks = ['0'] + list(string.ascii_uppercase)[:len(distances)-1]\n",
        "distances.columns = banks\n",
        "distances.columns \n",
        "distances.index = banks\n",
        "distances"
      ],
      "metadata": {
        "colab": {
          "base_uri": "https://localhost:8080/",
          "height": 394
        },
        "id": "MtaCFeTbrLcN",
        "outputId": "de61e2b9-cb6a-40bb-a028-9faa79892d10"
      },
      "execution_count": 3,
      "outputs": [
        {
          "output_type": "execute_result",
          "data": {
            "text/plain": [
              "    0   A   B    C   D   E   F    G   H    I   J\n",
              "0   0  80  88   19  30  43  21   58  87   83   7\n",
              "A  80   0  32   14   3  88  92   55  18   42  70\n",
              "B  88  32   0   92   3  11  46   28  43   75  64\n",
              "C  19  14  92    0  91  42  23  100  41   38  35\n",
              "D  30   3   3   91   0  41  31   35  18   94  84\n",
              "E  43  88  11   42  41   0  79   66  22   48  61\n",
              "F  21  92  46   23  31  79   0   85  32   93  84\n",
              "G  58  55  28  100  35  66  85    0  90  100  13\n",
              "H  87  18  43   41  18  22  32   90   0   42  70\n",
              "I  83  42  75   38  94  48  93  100  42    0  60\n",
              "J   7  70  64   35  84  61  84   13  70   60   0"
            ],
            "text/html": [
              "\n",
              "  <div id=\"df-1252821f-b0fd-41bc-8acb-963590105b39\">\n",
              "    <div class=\"colab-df-container\">\n",
              "      <div>\n",
              "<style scoped>\n",
              "    .dataframe tbody tr th:only-of-type {\n",
              "        vertical-align: middle;\n",
              "    }\n",
              "\n",
              "    .dataframe tbody tr th {\n",
              "        vertical-align: top;\n",
              "    }\n",
              "\n",
              "    .dataframe thead th {\n",
              "        text-align: right;\n",
              "    }\n",
              "</style>\n",
              "<table border=\"1\" class=\"dataframe\">\n",
              "  <thead>\n",
              "    <tr style=\"text-align: right;\">\n",
              "      <th></th>\n",
              "      <th>0</th>\n",
              "      <th>A</th>\n",
              "      <th>B</th>\n",
              "      <th>C</th>\n",
              "      <th>D</th>\n",
              "      <th>E</th>\n",
              "      <th>F</th>\n",
              "      <th>G</th>\n",
              "      <th>H</th>\n",
              "      <th>I</th>\n",
              "      <th>J</th>\n",
              "    </tr>\n",
              "  </thead>\n",
              "  <tbody>\n",
              "    <tr>\n",
              "      <th>0</th>\n",
              "      <td>0</td>\n",
              "      <td>80</td>\n",
              "      <td>88</td>\n",
              "      <td>19</td>\n",
              "      <td>30</td>\n",
              "      <td>43</td>\n",
              "      <td>21</td>\n",
              "      <td>58</td>\n",
              "      <td>87</td>\n",
              "      <td>83</td>\n",
              "      <td>7</td>\n",
              "    </tr>\n",
              "    <tr>\n",
              "      <th>A</th>\n",
              "      <td>80</td>\n",
              "      <td>0</td>\n",
              "      <td>32</td>\n",
              "      <td>14</td>\n",
              "      <td>3</td>\n",
              "      <td>88</td>\n",
              "      <td>92</td>\n",
              "      <td>55</td>\n",
              "      <td>18</td>\n",
              "      <td>42</td>\n",
              "      <td>70</td>\n",
              "    </tr>\n",
              "    <tr>\n",
              "      <th>B</th>\n",
              "      <td>88</td>\n",
              "      <td>32</td>\n",
              "      <td>0</td>\n",
              "      <td>92</td>\n",
              "      <td>3</td>\n",
              "      <td>11</td>\n",
              "      <td>46</td>\n",
              "      <td>28</td>\n",
              "      <td>43</td>\n",
              "      <td>75</td>\n",
              "      <td>64</td>\n",
              "    </tr>\n",
              "    <tr>\n",
              "      <th>C</th>\n",
              "      <td>19</td>\n",
              "      <td>14</td>\n",
              "      <td>92</td>\n",
              "      <td>0</td>\n",
              "      <td>91</td>\n",
              "      <td>42</td>\n",
              "      <td>23</td>\n",
              "      <td>100</td>\n",
              "      <td>41</td>\n",
              "      <td>38</td>\n",
              "      <td>35</td>\n",
              "    </tr>\n",
              "    <tr>\n",
              "      <th>D</th>\n",
              "      <td>30</td>\n",
              "      <td>3</td>\n",
              "      <td>3</td>\n",
              "      <td>91</td>\n",
              "      <td>0</td>\n",
              "      <td>41</td>\n",
              "      <td>31</td>\n",
              "      <td>35</td>\n",
              "      <td>18</td>\n",
              "      <td>94</td>\n",
              "      <td>84</td>\n",
              "    </tr>\n",
              "    <tr>\n",
              "      <th>E</th>\n",
              "      <td>43</td>\n",
              "      <td>88</td>\n",
              "      <td>11</td>\n",
              "      <td>42</td>\n",
              "      <td>41</td>\n",
              "      <td>0</td>\n",
              "      <td>79</td>\n",
              "      <td>66</td>\n",
              "      <td>22</td>\n",
              "      <td>48</td>\n",
              "      <td>61</td>\n",
              "    </tr>\n",
              "    <tr>\n",
              "      <th>F</th>\n",
              "      <td>21</td>\n",
              "      <td>92</td>\n",
              "      <td>46</td>\n",
              "      <td>23</td>\n",
              "      <td>31</td>\n",
              "      <td>79</td>\n",
              "      <td>0</td>\n",
              "      <td>85</td>\n",
              "      <td>32</td>\n",
              "      <td>93</td>\n",
              "      <td>84</td>\n",
              "    </tr>\n",
              "    <tr>\n",
              "      <th>G</th>\n",
              "      <td>58</td>\n",
              "      <td>55</td>\n",
              "      <td>28</td>\n",
              "      <td>100</td>\n",
              "      <td>35</td>\n",
              "      <td>66</td>\n",
              "      <td>85</td>\n",
              "      <td>0</td>\n",
              "      <td>90</td>\n",
              "      <td>100</td>\n",
              "      <td>13</td>\n",
              "    </tr>\n",
              "    <tr>\n",
              "      <th>H</th>\n",
              "      <td>87</td>\n",
              "      <td>18</td>\n",
              "      <td>43</td>\n",
              "      <td>41</td>\n",
              "      <td>18</td>\n",
              "      <td>22</td>\n",
              "      <td>32</td>\n",
              "      <td>90</td>\n",
              "      <td>0</td>\n",
              "      <td>42</td>\n",
              "      <td>70</td>\n",
              "    </tr>\n",
              "    <tr>\n",
              "      <th>I</th>\n",
              "      <td>83</td>\n",
              "      <td>42</td>\n",
              "      <td>75</td>\n",
              "      <td>38</td>\n",
              "      <td>94</td>\n",
              "      <td>48</td>\n",
              "      <td>93</td>\n",
              "      <td>100</td>\n",
              "      <td>42</td>\n",
              "      <td>0</td>\n",
              "      <td>60</td>\n",
              "    </tr>\n",
              "    <tr>\n",
              "      <th>J</th>\n",
              "      <td>7</td>\n",
              "      <td>70</td>\n",
              "      <td>64</td>\n",
              "      <td>35</td>\n",
              "      <td>84</td>\n",
              "      <td>61</td>\n",
              "      <td>84</td>\n",
              "      <td>13</td>\n",
              "      <td>70</td>\n",
              "      <td>60</td>\n",
              "      <td>0</td>\n",
              "    </tr>\n",
              "  </tbody>\n",
              "</table>\n",
              "</div>\n",
              "      <button class=\"colab-df-convert\" onclick=\"convertToInteractive('df-1252821f-b0fd-41bc-8acb-963590105b39')\"\n",
              "              title=\"Convert this dataframe to an interactive table.\"\n",
              "              style=\"display:none;\">\n",
              "        \n",
              "  <svg xmlns=\"http://www.w3.org/2000/svg\" height=\"24px\"viewBox=\"0 0 24 24\"\n",
              "       width=\"24px\">\n",
              "    <path d=\"M0 0h24v24H0V0z\" fill=\"none\"/>\n",
              "    <path d=\"M18.56 5.44l.94 2.06.94-2.06 2.06-.94-2.06-.94-.94-2.06-.94 2.06-2.06.94zm-11 1L8.5 8.5l.94-2.06 2.06-.94-2.06-.94L8.5 2.5l-.94 2.06-2.06.94zm10 10l.94 2.06.94-2.06 2.06-.94-2.06-.94-.94-2.06-.94 2.06-2.06.94z\"/><path d=\"M17.41 7.96l-1.37-1.37c-.4-.4-.92-.59-1.43-.59-.52 0-1.04.2-1.43.59L10.3 9.45l-7.72 7.72c-.78.78-.78 2.05 0 2.83L4 21.41c.39.39.9.59 1.41.59.51 0 1.02-.2 1.41-.59l7.78-7.78 2.81-2.81c.8-.78.8-2.07 0-2.86zM5.41 20L4 18.59l7.72-7.72 1.47 1.35L5.41 20z\"/>\n",
              "  </svg>\n",
              "      </button>\n",
              "      \n",
              "  <style>\n",
              "    .colab-df-container {\n",
              "      display:flex;\n",
              "      flex-wrap:wrap;\n",
              "      gap: 12px;\n",
              "    }\n",
              "\n",
              "    .colab-df-convert {\n",
              "      background-color: #E8F0FE;\n",
              "      border: none;\n",
              "      border-radius: 50%;\n",
              "      cursor: pointer;\n",
              "      display: none;\n",
              "      fill: #1967D2;\n",
              "      height: 32px;\n",
              "      padding: 0 0 0 0;\n",
              "      width: 32px;\n",
              "    }\n",
              "\n",
              "    .colab-df-convert:hover {\n",
              "      background-color: #E2EBFA;\n",
              "      box-shadow: 0px 1px 2px rgba(60, 64, 67, 0.3), 0px 1px 3px 1px rgba(60, 64, 67, 0.15);\n",
              "      fill: #174EA6;\n",
              "    }\n",
              "\n",
              "    [theme=dark] .colab-df-convert {\n",
              "      background-color: #3B4455;\n",
              "      fill: #D2E3FC;\n",
              "    }\n",
              "\n",
              "    [theme=dark] .colab-df-convert:hover {\n",
              "      background-color: #434B5C;\n",
              "      box-shadow: 0px 1px 3px 1px rgba(0, 0, 0, 0.15);\n",
              "      filter: drop-shadow(0px 1px 2px rgba(0, 0, 0, 0.3));\n",
              "      fill: #FFFFFF;\n",
              "    }\n",
              "  </style>\n",
              "\n",
              "      <script>\n",
              "        const buttonEl =\n",
              "          document.querySelector('#df-1252821f-b0fd-41bc-8acb-963590105b39 button.colab-df-convert');\n",
              "        buttonEl.style.display =\n",
              "          google.colab.kernel.accessAllowed ? 'block' : 'none';\n",
              "\n",
              "        async function convertToInteractive(key) {\n",
              "          const element = document.querySelector('#df-1252821f-b0fd-41bc-8acb-963590105b39');\n",
              "          const dataTable =\n",
              "            await google.colab.kernel.invokeFunction('convertToInteractive',\n",
              "                                                     [key], {});\n",
              "          if (!dataTable) return;\n",
              "\n",
              "          const docLinkHtml = 'Like what you see? Visit the ' +\n",
              "            '<a target=\"_blank\" href=https://colab.research.google.com/notebooks/data_table.ipynb>data table notebook</a>'\n",
              "            + ' to learn more about interactive tables.';\n",
              "          element.innerHTML = '';\n",
              "          dataTable['output_type'] = 'display_data';\n",
              "          await google.colab.output.renderOutput(dataTable, element);\n",
              "          const docLink = document.createElement('div');\n",
              "          docLink.innerHTML = docLinkHtml;\n",
              "          element.appendChild(docLink);\n",
              "        }\n",
              "      </script>\n",
              "    </div>\n",
              "  </div>\n",
              "  "
            ]
          },
          "metadata": {},
          "execution_count": 3
        }
      ]
    },
    {
      "cell_type": "markdown",
      "source": [
        "### Obtengo la ganancia/ perdida que da cada banco"
      ],
      "metadata": {
        "id": "YDJXZATZtbU8"
      }
    },
    {
      "cell_type": "code",
      "source": [
        "capital = pd.read_csv('ganancias.csv', header=None)\n",
        "capital.index = banks[1:]\n",
        "capital"
      ],
      "metadata": {
        "colab": {
          "base_uri": "https://localhost:8080/",
          "height": 363
        },
        "id": "X-cJajvzrpr6",
        "outputId": "e5adcc8a-7423-4fd1-b2e2-143a08a2be31"
      },
      "execution_count": 4,
      "outputs": [
        {
          "output_type": "execute_result",
          "data": {
            "text/plain": [
              "    0\n",
              "A  20\n",
              "B -30\n",
              "C  40\n",
              "D  15\n",
              "E -20\n",
              "F -25\n",
              "G  10\n",
              "H -20\n",
              "I  20\n",
              "J   5"
            ],
            "text/html": [
              "\n",
              "  <div id=\"df-7da0c6f1-4b7d-489b-8a1c-91a9554f21bf\">\n",
              "    <div class=\"colab-df-container\">\n",
              "      <div>\n",
              "<style scoped>\n",
              "    .dataframe tbody tr th:only-of-type {\n",
              "        vertical-align: middle;\n",
              "    }\n",
              "\n",
              "    .dataframe tbody tr th {\n",
              "        vertical-align: top;\n",
              "    }\n",
              "\n",
              "    .dataframe thead th {\n",
              "        text-align: right;\n",
              "    }\n",
              "</style>\n",
              "<table border=\"1\" class=\"dataframe\">\n",
              "  <thead>\n",
              "    <tr style=\"text-align: right;\">\n",
              "      <th></th>\n",
              "      <th>0</th>\n",
              "    </tr>\n",
              "  </thead>\n",
              "  <tbody>\n",
              "    <tr>\n",
              "      <th>A</th>\n",
              "      <td>20</td>\n",
              "    </tr>\n",
              "    <tr>\n",
              "      <th>B</th>\n",
              "      <td>-30</td>\n",
              "    </tr>\n",
              "    <tr>\n",
              "      <th>C</th>\n",
              "      <td>40</td>\n",
              "    </tr>\n",
              "    <tr>\n",
              "      <th>D</th>\n",
              "      <td>15</td>\n",
              "    </tr>\n",
              "    <tr>\n",
              "      <th>E</th>\n",
              "      <td>-20</td>\n",
              "    </tr>\n",
              "    <tr>\n",
              "      <th>F</th>\n",
              "      <td>-25</td>\n",
              "    </tr>\n",
              "    <tr>\n",
              "      <th>G</th>\n",
              "      <td>10</td>\n",
              "    </tr>\n",
              "    <tr>\n",
              "      <th>H</th>\n",
              "      <td>-20</td>\n",
              "    </tr>\n",
              "    <tr>\n",
              "      <th>I</th>\n",
              "      <td>20</td>\n",
              "    </tr>\n",
              "    <tr>\n",
              "      <th>J</th>\n",
              "      <td>5</td>\n",
              "    </tr>\n",
              "  </tbody>\n",
              "</table>\n",
              "</div>\n",
              "      <button class=\"colab-df-convert\" onclick=\"convertToInteractive('df-7da0c6f1-4b7d-489b-8a1c-91a9554f21bf')\"\n",
              "              title=\"Convert this dataframe to an interactive table.\"\n",
              "              style=\"display:none;\">\n",
              "        \n",
              "  <svg xmlns=\"http://www.w3.org/2000/svg\" height=\"24px\"viewBox=\"0 0 24 24\"\n",
              "       width=\"24px\">\n",
              "    <path d=\"M0 0h24v24H0V0z\" fill=\"none\"/>\n",
              "    <path d=\"M18.56 5.44l.94 2.06.94-2.06 2.06-.94-2.06-.94-.94-2.06-.94 2.06-2.06.94zm-11 1L8.5 8.5l.94-2.06 2.06-.94-2.06-.94L8.5 2.5l-.94 2.06-2.06.94zm10 10l.94 2.06.94-2.06 2.06-.94-2.06-.94-.94-2.06-.94 2.06-2.06.94z\"/><path d=\"M17.41 7.96l-1.37-1.37c-.4-.4-.92-.59-1.43-.59-.52 0-1.04.2-1.43.59L10.3 9.45l-7.72 7.72c-.78.78-.78 2.05 0 2.83L4 21.41c.39.39.9.59 1.41.59.51 0 1.02-.2 1.41-.59l7.78-7.78 2.81-2.81c.8-.78.8-2.07 0-2.86zM5.41 20L4 18.59l7.72-7.72 1.47 1.35L5.41 20z\"/>\n",
              "  </svg>\n",
              "      </button>\n",
              "      \n",
              "  <style>\n",
              "    .colab-df-container {\n",
              "      display:flex;\n",
              "      flex-wrap:wrap;\n",
              "      gap: 12px;\n",
              "    }\n",
              "\n",
              "    .colab-df-convert {\n",
              "      background-color: #E8F0FE;\n",
              "      border: none;\n",
              "      border-radius: 50%;\n",
              "      cursor: pointer;\n",
              "      display: none;\n",
              "      fill: #1967D2;\n",
              "      height: 32px;\n",
              "      padding: 0 0 0 0;\n",
              "      width: 32px;\n",
              "    }\n",
              "\n",
              "    .colab-df-convert:hover {\n",
              "      background-color: #E2EBFA;\n",
              "      box-shadow: 0px 1px 2px rgba(60, 64, 67, 0.3), 0px 1px 3px 1px rgba(60, 64, 67, 0.15);\n",
              "      fill: #174EA6;\n",
              "    }\n",
              "\n",
              "    [theme=dark] .colab-df-convert {\n",
              "      background-color: #3B4455;\n",
              "      fill: #D2E3FC;\n",
              "    }\n",
              "\n",
              "    [theme=dark] .colab-df-convert:hover {\n",
              "      background-color: #434B5C;\n",
              "      box-shadow: 0px 1px 3px 1px rgba(0, 0, 0, 0.15);\n",
              "      filter: drop-shadow(0px 1px 2px rgba(0, 0, 0, 0.3));\n",
              "      fill: #FFFFFF;\n",
              "    }\n",
              "  </style>\n",
              "\n",
              "      <script>\n",
              "        const buttonEl =\n",
              "          document.querySelector('#df-7da0c6f1-4b7d-489b-8a1c-91a9554f21bf button.colab-df-convert');\n",
              "        buttonEl.style.display =\n",
              "          google.colab.kernel.accessAllowed ? 'block' : 'none';\n",
              "\n",
              "        async function convertToInteractive(key) {\n",
              "          const element = document.querySelector('#df-7da0c6f1-4b7d-489b-8a1c-91a9554f21bf');\n",
              "          const dataTable =\n",
              "            await google.colab.kernel.invokeFunction('convertToInteractive',\n",
              "                                                     [key], {});\n",
              "          if (!dataTable) return;\n",
              "\n",
              "          const docLinkHtml = 'Like what you see? Visit the ' +\n",
              "            '<a target=\"_blank\" href=https://colab.research.google.com/notebooks/data_table.ipynb>data table notebook</a>'\n",
              "            + ' to learn more about interactive tables.';\n",
              "          element.innerHTML = '';\n",
              "          dataTable['output_type'] = 'display_data';\n",
              "          await google.colab.output.renderOutput(dataTable, element);\n",
              "          const docLink = document.createElement('div');\n",
              "          docLink.innerHTML = docLinkHtml;\n",
              "          element.appendChild(docLink);\n",
              "        }\n",
              "      </script>\n",
              "    </div>\n",
              "  </div>\n",
              "  "
            ]
          },
          "metadata": {},
          "execution_count": 4
        }
      ]
    },
    {
      "cell_type": "markdown",
      "source": [
        "Seteo MAX_DINERO a un numero arbitriario y M a un numero grande"
      ],
      "metadata": {
        "id": "PRCaaKBLuT3Z"
      }
    },
    {
      "cell_type": "code",
      "source": [
        "MAX_DINERO = int(capital.max()*1.5)\n",
        "MAX_DINERO"
      ],
      "metadata": {
        "colab": {
          "base_uri": "https://localhost:8080/"
        },
        "id": "A74jnNT7uV85",
        "outputId": "9ed865c0-1bcb-45a3-aeee-9b10052a8ac5"
      },
      "execution_count": 5,
      "outputs": [
        {
          "output_type": "execute_result",
          "data": {
            "text/plain": [
              "60"
            ]
          },
          "metadata": {},
          "execution_count": 5
        }
      ]
    },
    {
      "cell_type": "code",
      "source": [
        "M = int(capital.abs().sum())\n",
        "M"
      ],
      "metadata": {
        "colab": {
          "base_uri": "https://localhost:8080/"
        },
        "id": "QBbkk2vPwsnd",
        "outputId": "e8bee96d-2321-4cbd-f187-1ffea387d512"
      },
      "execution_count": 6,
      "outputs": [
        {
          "output_type": "execute_result",
          "data": {
            "text/plain": [
              "205"
            ]
          },
          "metadata": {},
          "execution_count": 6
        }
      ]
    },
    {
      "cell_type": "markdown",
      "source": [
        "## Paso 2: Grafico la posición relativa de los bancos usando el algoritmo MDS"
      ],
      "metadata": {
        "id": "15fdy5_iR90H"
      }
    },
    {
      "cell_type": "markdown",
      "source": [
        "Esta representación no es perfecta ya que las distancias\n",
        "son inventadas por lo que hay inconsistencias."
      ],
      "metadata": {
        "id": "MvBnoADwZluR"
      }
    },
    {
      "cell_type": "code",
      "source": [
        "# Perform MDS to estimate the positions of the banks\n",
        "mds = MDS(n_components=2, dissimilarity='precomputed', random_state=42)\n",
        "positions = mds.fit_transform(distances)\n",
        "\n",
        "# Print the estimated positions of the banks\n",
        "dist = dict()\n",
        "\n",
        "for i in range(distances.shape[0]):\n",
        "  label = distances.index[i]\n",
        "  x = positions[i,0]\n",
        "  y = positions[i,1]\n",
        "  dist[label] = (x, y)\n",
        "\n",
        "dist"
      ],
      "metadata": {
        "colab": {
          "base_uri": "https://localhost:8080/"
        },
        "id": "Uz59IKz57bFg",
        "outputId": "453689a6-b1a7-4925-ec1c-6926c18411f3"
      },
      "execution_count": 7,
      "outputs": [
        {
          "output_type": "stream",
          "name": "stderr",
          "text": [
            "/usr/local/lib/python3.10/dist-packages/sklearn/manifold/_mds.py:299: FutureWarning: The default value of `normalized_stress` will change to `'auto'` in version 1.4. To suppress this warning, manually set the value of `normalized_stress`.\n",
            "  warnings.warn(\n"
          ]
        },
        {
          "output_type": "execute_result",
          "data": {
            "text/plain": [
              "{'0': (17.222959549628523, -34.38319065606164),\n",
              " 'A': (6.271839281996156, 24.09313035793905),\n",
              " 'B': (-33.576711320905204, 5.612163773911987),\n",
              " 'C': (35.94278032870703, 3.403241075201985),\n",
              " 'D': (-19.18159648969577, 1.7182971431380714),\n",
              " 'E': (-29.307533912365965, 18.442715108349866),\n",
              " 'F': (36.16034712909028, -18.357078966625235),\n",
              " 'G': (-36.28580571286944, -36.211518815063926),\n",
              " 'H': (-2.0556004435025126, 28.306360537066304),\n",
              " 'I': (27.104117341829852, 49.066822702195665),\n",
              " 'J': (-2.2947957519129556, -41.690942260052154)}"
            ]
          },
          "metadata": {},
          "execution_count": 7
        }
      ]
    },
    {
      "cell_type": "code",
      "source": [
        "# Create a plot\n",
        "fig, ax = plt.subplots()\n",
        "\n",
        "# Plot the banks as dots\n",
        "for bank in dist:\n",
        "    ax.plot(dist[bank][0], dist[bank][1], 'o', markersize=10, label=bank)\n",
        "\n",
        "# Add the legend\n",
        "ax.legend(bbox_to_anchor=(1.15, 1.05))\n",
        "\n",
        "# Add the title\n",
        "plt.title(\"Mapa de Bancos\")\n",
        "\n",
        "# Show the plot\n",
        "plt.show()"
      ],
      "metadata": {
        "colab": {
          "base_uri": "https://localhost:8080/",
          "height": 452
        },
        "id": "q_vUo63mE9Wz",
        "outputId": "fc4462d5-93c1-4486-eeb0-1859f0ea223d"
      },
      "execution_count": 8,
      "outputs": [
        {
          "output_type": "display_data",
          "data": {
            "text/plain": [
              "<Figure size 640x480 with 1 Axes>"
            ],
            "image/png": "[encoded data removed]"
          },
          "metadata": {}
        }
      ]
    },
    {
      "cell_type": "markdown",
      "source": [
        "## Paso 3: Creo el modelo"
      ],
      "metadata": {
        "id": "IcGb739DSFvI"
      }
    },
    {
      "cell_type": "code",
      "source": [
        "model = Model('TSP', log_output=True)"
      ],
      "metadata": {
        "id": "DfDFbuiTSSsg"
      },
      "execution_count": 9,
      "outputs": []
    },
    {
      "cell_type": "markdown",
      "source": [
        "### Variables"
      ],
      "metadata": {
        "id": "It5tyDpiUeLv"
      }
    },
    {
      "cell_type": "code",
      "source": [
        "def U_name(key):\n",
        "  return \"U_\" + banks[key]"
      ],
      "metadata": {
        "id": "Bq2pUQ6Ff0te"
      },
      "execution_count": 10,
      "outputs": []
    },
    {
      "cell_type": "code",
      "source": [
        "u = model.continuous_var_list(range(1, len(banks)), 1, len(banks)-1, name=U_name)"
      ],
      "metadata": {
        "id": "WF1JcOYdcPaw"
      },
      "execution_count": 11,
      "outputs": []
    },
    {
      "cell_type": "code",
      "source": [
        "Yij_duplas = [(i, j) for i in banks for j in banks if i != j]\n",
        "Yij = model.binary_var_dict(Yij_duplas, name='Y')"
      ],
      "metadata": {
        "id": "TMZAASTglgfT"
      },
      "execution_count": 12,
      "outputs": []
    },
    {
      "cell_type": "markdown",
      "source": [
        "Se resuelve con el metodo 3 ya que los otros 2 ya estan resueltos en CPLEX \\\n",
        "$-M * (1-Y_{ij}) <= C_i + cte_j -C_j <= (1-Y_{ij}) * M$"
      ],
      "metadata": {
        "id": "EKxe-4kuwBhq"
      }
    },
    {
      "cell_type": "code",
      "source": [
        "def C_name(key):\n",
        "  return \"C_\" + banks[key]"
      ],
      "metadata": {
        "id": "IoQHSS132yG_"
      },
      "execution_count": 13,
      "outputs": []
    },
    {
      "cell_type": "code",
      "source": [
        "Ci = model.continuous_var_list(range(0, len(banks)), 0, MAX_DINERO, name=C_name)"
      ],
      "metadata": {
        "id": "UJMGSDMs1iZd"
      },
      "execution_count": 14,
      "outputs": []
    },
    {
      "cell_type": "markdown",
      "source": [
        "### Subject to"
      ],
      "metadata": {
        "id": "RDpnNIkMUfqP"
      }
    },
    {
      "cell_type": "code",
      "source": [
        "for b in banks:\n",
        "  model.add_constraint(model.sum(Yij[(i, j)] for i,j in Yij_duplas if i == b) == 1, ctname=f\"sumatoriaSalidaDa1_{b}\")"
      ],
      "metadata": {
        "id": "a5tUSM-inHXs"
      },
      "execution_count": 15,
      "outputs": []
    },
    {
      "cell_type": "code",
      "source": [
        "for b in banks:\n",
        "  model.add_constraint(model.sum(Yij[(i, j)] for i,j in Yij_duplas if j == b) == 1, ctname=f\"sumatoriaEntradaDa1_{b}\")"
      ],
      "metadata": {
        "id": "-w4YcvdTqm91"
      },
      "execution_count": 16,
      "outputs": []
    },
    {
      "cell_type": "code",
      "source": [
        "N = len(banks) -1\n",
        "N"
      ],
      "metadata": {
        "id": "PoXxuhM731HF",
        "colab": {
          "base_uri": "https://localhost:8080/"
        },
        "outputId": "7788abd5-e206-4dcb-b110-81671f3b6d62"
      },
      "execution_count": 17,
      "outputs": [
        {
          "output_type": "execute_result",
          "data": {
            "text/plain": [
              "10"
            ]
          },
          "metadata": {},
          "execution_count": 17
        }
      ]
    },
    {
      "cell_type": "code",
      "source": [
        "for i in range(0, N):\n",
        "  for j in range(0, N):\n",
        "    if (i == j): continue\n",
        "    rest = model.add_constraint(u[i] - u[j] + N * Yij[(banks[i+1],banks[j+1])] <= N - 1, \\\n",
        "                         'U_' + str(i+1) + '_'+ str(j+1))"
      ],
      "metadata": {
        "id": "BtY_P6hPq94F"
      },
      "execution_count": 18,
      "outputs": []
    },
    {
      "cell_type": "code",
      "source": [
        "rest"
      ],
      "metadata": {
        "colab": {
          "base_uri": "https://localhost:8080/"
        },
        "id": "UZi4UdhDcZFa",
        "outputId": "8c8f71bf-f173-47e2-886c-a43d46c939f8"
      },
      "execution_count": 19,
      "outputs": [
        {
          "output_type": "execute_result",
          "data": {
            "text/plain": [
              "docplex.mp.LinearConstraint[U_10_9](-U_I+U_J+10Y_J_I,LE,9)"
            ]
          },
          "metadata": {},
          "execution_count": 19
        }
      ]
    },
    {
      "cell_type": "markdown",
      "source": [
        "Creo que copie la formula mal en el cuaderno si la pueden cambiar"
      ],
      "metadata": {
        "id": "_6L66MRAgWgj"
      }
    },
    {
      "cell_type": "markdown",
      "source": [
        "$-M * (1-Y_{ij}) <= C_i + cte_j -C_j <= (1-Y_{ij}) * M$ \\\n",
        "$-M +M Y_{ij} <= C_i + cte_j -C_j <= M -MY_{ij}$ \\\n",
        "$M Y_{ij}-M<= C_i + cte_j -C_j <= M -MY_{ij}$ \\\n",
        "\n",
        "Que se divide en dos para el software \\\n",
        "1. \\\n",
        "$M Y_{ij} - M <= C_i + cte_j -C_j $ \\\n",
        "$M Y_{ij} - C_i + C_j <= cte_j +M $ \\\n",
        "\n",
        "2. \\\n",
        "$ C_i + cte_j -C_j <= M -MY_{ij} $ \\\n",
        "$ MY_{ij} + C_i -C_j <= M - cte_j $ \\\n"
      ],
      "metadata": {
        "id": "7pTzFV-u_c2O"
      }
    },
    {
      "cell_type": "code",
      "source": [
        "for i in range(0, N+1):\n",
        "  for j in range(0, N+1):\n",
        "    if i == j: continue\n",
        "    if j == 0:continue\n",
        "    cte_j = int(capital.loc[banks[j]])\n",
        "    #1\n",
        "    model.add_constraint((M * Yij[ (banks[i], banks[j]) ] - Ci[i] + Ci[j]) <= (M + cte_j),\n",
        "                         ctname = \"C_\" + banks[i] + \"_\" + banks[j] + \"_1\")\n",
        "    #2\n",
        "    model.add_constraint((M * Yij[ (banks[i], banks[j]) ] + Ci[i] - Ci[j]) <= (M - cte_j),\n",
        "                         ctname = \"C_\" + banks[i] + \"_\" + banks[j] + \"_2\")"
      ],
      "metadata": {
        "id": "B-_cVdNG82JX"
      },
      "execution_count": 20,
      "outputs": []
    },
    {
      "cell_type": "code",
      "source": [
        "model.add_constraint(Ci[0] == 0)"
      ],
      "metadata": {
        "colab": {
          "base_uri": "https://localhost:8080/"
        },
        "id": "QfEs1cI8t6Vj",
        "outputId": "7bf9aee3-f0ce-4bed-fa20-aef76fb1b618"
      },
      "execution_count": 21,
      "outputs": [
        {
          "output_type": "execute_result",
          "data": {
            "text/plain": [
              "docplex.mp.LinearConstraint[](C_0,EQ,0)"
            ]
          },
          "metadata": {},
          "execution_count": 21
        }
      ]
    },
    {
      "cell_type": "markdown",
      "source": [
        "### Funcional"
      ],
      "metadata": {
        "id": "lEv91wnATq8J"
      }
    },
    {
      "cell_type": "code",
      "source": [
        "model.minimize(model.sum(distances[i[0]][i[1]] * Yij[i] for i in Yij_duplas))"
      ],
      "metadata": {
        "id": "AO0wo36iToqP"
      },
      "execution_count": 22,
      "outputs": []
    },
    {
      "cell_type": "markdown",
      "source": [
        "### Resumen del modelo"
      ],
      "metadata": {
        "id": "aI0tJq6PWhm4"
      }
    },
    {
      "cell_type": "code",
      "source": [
        "print(model.statistics)"
      ],
      "metadata": {
        "colab": {
          "base_uri": "https://localhost:8080/"
        },
        "id": "IbO2GOyeilDZ",
        "outputId": "67594aab-c5eb-49e7-c445-bb822250c099"
      },
      "execution_count": 23,
      "outputs": [
        {
          "output_type": "stream",
          "name": "stdout",
          "text": [
            " - number of variables: 131\n",
            "   - binary=110, integer=0, continuous=21\n",
            " - number of constraints: 313\n",
            "   - linear=313\n"
          ]
        }
      ]
    },
    {
      "cell_type": "code",
      "source": [
        "print(model.export_to_string())"
      ],
      "metadata": {
        "colab": {
          "base_uri": "https://localhost:8080/"
        },
        "id": "ZHxwS7xjWjMo",
        "outputId": "3e928f6c-a823-4ecf-bf6c-fa023c35ca14"
      },
      "execution_count": 24,
      "outputs": [
        {
          "output_type": "stream",
          "name": "stdout",
          "text": [
            "\\ This file has been generated by DOcplex\n",
            "\\ ENCODING=ISO-8859-1\n",
            "\\Problem name: TSP\n",
            "\n",
            "Minimize\n",
            " obj: 80 Y_0_A + 88 Y_0_B + 19 Y_0_C + 30 Y_0_D + 43 Y_0_E + 21 Y_0_F + 58 Y_0_G\n",
            "      + 87 Y_0_H + 83 Y_0_I + 7 Y_0_J + 80 Y_A_0 + 32 Y_A_B + 14 Y_A_C + 3 Y_A_D\n",
            "      + 88 Y_A_E + 92 Y_A_F + 55 Y_A_G + 18 Y_A_H + 42 Y_A_I + 70 Y_A_J\n",
            "      + 88 Y_B_0 + 32 Y_B_A + 92 Y_B_C + 3 Y_B_D + 11 Y_B_E + 46 Y_B_F\n",
            "      + 28 Y_B_G + 43 Y_B_H + 75 Y_B_I + 64 Y_B_J + 19 Y_C_0 + 14 Y_C_A\n",
            "      + 92 Y_C_B + 91 Y_C_D + 42 Y_C_E + 23 Y_C_F + 100 Y_C_G + 41 Y_C_H\n",
            "      + 38 Y_C_I + 35 Y_C_J + 30 Y_D_0 + 3 Y_D_A + 3 Y_D_B + 91 Y_D_C + 41 Y_D_E\n",
            "      + 31 Y_D_F + 35 Y_D_G + 18 Y_D_H + 94 Y_D_I + 84 Y_D_J + 43 Y_E_0\n",
            "      + 88 Y_E_A + 11 Y_E_B + 42 Y_E_C + 41 Y_E_D + 79 Y_E_F + 66 Y_E_G\n",
            "      + 22 Y_E_H + 48 Y_E_I + 61 Y_E_J + 21 Y_F_0 + 92 Y_F_A + 46 Y_F_B\n",
            "      + 23 Y_F_C + 31 Y_F_D + 79 Y_F_E + 85 Y_F_G + 32 Y_F_H + 93 Y_F_I\n",
            "      + 84 Y_F_J + 58 Y_G_0 + 55 Y_G_A + 28 Y_G_B + 100 Y_G_C + 35 Y_G_D\n",
            "      + 66 Y_G_E + 85 Y_G_F + 90 Y_G_H + 100 Y_G_I + 13 Y_G_J + 87 Y_H_0\n",
            "      + 18 Y_H_A + 43 Y_H_B + 41 Y_H_C + 18 Y_H_D + 22 Y_H_E + 32 Y_H_F\n",
            "      + 90 Y_H_G + 42 Y_H_I + 70 Y_H_J + 83 Y_I_0 + 42 Y_I_A + 75 Y_I_B\n",
            "      + 38 Y_I_C + 94 Y_I_D + 48 Y_I_E + 93 Y_I_F + 100 Y_I_G + 42 Y_I_H\n",
            "      + 60 Y_I_J + 7 Y_J_0 + 70 Y_J_A + 64 Y_J_B + 35 Y_J_C + 84 Y_J_D\n",
            "      + 61 Y_J_E + 84 Y_J_F + 13 Y_J_G + 70 Y_J_H + 60 Y_J_I\n",
            "Subject To\n",
            " sumatoriaSalidaDa1_0: Y_0_A + Y_0_B + Y_0_C + Y_0_D + Y_0_E + Y_0_F + Y_0_G\n",
            "                       + Y_0_H + Y_0_I + Y_0_J = 1\n",
            " sumatoriaSalidaDa1_A: Y_A_0 + Y_A_B + Y_A_C + Y_A_D + Y_A_E + Y_A_F + Y_A_G\n",
            "                       + Y_A_H + Y_A_I + Y_A_J = 1\n",
            " sumatoriaSalidaDa1_B: Y_B_0 + Y_B_A + Y_B_C + Y_B_D + Y_B_E + Y_B_F + Y_B_G\n",
            "                       + Y_B_H + Y_B_I + Y_B_J = 1\n",
            " sumatoriaSalidaDa1_C: Y_C_0 + Y_C_A + Y_C_B + Y_C_D + Y_C_E + Y_C_F + Y_C_G\n",
            "                       + Y_C_H + Y_C_I + Y_C_J = 1\n",
            " sumatoriaSalidaDa1_D: Y_D_0 + Y_D_A + Y_D_B + Y_D_C + Y_D_E + Y_D_F + Y_D_G\n",
            "                       + Y_D_H + Y_D_I + Y_D_J = 1\n",
            " sumatoriaSalidaDa1_E: Y_E_0 + Y_E_A + Y_E_B + Y_E_C + Y_E_D + Y_E_F + Y_E_G\n",
            "                       + Y_E_H + Y_E_I + Y_E_J = 1\n",
            " sumatoriaSalidaDa1_F: Y_F_0 + Y_F_A + Y_F_B + Y_F_C + Y_F_D + Y_F_E + Y_F_G\n",
            "                       + Y_F_H + Y_F_I + Y_F_J = 1\n",
            " sumatoriaSalidaDa1_G: Y_G_0 + Y_G_A + Y_G_B + Y_G_C + Y_G_D + Y_G_E + Y_G_F\n",
            "                       + Y_G_H + Y_G_I + Y_G_J = 1\n",
            " sumatoriaSalidaDa1_H: Y_H_0 + Y_H_A + Y_H_B + Y_H_C + Y_H_D + Y_H_E + Y_H_F\n",
            "                       + Y_H_G + Y_H_I + Y_H_J = 1\n",
            " sumatoriaSalidaDa1_I: Y_I_0 + Y_I_A + Y_I_B + Y_I_C + Y_I_D + Y_I_E + Y_I_F\n",
            "                       + Y_I_G + Y_I_H + Y_I_J = 1\n",
            " sumatoriaSalidaDa1_J: Y_J_0 + Y_J_A + Y_J_B + Y_J_C + Y_J_D + Y_J_E + Y_J_F\n",
            "                       + Y_J_G + Y_J_H + Y_J_I = 1\n",
            " sumatoriaEntradaDa1_0: Y_A_0 + Y_B_0 + Y_C_0 + Y_D_0 + Y_E_0 + Y_F_0 + Y_G_0\n",
            "                        + Y_H_0 + Y_I_0 + Y_J_0 = 1\n",
            " sumatoriaEntradaDa1_A: Y_0_A + Y_B_A + Y_C_A + Y_D_A + Y_E_A + Y_F_A + Y_G_A\n",
            "                        + Y_H_A + Y_I_A + Y_J_A = 1\n",
            " sumatoriaEntradaDa1_B: Y_0_B + Y_A_B + Y_C_B + Y_D_B + Y_E_B + Y_F_B + Y_G_B\n",
            "                        + Y_H_B + Y_I_B + Y_J_B = 1\n",
            " sumatoriaEntradaDa1_C: Y_0_C + Y_A_C + Y_B_C + Y_D_C + Y_E_C + Y_F_C + Y_G_C\n",
            "                        + Y_H_C + Y_I_C + Y_J_C = 1\n",
            " sumatoriaEntradaDa1_D: Y_0_D + Y_A_D + Y_B_D + Y_C_D + Y_E_D + Y_F_D + Y_G_D\n",
            "                        + Y_H_D + Y_I_D + Y_J_D = 1\n",
            " sumatoriaEntradaDa1_E: Y_0_E + Y_A_E + Y_B_E + Y_C_E + Y_D_E + Y_F_E + Y_G_E\n",
            "                        + Y_H_E + Y_I_E + Y_J_E = 1\n",
            " sumatoriaEntradaDa1_F: Y_0_F + Y_A_F + Y_B_F + Y_C_F + Y_D_F + Y_E_F + Y_G_F\n",
            "                        + Y_H_F + Y_I_F + Y_J_F = 1\n",
            " sumatoriaEntradaDa1_G: Y_0_G + Y_A_G + Y_B_G + Y_C_G + Y_D_G + Y_E_G + Y_F_G\n",
            "                        + Y_H_G + Y_I_G + Y_J_G = 1\n",
            " sumatoriaEntradaDa1_H: Y_0_H + Y_A_H + Y_B_H + Y_C_H + Y_D_H + Y_E_H + Y_F_H\n",
            "                        + Y_G_H + Y_I_H + Y_J_H = 1\n",
            " sumatoriaEntradaDa1_I: Y_0_I + Y_A_I + Y_B_I + Y_C_I + Y_D_I + Y_E_I + Y_F_I\n",
            "                        + Y_G_I + Y_H_I + Y_J_I = 1\n",
            " sumatoriaEntradaDa1_J: Y_0_J + Y_A_J + Y_B_J + Y_C_J + Y_D_J + Y_E_J + Y_F_J\n",
            "                        + Y_G_J + Y_H_J + Y_I_J = 1\n",
            " U_1_2: U_A - U_B + 10 Y_A_B <= 9\n",
            " U_1_3: U_A - U_C + 10 Y_A_C <= 9\n",
            " U_1_4: U_A - U_D + 10 Y_A_D <= 9\n",
            " U_1_5: U_A - U_E + 10 Y_A_E <= 9\n",
            " U_1_6: U_A - U_F + 10 Y_A_F <= 9\n",
            " U_1_7: U_A - U_G + 10 Y_A_G <= 9\n",
            " U_1_8: U_A - U_H + 10 Y_A_H <= 9\n",
            " U_1_9: U_A - U_I + 10 Y_A_I <= 9\n",
            " U_1_10: U_A - U_J + 10 Y_A_J <= 9\n",
            " U_2_1: - U_A + U_B + 10 Y_B_A <= 9\n",
            " U_2_3: U_B - U_C + 10 Y_B_C <= 9\n",
            " U_2_4: U_B - U_D + 10 Y_B_D <= 9\n",
            " U_2_5: U_B - U_E + 10 Y_B_E <= 9\n",
            " U_2_6: U_B - U_F + 10 Y_B_F <= 9\n",
            " U_2_7: U_B - U_G + 10 Y_B_G <= 9\n",
            " U_2_8: U_B - U_H + 10 Y_B_H <= 9\n",
            " U_2_9: U_B - U_I + 10 Y_B_I <= 9\n",
            " U_2_10: U_B - U_J + 10 Y_B_J <= 9\n",
            " U_3_1: - U_A + U_C + 10 Y_C_A <= 9\n",
            " U_3_2: - U_B + U_C + 10 Y_C_B <= 9\n",
            " U_3_4: U_C - U_D + 10 Y_C_D <= 9\n",
            " U_3_5: U_C - U_E + 10 Y_C_E <= 9\n",
            " U_3_6: U_C - U_F + 10 Y_C_F <= 9\n",
            " U_3_7: U_C - U_G + 10 Y_C_G <= 9\n",
            " U_3_8: U_C - U_H + 10 Y_C_H <= 9\n",
            " U_3_9: U_C - U_I + 10 Y_C_I <= 9\n",
            " U_3_10: U_C - U_J + 10 Y_C_J <= 9\n",
            " U_4_1: - U_A + U_D + 10 Y_D_A <= 9\n",
            " U_4_2: - U_B + U_D + 10 Y_D_B <= 9\n",
            " U_4_3: - U_C + U_D + 10 Y_D_C <= 9\n",
            " U_4_5: U_D - U_E + 10 Y_D_E <= 9\n",
            " U_4_6: U_D - U_F + 10 Y_D_F <= 9\n",
            " U_4_7: U_D - U_G + 10 Y_D_G <= 9\n",
            " U_4_8: U_D - U_H + 10 Y_D_H <= 9\n",
            " U_4_9: U_D - U_I + 10 Y_D_I <= 9\n",
            " U_4_10: U_D - U_J + 10 Y_D_J <= 9\n",
            " U_5_1: - U_A + U_E + 10 Y_E_A <= 9\n",
            " U_5_2: - U_B + U_E + 10 Y_E_B <= 9\n",
            " U_5_3: - U_C + U_E + 10 Y_E_C <= 9\n",
            " U_5_4: - U_D + U_E + 10 Y_E_D <= 9\n",
            " U_5_6: U_E - U_F + 10 Y_E_F <= 9\n",
            " U_5_7: U_E - U_G + 10 Y_E_G <= 9\n",
            " U_5_8: U_E - U_H + 10 Y_E_H <= 9\n",
            " U_5_9: U_E - U_I + 10 Y_E_I <= 9\n",
            " U_5_10: U_E - U_J + 10 Y_E_J <= 9\n",
            " U_6_1: - U_A + U_F + 10 Y_F_A <= 9\n",
            " U_6_2: - U_B + U_F + 10 Y_F_B <= 9\n",
            " U_6_3: - U_C + U_F + 10 Y_F_C <= 9\n",
            " U_6_4: - U_D + U_F + 10 Y_F_D <= 9\n",
            " U_6_5: - U_E + U_F + 10 Y_F_E <= 9\n",
            " U_6_7: U_F - U_G + 10 Y_F_G <= 9\n",
            " U_6_8: U_F - U_H + 10 Y_F_H <= 9\n",
            " U_6_9: U_F - U_I + 10 Y_F_I <= 9\n",
            " U_6_10: U_F - U_J + 10 Y_F_J <= 9\n",
            " U_7_1: - U_A + U_G + 10 Y_G_A <= 9\n",
            " U_7_2: - U_B + U_G + 10 Y_G_B <= 9\n",
            " U_7_3: - U_C + U_G + 10 Y_G_C <= 9\n",
            " U_7_4: - U_D + U_G + 10 Y_G_D <= 9\n",
            " U_7_5: - U_E + U_G + 10 Y_G_E <= 9\n",
            " U_7_6: - U_F + U_G + 10 Y_G_F <= 9\n",
            " U_7_8: U_G - U_H + 10 Y_G_H <= 9\n",
            " U_7_9: U_G - U_I + 10 Y_G_I <= 9\n",
            " U_7_10: U_G - U_J + 10 Y_G_J <= 9\n",
            " U_8_1: - U_A + U_H + 10 Y_H_A <= 9\n",
            " U_8_2: - U_B + U_H + 10 Y_H_B <= 9\n",
            " U_8_3: - U_C + U_H + 10 Y_H_C <= 9\n",
            " U_8_4: - U_D + U_H + 10 Y_H_D <= 9\n",
            " U_8_5: - U_E + U_H + 10 Y_H_E <= 9\n",
            " U_8_6: - U_F + U_H + 10 Y_H_F <= 9\n",
            " U_8_7: - U_G + U_H + 10 Y_H_G <= 9\n",
            " U_8_9: U_H - U_I + 10 Y_H_I <= 9\n",
            " U_8_10: U_H - U_J + 10 Y_H_J <= 9\n",
            " U_9_1: - U_A + U_I + 10 Y_I_A <= 9\n",
            " U_9_2: - U_B + U_I + 10 Y_I_B <= 9\n",
            " U_9_3: - U_C + U_I + 10 Y_I_C <= 9\n",
            " U_9_4: - U_D + U_I + 10 Y_I_D <= 9\n",
            " U_9_5: - U_E + U_I + 10 Y_I_E <= 9\n",
            " U_9_6: - U_F + U_I + 10 Y_I_F <= 9\n",
            " U_9_7: - U_G + U_I + 10 Y_I_G <= 9\n",
            " U_9_8: - U_H + U_I + 10 Y_I_H <= 9\n",
            " U_9_10: U_I - U_J + 10 Y_I_J <= 9\n",
            " U_10_1: - U_A + U_J + 10 Y_J_A <= 9\n",
            " U_10_2: - U_B + U_J + 10 Y_J_B <= 9\n",
            " U_10_3: - U_C + U_J + 10 Y_J_C <= 9\n",
            " U_10_4: - U_D + U_J + 10 Y_J_D <= 9\n",
            " U_10_5: - U_E + U_J + 10 Y_J_E <= 9\n",
            " U_10_6: - U_F + U_J + 10 Y_J_F <= 9\n",
            " U_10_7: - U_G + U_J + 10 Y_J_G <= 9\n",
            " U_10_8: - U_H + U_J + 10 Y_J_H <= 9\n",
            " U_10_9: - U_I + U_J + 10 Y_J_I <= 9\n",
            " C_0_A_1: 205 Y_0_A - C_0 + C_A <= 225\n",
            " C_0_A_2: 205 Y_0_A + C_0 - C_A <= 185\n",
            " C_0_B_1: 205 Y_0_B - C_0 + C_B <= 175\n",
            " C_0_B_2: 205 Y_0_B + C_0 - C_B <= 235\n",
            " C_0_C_1: 205 Y_0_C - C_0 + C_C <= 245\n",
            " C_0_C_2: 205 Y_0_C + C_0 - C_C <= 165\n",
            " C_0_D_1: 205 Y_0_D - C_0 + C_D <= 220\n",
            " C_0_D_2: 205 Y_0_D + C_0 - C_D <= 190\n",
            " C_0_E_1: 205 Y_0_E - C_0 + C_E <= 185\n",
            " C_0_E_2: 205 Y_0_E + C_0 - C_E <= 225\n",
            " C_0_F_1: 205 Y_0_F - C_0 + C_F <= 180\n",
            " C_0_F_2: 205 Y_0_F + C_0 - C_F <= 230\n",
            " C_0_G_1: 205 Y_0_G - C_0 + C_G <= 215\n",
            " C_0_G_2: 205 Y_0_G + C_0 - C_G <= 195\n",
            " C_0_H_1: 205 Y_0_H - C_0 + C_H <= 185\n",
            " C_0_H_2: 205 Y_0_H + C_0 - C_H <= 225\n",
            " C_0_I_1: 205 Y_0_I - C_0 + C_I <= 225\n",
            " C_0_I_2: 205 Y_0_I + C_0 - C_I <= 185\n",
            " C_0_J_1: 205 Y_0_J - C_0 + C_J <= 210\n",
            " C_0_J_2: 205 Y_0_J + C_0 - C_J <= 200\n",
            " C_A_B_1: 205 Y_A_B - C_A + C_B <= 175\n",
            " C_A_B_2: 205 Y_A_B + C_A - C_B <= 235\n",
            " C_A_C_1: 205 Y_A_C - C_A + C_C <= 245\n",
            " C_A_C_2: 205 Y_A_C + C_A - C_C <= 165\n",
            " C_A_D_1: 205 Y_A_D - C_A + C_D <= 220\n",
            " C_A_D_2: 205 Y_A_D + C_A - C_D <= 190\n",
            " C_A_E_1: 205 Y_A_E - C_A + C_E <= 185\n",
            " C_A_E_2: 205 Y_A_E + C_A - C_E <= 225\n",
            " C_A_F_1: 205 Y_A_F - C_A + C_F <= 180\n",
            " C_A_F_2: 205 Y_A_F + C_A - C_F <= 230\n",
            " C_A_G_1: 205 Y_A_G - C_A + C_G <= 215\n",
            " C_A_G_2: 205 Y_A_G + C_A - C_G <= 195\n",
            " C_A_H_1: 205 Y_A_H - C_A + C_H <= 185\n",
            " C_A_H_2: 205 Y_A_H + C_A - C_H <= 225\n",
            " C_A_I_1: 205 Y_A_I - C_A + C_I <= 225\n",
            " C_A_I_2: 205 Y_A_I + C_A - C_I <= 185\n",
            " C_A_J_1: 205 Y_A_J - C_A + C_J <= 210\n",
            " C_A_J_2: 205 Y_A_J + C_A - C_J <= 200\n",
            " C_B_A_1: 205 Y_B_A + C_A - C_B <= 225\n",
            " C_B_A_2: 205 Y_B_A - C_A + C_B <= 185\n",
            " C_B_C_1: 205 Y_B_C - C_B + C_C <= 245\n",
            " C_B_C_2: 205 Y_B_C + C_B - C_C <= 165\n",
            " C_B_D_1: 205 Y_B_D - C_B + C_D <= 220\n",
            " C_B_D_2: 205 Y_B_D + C_B - C_D <= 190\n",
            " C_B_E_1: 205 Y_B_E - C_B + C_E <= 185\n",
            " C_B_E_2: 205 Y_B_E + C_B - C_E <= 225\n",
            " C_B_F_1: 205 Y_B_F - C_B + C_F <= 180\n",
            " C_B_F_2: 205 Y_B_F + C_B - C_F <= 230\n",
            " C_B_G_1: 205 Y_B_G - C_B + C_G <= 215\n",
            " C_B_G_2: 205 Y_B_G + C_B - C_G <= 195\n",
            " C_B_H_1: 205 Y_B_H - C_B + C_H <= 185\n",
            " C_B_H_2: 205 Y_B_H + C_B - C_H <= 225\n",
            " C_B_I_1: 205 Y_B_I - C_B + C_I <= 225\n",
            " C_B_I_2: 205 Y_B_I + C_B - C_I <= 185\n",
            " C_B_J_1: 205 Y_B_J - C_B + C_J <= 210\n",
            " C_B_J_2: 205 Y_B_J + C_B - C_J <= 200\n",
            " C_C_A_1: 205 Y_C_A + C_A - C_C <= 225\n",
            " C_C_A_2: 205 Y_C_A - C_A + C_C <= 185\n",
            " C_C_B_1: 205 Y_C_B + C_B - C_C <= 175\n",
            " C_C_B_2: 205 Y_C_B - C_B + C_C <= 235\n",
            " C_C_D_1: 205 Y_C_D - C_C + C_D <= 220\n",
            " C_C_D_2: 205 Y_C_D + C_C - C_D <= 190\n",
            " C_C_E_1: 205 Y_C_E - C_C + C_E <= 185\n",
            " C_C_E_2: 205 Y_C_E + C_C - C_E <= 225\n",
            " C_C_F_1: 205 Y_C_F - C_C + C_F <= 180\n",
            " C_C_F_2: 205 Y_C_F + C_C - C_F <= 230\n",
            " C_C_G_1: 205 Y_C_G - C_C + C_G <= 215\n",
            " C_C_G_2: 205 Y_C_G + C_C - C_G <= 195\n",
            " C_C_H_1: 205 Y_C_H - C_C + C_H <= 185\n",
            " C_C_H_2: 205 Y_C_H + C_C - C_H <= 225\n",
            " C_C_I_1: 205 Y_C_I - C_C + C_I <= 225\n",
            " C_C_I_2: 205 Y_C_I + C_C - C_I <= 185\n",
            " C_C_J_1: 205 Y_C_J - C_C + C_J <= 210\n",
            " C_C_J_2: 205 Y_C_J + C_C - C_J <= 200\n",
            " C_D_A_1: 205 Y_D_A + C_A - C_D <= 225\n",
            " C_D_A_2: 205 Y_D_A - C_A + C_D <= 185\n",
            " C_D_B_1: 205 Y_D_B + C_B - C_D <= 175\n",
            " C_D_B_2: 205 Y_D_B - C_B + C_D <= 235\n",
            " C_D_C_1: 205 Y_D_C + C_C - C_D <= 245\n",
            " C_D_C_2: 205 Y_D_C - C_C + C_D <= 165\n",
            " C_D_E_1: 205 Y_D_E - C_D + C_E <= 185\n",
            " C_D_E_2: 205 Y_D_E + C_D - C_E <= 225\n",
            " C_D_F_1: 205 Y_D_F - C_D + C_F <= 180\n",
            " C_D_F_2: 205 Y_D_F + C_D - C_F <= 230\n",
            " C_D_G_1: 205 Y_D_G - C_D + C_G <= 215\n",
            " C_D_G_2: 205 Y_D_G + C_D - C_G <= 195\n",
            " C_D_H_1: 205 Y_D_H - C_D + C_H <= 185\n",
            " C_D_H_2: 205 Y_D_H + C_D - C_H <= 225\n",
            " C_D_I_1: 205 Y_D_I - C_D + C_I <= 225\n",
            " C_D_I_2: 205 Y_D_I + C_D - C_I <= 185\n",
            " C_D_J_1: 205 Y_D_J - C_D + C_J <= 210\n",
            " C_D_J_2: 205 Y_D_J + C_D - C_J <= 200\n",
            " C_E_A_1: 205 Y_E_A + C_A - C_E <= 225\n",
            " C_E_A_2: 205 Y_E_A - C_A + C_E <= 185\n",
            " C_E_B_1: 205 Y_E_B + C_B - C_E <= 175\n",
            " C_E_B_2: 205 Y_E_B - C_B + C_E <= 235\n",
            " C_E_C_1: 205 Y_E_C + C_C - C_E <= 245\n",
            " C_E_C_2: 205 Y_E_C - C_C + C_E <= 165\n",
            " C_E_D_1: 205 Y_E_D + C_D - C_E <= 220\n",
            " C_E_D_2: 205 Y_E_D - C_D + C_E <= 190\n",
            " C_E_F_1: 205 Y_E_F - C_E + C_F <= 180\n",
            " C_E_F_2: 205 Y_E_F + C_E - C_F <= 230\n",
            " C_E_G_1: 205 Y_E_G - C_E + C_G <= 215\n",
            " C_E_G_2: 205 Y_E_G + C_E - C_G <= 195\n",
            " C_E_H_1: 205 Y_E_H - C_E + C_H <= 185\n",
            " C_E_H_2: 205 Y_E_H + C_E - C_H <= 225\n",
            " C_E_I_1: 205 Y_E_I - C_E + C_I <= 225\n",
            " C_E_I_2: 205 Y_E_I + C_E - C_I <= 185\n",
            " C_E_J_1: 205 Y_E_J - C_E + C_J <= 210\n",
            " C_E_J_2: 205 Y_E_J + C_E - C_J <= 200\n",
            " C_F_A_1: 205 Y_F_A + C_A - C_F <= 225\n",
            " C_F_A_2: 205 Y_F_A - C_A + C_F <= 185\n",
            " C_F_B_1: 205 Y_F_B + C_B - C_F <= 175\n",
            " C_F_B_2: 205 Y_F_B - C_B + C_F <= 235\n",
            " C_F_C_1: 205 Y_F_C + C_C - C_F <= 245\n",
            " C_F_C_2: 205 Y_F_C - C_C + C_F <= 165\n",
            " C_F_D_1: 205 Y_F_D + C_D - C_F <= 220\n",
            " C_F_D_2: 205 Y_F_D - C_D + C_F <= 190\n",
            " C_F_E_1: 205 Y_F_E + C_E - C_F <= 185\n",
            " C_F_E_2: 205 Y_F_E - C_E + C_F <= 225\n",
            " C_F_G_1: 205 Y_F_G - C_F + C_G <= 215\n",
            " C_F_G_2: 205 Y_F_G + C_F - C_G <= 195\n",
            " C_F_H_1: 205 Y_F_H - C_F + C_H <= 185\n",
            " C_F_H_2: 205 Y_F_H + C_F - C_H <= 225\n",
            " C_F_I_1: 205 Y_F_I - C_F + C_I <= 225\n",
            " C_F_I_2: 205 Y_F_I + C_F - C_I <= 185\n",
            " C_F_J_1: 205 Y_F_J - C_F + C_J <= 210\n",
            " C_F_J_2: 205 Y_F_J + C_F - C_J <= 200\n",
            " C_G_A_1: 205 Y_G_A + C_A - C_G <= 225\n",
            " C_G_A_2: 205 Y_G_A - C_A + C_G <= 185\n",
            " C_G_B_1: 205 Y_G_B + C_B - C_G <= 175\n",
            " C_G_B_2: 205 Y_G_B - C_B + C_G <= 235\n",
            " C_G_C_1: 205 Y_G_C + C_C - C_G <= 245\n",
            " C_G_C_2: 205 Y_G_C - C_C + C_G <= 165\n",
            " C_G_D_1: 205 Y_G_D + C_D - C_G <= 220\n",
            " C_G_D_2: 205 Y_G_D - C_D + C_G <= 190\n",
            " C_G_E_1: 205 Y_G_E + C_E - C_G <= 185\n",
            " C_G_E_2: 205 Y_G_E - C_E + C_G <= 225\n",
            " C_G_F_1: 205 Y_G_F + C_F - C_G <= 180\n",
            " C_G_F_2: 205 Y_G_F - C_F + C_G <= 230\n",
            " C_G_H_1: 205 Y_G_H - C_G + C_H <= 185\n",
            " C_G_H_2: 205 Y_G_H + C_G - C_H <= 225\n",
            " C_G_I_1: 205 Y_G_I - C_G + C_I <= 225\n",
            " C_G_I_2: 205 Y_G_I + C_G - C_I <= 185\n",
            " C_G_J_1: 205 Y_G_J - C_G + C_J <= 210\n",
            " C_G_J_2: 205 Y_G_J + C_G - C_J <= 200\n",
            " C_H_A_1: 205 Y_H_A + C_A - C_H <= 225\n",
            " C_H_A_2: 205 Y_H_A - C_A + C_H <= 185\n",
            " C_H_B_1: 205 Y_H_B + C_B - C_H <= 175\n",
            " C_H_B_2: 205 Y_H_B - C_B + C_H <= 235\n",
            " C_H_C_1: 205 Y_H_C + C_C - C_H <= 245\n",
            " C_H_C_2: 205 Y_H_C - C_C + C_H <= 165\n",
            " C_H_D_1: 205 Y_H_D + C_D - C_H <= 220\n",
            " C_H_D_2: 205 Y_H_D - C_D + C_H <= 190\n",
            " C_H_E_1: 205 Y_H_E + C_E - C_H <= 185\n",
            " C_H_E_2: 205 Y_H_E - C_E + C_H <= 225\n",
            " C_H_F_1: 205 Y_H_F + C_F - C_H <= 180\n",
            " C_H_F_2: 205 Y_H_F - C_F + C_H <= 230\n",
            " C_H_G_1: 205 Y_H_G + C_G - C_H <= 215\n",
            " C_H_G_2: 205 Y_H_G - C_G + C_H <= 195\n",
            " C_H_I_1: 205 Y_H_I - C_H + C_I <= 225\n",
            " C_H_I_2: 205 Y_H_I + C_H - C_I <= 185\n",
            " C_H_J_1: 205 Y_H_J - C_H + C_J <= 210\n",
            " C_H_J_2: 205 Y_H_J + C_H - C_J <= 200\n",
            " C_I_A_1: 205 Y_I_A + C_A - C_I <= 225\n",
            " C_I_A_2: 205 Y_I_A - C_A + C_I <= 185\n",
            " C_I_B_1: 205 Y_I_B + C_B - C_I <= 175\n",
            " C_I_B_2: 205 Y_I_B - C_B + C_I <= 235\n",
            " C_I_C_1: 205 Y_I_C + C_C - C_I <= 245\n",
            " C_I_C_2: 205 Y_I_C - C_C + C_I <= 165\n",
            " C_I_D_1: 205 Y_I_D + C_D - C_I <= 220\n",
            " C_I_D_2: 205 Y_I_D - C_D + C_I <= 190\n",
            " C_I_E_1: 205 Y_I_E + C_E - C_I <= 185\n",
            " C_I_E_2: 205 Y_I_E - C_E + C_I <= 225\n",
            " C_I_F_1: 205 Y_I_F + C_F - C_I <= 180\n",
            " C_I_F_2: 205 Y_I_F - C_F + C_I <= 230\n",
            " C_I_G_1: 205 Y_I_G + C_G - C_I <= 215\n",
            " C_I_G_2: 205 Y_I_G - C_G + C_I <= 195\n",
            " C_I_H_1: 205 Y_I_H + C_H - C_I <= 185\n",
            " C_I_H_2: 205 Y_I_H - C_H + C_I <= 225\n",
            " C_I_J_1: 205 Y_I_J - C_I + C_J <= 210\n",
            " C_I_J_2: 205 Y_I_J + C_I - C_J <= 200\n",
            " C_J_A_1: 205 Y_J_A + C_A - C_J <= 225\n",
            " C_J_A_2: 205 Y_J_A - C_A + C_J <= 185\n",
            " C_J_B_1: 205 Y_J_B + C_B - C_J <= 175\n",
            " C_J_B_2: 205 Y_J_B - C_B + C_J <= 235\n",
            " C_J_C_1: 205 Y_J_C + C_C - C_J <= 245\n",
            " C_J_C_2: 205 Y_J_C - C_C + C_J <= 165\n",
            " C_J_D_1: 205 Y_J_D + C_D - C_J <= 220\n",
            " C_J_D_2: 205 Y_J_D - C_D + C_J <= 190\n",
            " C_J_E_1: 205 Y_J_E + C_E - C_J <= 185\n",
            " C_J_E_2: 205 Y_J_E - C_E + C_J <= 225\n",
            " C_J_F_1: 205 Y_J_F + C_F - C_J <= 180\n",
            " C_J_F_2: 205 Y_J_F - C_F + C_J <= 230\n",
            " C_J_G_1: 205 Y_J_G + C_G - C_J <= 215\n",
            " C_J_G_2: 205 Y_J_G - C_G + C_J <= 195\n",
            " C_J_H_1: 205 Y_J_H + C_H - C_J <= 185\n",
            " C_J_H_2: 205 Y_J_H - C_H + C_J <= 225\n",
            " C_J_I_1: 205 Y_J_I + C_I - C_J <= 225\n",
            " C_J_I_2: 205 Y_J_I - C_I + C_J <= 185\n",
            " c313: C_0 = 0\n",
            "\n",
            "Bounds\n",
            " 1 <= U_A <= 10\n",
            " 1 <= U_B <= 10\n",
            " 1 <= U_C <= 10\n",
            " 1 <= U_D <= 10\n",
            " 1 <= U_E <= 10\n",
            " 1 <= U_F <= 10\n",
            " 1 <= U_G <= 10\n",
            " 1 <= U_H <= 10\n",
            " 1 <= U_I <= 10\n",
            " 1 <= U_J <= 10\n",
            " 0 <= Y_0_A <= 1\n",
            " 0 <= Y_0_B <= 1\n",
            " 0 <= Y_0_C <= 1\n",
            " 0 <= Y_0_D <= 1\n",
            " 0 <= Y_0_E <= 1\n",
            " 0 <= Y_0_F <= 1\n",
            " 0 <= Y_0_G <= 1\n",
            " 0 <= Y_0_H <= 1\n",
            " 0 <= Y_0_I <= 1\n",
            " 0 <= Y_0_J <= 1\n",
            " 0 <= Y_A_0 <= 1\n",
            " 0 <= Y_A_B <= 1\n",
            " 0 <= Y_A_C <= 1\n",
            " 0 <= Y_A_D <= 1\n",
            " 0 <= Y_A_E <= 1\n",
            " 0 <= Y_A_F <= 1\n",
            " 0 <= Y_A_G <= 1\n",
            " 0 <= Y_A_H <= 1\n",
            " 0 <= Y_A_I <= 1\n",
            " 0 <= Y_A_J <= 1\n",
            " 0 <= Y_B_0 <= 1\n",
            " 0 <= Y_B_A <= 1\n",
            " 0 <= Y_B_C <= 1\n",
            " 0 <= Y_B_D <= 1\n",
            " 0 <= Y_B_E <= 1\n",
            " 0 <= Y_B_F <= 1\n",
            " 0 <= Y_B_G <= 1\n",
            " 0 <= Y_B_H <= 1\n",
            " 0 <= Y_B_I <= 1\n",
            " 0 <= Y_B_J <= 1\n",
            " 0 <= Y_C_0 <= 1\n",
            " 0 <= Y_C_A <= 1\n",
            " 0 <= Y_C_B <= 1\n",
            " 0 <= Y_C_D <= 1\n",
            " 0 <= Y_C_E <= 1\n",
            " 0 <= Y_C_F <= 1\n",
            " 0 <= Y_C_G <= 1\n",
            " 0 <= Y_C_H <= 1\n",
            " 0 <= Y_C_I <= 1\n",
            " 0 <= Y_C_J <= 1\n",
            " 0 <= Y_D_0 <= 1\n",
            " 0 <= Y_D_A <= 1\n",
            " 0 <= Y_D_B <= 1\n",
            " 0 <= Y_D_C <= 1\n",
            " 0 <= Y_D_E <= 1\n",
            " 0 <= Y_D_F <= 1\n",
            " 0 <= Y_D_G <= 1\n",
            " 0 <= Y_D_H <= 1\n",
            " 0 <= Y_D_I <= 1\n",
            " 0 <= Y_D_J <= 1\n",
            " 0 <= Y_E_0 <= 1\n",
            " 0 <= Y_E_A <= 1\n",
            " 0 <= Y_E_B <= 1\n",
            " 0 <= Y_E_C <= 1\n",
            " 0 <= Y_E_D <= 1\n",
            " 0 <= Y_E_F <= 1\n",
            " 0 <= Y_E_G <= 1\n",
            " 0 <= Y_E_H <= 1\n",
            " 0 <= Y_E_I <= 1\n",
            " 0 <= Y_E_J <= 1\n",
            " 0 <= Y_F_0 <= 1\n",
            " 0 <= Y_F_A <= 1\n",
            " 0 <= Y_F_B <= 1\n",
            " 0 <= Y_F_C <= 1\n",
            " 0 <= Y_F_D <= 1\n",
            " 0 <= Y_F_E <= 1\n",
            " 0 <= Y_F_G <= 1\n",
            " 0 <= Y_F_H <= 1\n",
            " 0 <= Y_F_I <= 1\n",
            " 0 <= Y_F_J <= 1\n",
            " 0 <= Y_G_0 <= 1\n",
            " 0 <= Y_G_A <= 1\n",
            " 0 <= Y_G_B <= 1\n",
            " 0 <= Y_G_C <= 1\n",
            " 0 <= Y_G_D <= 1\n",
            " 0 <= Y_G_E <= 1\n",
            " 0 <= Y_G_F <= 1\n",
            " 0 <= Y_G_H <= 1\n",
            " 0 <= Y_G_I <= 1\n",
            " 0 <= Y_G_J <= 1\n",
            " 0 <= Y_H_0 <= 1\n",
            " 0 <= Y_H_A <= 1\n",
            " 0 <= Y_H_B <= 1\n",
            " 0 <= Y_H_C <= 1\n",
            " 0 <= Y_H_D <= 1\n",
            " 0 <= Y_H_E <= 1\n",
            " 0 <= Y_H_F <= 1\n",
            " 0 <= Y_H_G <= 1\n",
            " 0 <= Y_H_I <= 1\n",
            " 0 <= Y_H_J <= 1\n",
            " 0 <= Y_I_0 <= 1\n",
            " 0 <= Y_I_A <= 1\n",
            " 0 <= Y_I_B <= 1\n",
            " 0 <= Y_I_C <= 1\n",
            " 0 <= Y_I_D <= 1\n",
            " 0 <= Y_I_E <= 1\n",
            " 0 <= Y_I_F <= 1\n",
            " 0 <= Y_I_G <= 1\n",
            " 0 <= Y_I_H <= 1\n",
            " 0 <= Y_I_J <= 1\n",
            " 0 <= Y_J_0 <= 1\n",
            " 0 <= Y_J_A <= 1\n",
            " 0 <= Y_J_B <= 1\n",
            " 0 <= Y_J_C <= 1\n",
            " 0 <= Y_J_D <= 1\n",
            " 0 <= Y_J_E <= 1\n",
            " 0 <= Y_J_F <= 1\n",
            " 0 <= Y_J_G <= 1\n",
            " 0 <= Y_J_H <= 1\n",
            " 0 <= Y_J_I <= 1\n",
            "       C_0 <= 60\n",
            "       C_A <= 60\n",
            "       C_B <= 60\n",
            "       C_C <= 60\n",
            "       C_D <= 60\n",
            "       C_E <= 60\n",
            "       C_F <= 60\n",
            "       C_G <= 60\n",
            "       C_H <= 60\n",
            "       C_I <= 60\n",
            "       C_J <= 60\n",
            "\n",
            "Binaries\n",
            " Y_0_A Y_0_B Y_0_C Y_0_D Y_0_E Y_0_F Y_0_G Y_0_H Y_0_I Y_0_J Y_A_0 Y_A_B Y_A_C\n",
            " Y_A_D Y_A_E Y_A_F Y_A_G Y_A_H Y_A_I Y_A_J Y_B_0 Y_B_A Y_B_C Y_B_D Y_B_E Y_B_F\n",
            " Y_B_G Y_B_H Y_B_I Y_B_J Y_C_0 Y_C_A Y_C_B Y_C_D Y_C_E Y_C_F Y_C_G Y_C_H Y_C_I\n",
            " Y_C_J Y_D_0 Y_D_A Y_D_B Y_D_C Y_D_E Y_D_F Y_D_G Y_D_H Y_D_I Y_D_J Y_E_0 Y_E_A\n",
            " Y_E_B Y_E_C Y_E_D Y_E_F Y_E_G Y_E_H Y_E_I Y_E_J Y_F_0 Y_F_A Y_F_B Y_F_C Y_F_D\n",
            " Y_F_E Y_F_G Y_F_H Y_F_I Y_F_J Y_G_0 Y_G_A Y_G_B Y_G_C Y_G_D Y_G_E Y_G_F Y_G_H\n",
            " Y_G_I Y_G_J Y_H_0 Y_H_A Y_H_B Y_H_C Y_H_D Y_H_E Y_H_F Y_H_G Y_H_I Y_H_J Y_I_0\n",
            " Y_I_A Y_I_B Y_I_C Y_I_D Y_I_E Y_I_F Y_I_G Y_I_H Y_I_J Y_J_0 Y_J_A Y_J_B Y_J_C\n",
            " Y_J_D Y_J_E Y_J_F Y_J_G Y_J_H Y_J_I\n",
            "End\n",
            "\n"
          ]
        }
      ]
    },
    {
      "cell_type": "markdown",
      "source": [
        "## Paso 4: Resuelvo con CPLEX"
      ],
      "metadata": {
        "id": "OiEDjKH_VS73"
      }
    },
    {
      "cell_type": "code",
      "source": [
        "solution = model.solve()"
      ],
      "metadata": {
        "colab": {
          "base_uri": "https://localhost:8080/"
        },
        "id": "Cr5APZIxXqvA",
        "outputId": "96324a81-da50-4532-a2aa-f9e0a4ce273c"
      },
      "execution_count": 25,
      "outputs": [
        {
          "output_type": "stream",
          "name": "stdout",
          "text": [
            "Version identifier: 22.1.1.0 | 2023-02-11 | 22d6266e5\n",
            "CPXPARAM_Read_DataCheck                          1\n",
            "Tried aggregator 1 time.\n",
            "MIP Presolve eliminated 9 rows and 5 columns.\n",
            "MIP Presolve modified 384 coefficients.\n",
            "Reduced MIP has 304 rows, 126 columns, and 1046 nonzeros.\n",
            "Reduced MIP has 106 binaries, 0 generals, 0 SOSs, and 0 indicators.\n",
            "Presolve time = 0.01 sec. (0.52 ticks)\n",
            "Probing time = 0.00 sec. (0.50 ticks)\n",
            "Cover probing fixed 0 vars, tightened 13 bounds.\n",
            "Tried aggregator 1 time.\n",
            "Detecting symmetries...\n",
            "MIP Presolve eliminated 9 rows and 0 columns.\n",
            "MIP Presolve modified 308 coefficients.\n",
            "Reduced MIP has 295 rows, 126 columns, and 1024 nonzeros.\n",
            "Reduced MIP has 106 binaries, 0 generals, 0 SOSs, and 0 indicators.\n",
            "Presolve time = 0.01 sec. (0.64 ticks)\n",
            "Probing time = 0.00 sec. (0.46 ticks)\n",
            "Cover probing fixed 0 vars, tightened 1 bounds.\n",
            "Clique table members: 151.\n",
            "MIP emphasis: balance optimality and feasibility.\n",
            "MIP search method: dynamic search.\n",
            "Parallel mode: deterministic, using up to 2 threads.\n",
            "Root relaxation solution time = 0.00 sec. (0.78 ticks)\n",
            "\n",
            "        Nodes                                         Cuts/\n",
            "   Node  Left     Objective  IInf  Best Integer    Best Bound    ItCnt     Gap\n",
            "\n",
            "*     0+    0                          681.0000        0.0000           100.00%\n",
            "      0     0      209.9167    17      681.0000      209.9167       42   69.18%\n",
            "      0     0      225.6500    23      681.0000      Cuts: 54       79   66.86%\n",
            "*     0+    0                          378.0000      225.6500            40.30%\n",
            "      0     0      235.2778    24      378.0000      Cuts: 27      105   37.76%\n",
            "      0     0      235.4000    25      378.0000      Cuts: 55      122   37.72%\n",
            "      0     0      235.6250    24      378.0000      Cuts: 26      132   37.67%\n",
            "      0     0      236.0000    23      378.0000      Cuts: 12      135   37.57%\n",
            "Detecting symmetries...\n",
            "      0     0      236.6667    25      378.0000      Cuts: 11      147   37.39%\n",
            "      0     0      237.0000    29      378.0000      Cuts: 12      162   37.30%\n",
            "      0     0      237.5000    28      378.0000      Cuts: 64      183   37.17%\n",
            "      0     0      237.5000    18      378.0000      Cuts: 10      190   37.17%\n",
            "      0     0      237.5000    28      378.0000      Cuts: 31      201   37.17%\n",
            "      0     0      237.5000    18      378.0000       Cuts: 2      207   37.17%\n",
            "*     0+    0                          243.0000      237.5000             2.26%\n",
            "      0     0        cutoff            243.0000      243.0000      207    0.00%\n",
            "Elapsed time = 0.24 sec. (36.58 ticks, tree = 0.01 MB, solutions = 3)\n",
            "\n",
            "Clique cuts applied:  6\n",
            "Implied bound cuts applied:  9\n",
            "Mixed integer rounding cuts applied:  5\n",
            "Zero-half cuts applied:  6\n",
            "Multi commodity flow cuts applied:  9\n",
            "Gomory fractional cuts applied:  1\n",
            "\n",
            "Root node processing (before b&c):\n",
            "  Real time             =    0.25 sec. (36.60 ticks)\n",
            "Parallel b&c, 2 threads:\n",
            "  Real time             =    0.00 sec. (0.00 ticks)\n",
            "  Sync time (average)   =    0.00 sec.\n",
            "  Wait time (average)   =    0.00 sec.\n",
            "                          ------------\n",
            "Total (root+branch&cut) =    0.25 sec. (36.60 ticks)\n"
          ]
        }
      ]
    },
    {
      "cell_type": "code",
      "source": [
        "model.get_solve_status() # 2 = TODO OK"
      ],
      "metadata": {
        "colab": {
          "base_uri": "https://localhost:8080/"
        },
        "id": "AxKu3sQkrg81",
        "outputId": "4db60fe5-c167-4a83-abd8-f9bacb043d02"
      },
      "execution_count": 26,
      "outputs": [
        {
          "output_type": "execute_result",
          "data": {
            "text/plain": [
              "<JobSolveStatus.OPTIMAL_SOLUTION: 2>"
            ]
          },
          "metadata": {},
          "execution_count": 26
        }
      ]
    },
    {
      "cell_type": "code",
      "source": [
        "details = model.get_solve_details()\n",
        "details.print_information()"
      ],
      "metadata": {
        "colab": {
          "base_uri": "https://localhost:8080/"
        },
        "id": "uqUldpIixp8X",
        "outputId": "4edaefdc-3f84-4a83-ce1c-cef0981a5b06"
      },
      "execution_count": 27,
      "outputs": [
        {
          "output_type": "stream",
          "name": "stdout",
          "text": [
            "status  = integer optimal solution\n",
            "time    = 0.264296 s.\n",
            "problem = MILP\n",
            "columns = 131\n",
            "iterations=207\n",
            "gap     = 0%\n"
          ]
        }
      ]
    },
    {
      "cell_type": "code",
      "source": [
        "solution.get_objective_value()"
      ],
      "metadata": {
        "colab": {
          "base_uri": "https://localhost:8080/"
        },
        "id": "nb7so4a4aMXC",
        "outputId": "b5e92966-7c40-4ded-a98c-bc0ecc20c183"
      },
      "execution_count": 28,
      "outputs": [
        {
          "output_type": "execute_result",
          "data": {
            "text/plain": [
              "243.0"
            ]
          },
          "metadata": {},
          "execution_count": 28
        }
      ]
    },
    {
      "cell_type": "code",
      "source": [
        "final_values = solution.as_df()\n",
        "final_values"
      ],
      "metadata": {
        "colab": {
          "base_uri": "https://localhost:8080/",
          "height": 990
        },
        "id": "Ney5AC4wrl0F",
        "outputId": "6908fc3f-783e-4d87-ed7a-26b8622d1c3e"
      },
      "execution_count": 29,
      "outputs": [
        {
          "output_type": "execute_result",
          "data": {
            "text/plain": [
              "     name  value\n",
              "0     U_A    4.0\n",
              "1     U_B    8.0\n",
              "2     U_C    1.0\n",
              "3     U_D    3.0\n",
              "4     U_E    7.0\n",
              "5     U_F    2.0\n",
              "6     U_G    9.0\n",
              "7     U_H    5.0\n",
              "8     U_I    6.0\n",
              "9     U_J   10.0\n",
              "10  Y_0_C    1.0\n",
              "11  Y_A_H    1.0\n",
              "12  Y_B_G    1.0\n",
              "13  Y_C_F    1.0\n",
              "14  Y_D_A    1.0\n",
              "15  Y_E_B    1.0\n",
              "16  Y_F_D    1.0\n",
              "17  Y_G_J    1.0\n",
              "18  Y_H_I    1.0\n",
              "19  Y_I_E    1.0\n",
              "20  Y_J_0    1.0\n",
              "21    C_A   50.0\n",
              "22    C_C   40.0\n",
              "23    C_D   30.0\n",
              "24    C_E   30.0\n",
              "25    C_F   15.0\n",
              "26    C_G   10.0\n",
              "27    C_H   30.0\n",
              "28    C_I   50.0\n",
              "29    C_J   15.0"
            ],
            "text/html": [
              "\n",
              "  <div id=\"df-c8377446-52c2-44aa-a8be-5155df4e24fc\">\n",
              "    <div class=\"colab-df-container\">\n",
              "      <div>\n",
              "<style scoped>\n",
              "    .dataframe tbody tr th:only-of-type {\n",
              "        vertical-align: middle;\n",
              "    }\n",
              "\n",
              "    .dataframe tbody tr th {\n",
              "        vertical-align: top;\n",
              "    }\n",
              "\n",
              "    .dataframe thead th {\n",
              "        text-align: right;\n",
              "    }\n",
              "</style>\n",
              "<table border=\"1\" class=\"dataframe\">\n",
              "  <thead>\n",
              "    <tr style=\"text-align: right;\">\n",
              "      <th></th>\n",
              "      <th>name</th>\n",
              "      <th>value</th>\n",
              "    </tr>\n",
              "  </thead>\n",
              "  <tbody>\n",
              "    <tr>\n",
              "      <th>0</th>\n",
              "      <td>U_A</td>\n",
              "      <td>4.0</td>\n",
              "    </tr>\n",
              "    <tr>\n",
              "      <th>1</th>\n",
              "      <td>U_B</td>\n",
              "      <td>8.0</td>\n",
              "    </tr>\n",
              "    <tr>\n",
              "      <th>2</th>\n",
              "      <td>U_C</td>\n",
              "      <td>1.0</td>\n",
              "    </tr>\n",
              "    <tr>\n",
              "      <th>3</th>\n",
              "      <td>U_D</td>\n",
              "      <td>3.0</td>\n",
              "    </tr>\n",
              "    <tr>\n",
              "      <th>4</th>\n",
              "      <td>U_E</td>\n",
              "      <td>7.0</td>\n",
              "    </tr>\n",
              "    <tr>\n",
              "      <th>5</th>\n",
              "      <td>U_F</td>\n",
              "      <td>2.0</td>\n",
              "    </tr>\n",
              "    <tr>\n",
              "      <th>6</th>\n",
              "      <td>U_G</td>\n",
              "      <td>9.0</td>\n",
              "    </tr>\n",
              "    <tr>\n",
              "      <th>7</th>\n",
              "      <td>U_H</td>\n",
              "      <td>5.0</td>\n",
              "    </tr>\n",
              "    <tr>\n",
              "      <th>8</th>\n",
              "      <td>U_I</td>\n",
              "      <td>6.0</td>\n",
              "    </tr>\n",
              "    <tr>\n",
              "      <th>9</th>\n",
              "      <td>U_J</td>\n",
              "      <td>10.0</td>\n",
              "    </tr>\n",
              "    <tr>\n",
              "      <th>10</th>\n",
              "      <td>Y_0_C</td>\n",
              "      <td>1.0</td>\n",
              "    </tr>\n",
              "    <tr>\n",
              "      <th>11</th>\n",
              "      <td>Y_A_H</td>\n",
              "      <td>1.0</td>\n",
              "    </tr>\n",
              "    <tr>\n",
              "      <th>12</th>\n",
              "      <td>Y_B_G</td>\n",
              "      <td>1.0</td>\n",
              "    </tr>\n",
              "    <tr>\n",
              "      <th>13</th>\n",
              "      <td>Y_C_F</td>\n",
              "      <td>1.0</td>\n",
              "    </tr>\n",
              "    <tr>\n",
              "      <th>14</th>\n",
              "      <td>Y_D_A</td>\n",
              "      <td>1.0</td>\n",
              "    </tr>\n",
              "    <tr>\n",
              "      <th>15</th>\n",
              "      <td>Y_E_B</td>\n",
              "      <td>1.0</td>\n",
              "    </tr>\n",
              "    <tr>\n",
              "      <th>16</th>\n",
              "      <td>Y_F_D</td>\n",
              "      <td>1.0</td>\n",
              "    </tr>\n",
              "    <tr>\n",
              "      <th>17</th>\n",
              "      <td>Y_G_J</td>\n",
              "      <td>1.0</td>\n",
              "    </tr>\n",
              "    <tr>\n",
              "      <th>18</th>\n",
              "      <td>Y_H_I</td>\n",
              "      <td>1.0</td>\n",
              "    </tr>\n",
              "    <tr>\n",
              "      <th>19</th>\n",
              "      <td>Y_I_E</td>\n",
              "      <td>1.0</td>\n",
              "    </tr>\n",
              "    <tr>\n",
              "      <th>20</th>\n",
              "      <td>Y_J_0</td>\n",
              "      <td>1.0</td>\n",
              "    </tr>\n",
              "    <tr>\n",
              "      <th>21</th>\n",
              "      <td>C_A</td>\n",
              "      <td>50.0</td>\n",
              "    </tr>\n",
              "    <tr>\n",
              "      <th>22</th>\n",
              "      <td>C_C</td>\n",
              "      <td>40.0</td>\n",
              "    </tr>\n",
              "    <tr>\n",
              "      <th>23</th>\n",
              "      <td>C_D</td>\n",
              "      <td>30.0</td>\n",
              "    </tr>\n",
              "    <tr>\n",
              "      <th>24</th>\n",
              "      <td>C_E</td>\n",
              "      <td>30.0</td>\n",
              "    </tr>\n",
              "    <tr>\n",
              "      <th>25</th>\n",
              "      <td>C_F</td>\n",
              "      <td>15.0</td>\n",
              "    </tr>\n",
              "    <tr>\n",
              "      <th>26</th>\n",
              "      <td>C_G</td>\n",
              "      <td>10.0</td>\n",
              "    </tr>\n",
              "    <tr>\n",
              "      <th>27</th>\n",
              "      <td>C_H</td>\n",
              "      <td>30.0</td>\n",
              "    </tr>\n",
              "    <tr>\n",
              "      <th>28</th>\n",
              "      <td>C_I</td>\n",
              "      <td>50.0</td>\n",
              "    </tr>\n",
              "    <tr>\n",
              "      <th>29</th>\n",
              "      <td>C_J</td>\n",
              "      <td>15.0</td>\n",
              "    </tr>\n",
              "  </tbody>\n",
              "</table>\n",
              "</div>\n",
              "      <button class=\"colab-df-convert\" onclick=\"convertToInteractive('df-c8377446-52c2-44aa-a8be-5155df4e24fc')\"\n",
              "              title=\"Convert this dataframe to an interactive table.\"\n",
              "              style=\"display:none;\">\n",
              "        \n",
              "  <svg xmlns=\"http://www.w3.org/2000/svg\" height=\"24px\"viewBox=\"0 0 24 24\"\n",
              "       width=\"24px\">\n",
              "    <path d=\"M0 0h24v24H0V0z\" fill=\"none\"/>\n",
              "    <path d=\"M18.56 5.44l.94 2.06.94-2.06 2.06-.94-2.06-.94-.94-2.06-.94 2.06-2.06.94zm-11 1L8.5 8.5l.94-2.06 2.06-.94-2.06-.94L8.5 2.5l-.94 2.06-2.06.94zm10 10l.94 2.06.94-2.06 2.06-.94-2.06-.94-.94-2.06-.94 2.06-2.06.94z\"/><path d=\"M17.41 7.96l-1.37-1.37c-.4-.4-.92-.59-1.43-.59-.52 0-1.04.2-1.43.59L10.3 9.45l-7.72 7.72c-.78.78-.78 2.05 0 2.83L4 21.41c.39.39.9.59 1.41.59.51 0 1.02-.2 1.41-.59l7.78-7.78 2.81-2.81c.8-.78.8-2.07 0-2.86zM5.41 20L4 18.59l7.72-7.72 1.47 1.35L5.41 20z\"/>\n",
              "  </svg>\n",
              "      </button>\n",
              "      \n",
              "  <style>\n",
              "    .colab-df-container {\n",
              "      display:flex;\n",
              "      flex-wrap:wrap;\n",
              "      gap: 12px;\n",
              "    }\n",
              "\n",
              "    .colab-df-convert {\n",
              "      background-color: #E8F0FE;\n",
              "      border: none;\n",
              "      border-radius: 50%;\n",
              "      cursor: pointer;\n",
              "      display: none;\n",
              "      fill: #1967D2;\n",
              "      height: 32px;\n",
              "      padding: 0 0 0 0;\n",
              "      width: 32px;\n",
              "    }\n",
              "\n",
              "    .colab-df-convert:hover {\n",
              "      background-color: #E2EBFA;\n",
              "      box-shadow: 0px 1px 2px rgba(60, 64, 67, 0.3), 0px 1px 3px 1px rgba(60, 64, 67, 0.15);\n",
              "      fill: #174EA6;\n",
              "    }\n",
              "\n",
              "    [theme=dark] .colab-df-convert {\n",
              "      background-color: #3B4455;\n",
              "      fill: #D2E3FC;\n",
              "    }\n",
              "\n",
              "    [theme=dark] .colab-df-convert:hover {\n",
              "      background-color: #434B5C;\n",
              "      box-shadow: 0px 1px 3px 1px rgba(0, 0, 0, 0.15);\n",
              "      filter: drop-shadow(0px 1px 2px rgba(0, 0, 0, 0.3));\n",
              "      fill: #FFFFFF;\n",
              "    }\n",
              "  </style>\n",
              "\n",
              "      <script>\n",
              "        const buttonEl =\n",
              "          document.querySelector('#df-c8377446-52c2-44aa-a8be-5155df4e24fc button.colab-df-convert');\n",
              "        buttonEl.style.display =\n",
              "          google.colab.kernel.accessAllowed ? 'block' : 'none';\n",
              "\n",
              "        async function convertToInteractive(key) {\n",
              "          const element = document.querySelector('#df-c8377446-52c2-44aa-a8be-5155df4e24fc');\n",
              "          const dataTable =\n",
              "            await google.colab.kernel.invokeFunction('convertToInteractive',\n",
              "                                                     [key], {});\n",
              "          if (!dataTable) return;\n",
              "\n",
              "          const docLinkHtml = 'Like what you see? Visit the ' +\n",
              "            '<a target=\"_blank\" href=https://colab.research.google.com/notebooks/data_table.ipynb>data table notebook</a>'\n",
              "            + ' to learn more about interactive tables.';\n",
              "          element.innerHTML = '';\n",
              "          dataTable['output_type'] = 'display_data';\n",
              "          await google.colab.output.renderOutput(dataTable, element);\n",
              "          const docLink = document.createElement('div');\n",
              "          docLink.innerHTML = docLinkHtml;\n",
              "          element.appendChild(docLink);\n",
              "        }\n",
              "      </script>\n",
              "    </div>\n",
              "  </div>\n",
              "  "
            ]
          },
          "metadata": {},
          "execution_count": 29
        }
      ]
    },
    {
      "cell_type": "markdown",
      "source": [
        "## Paso 5: Grafico la solución"
      ],
      "metadata": {
        "id": "Ld7XfTveVMDw"
      }
    },
    {
      "cell_type": "markdown",
      "source": [
        "Creo las conexiones"
      ],
      "metadata": {
        "id": "yzG0tD7mvZ8F"
      }
    },
    {
      "cell_type": "code",
      "source": [
        "final_values.iloc[N:2*N+1]"
      ],
      "metadata": {
        "colab": {
          "base_uri": "https://localhost:8080/",
          "height": 394
        },
        "id": "fYDkE20ZDyOq",
        "outputId": "dc22cf53-cba3-453e-904f-b23841920b30"
      },
      "execution_count": 30,
      "outputs": [
        {
          "output_type": "execute_result",
          "data": {
            "text/plain": [
              "     name  value\n",
              "10  Y_0_C    1.0\n",
              "11  Y_A_H    1.0\n",
              "12  Y_B_G    1.0\n",
              "13  Y_C_F    1.0\n",
              "14  Y_D_A    1.0\n",
              "15  Y_E_B    1.0\n",
              "16  Y_F_D    1.0\n",
              "17  Y_G_J    1.0\n",
              "18  Y_H_I    1.0\n",
              "19  Y_I_E    1.0\n",
              "20  Y_J_0    1.0"
            ],
            "text/html": [
              "\n",
              "  <div id=\"df-57fc89ce-9875-4f2d-a9b4-b1c1d6718915\">\n",
              "    <div class=\"colab-df-container\">\n",
              "      <div>\n",
              "<style scoped>\n",
              "    .dataframe tbody tr th:only-of-type {\n",
              "        vertical-align: middle;\n",
              "    }\n",
              "\n",
              "    .dataframe tbody tr th {\n",
              "        vertical-align: top;\n",
              "    }\n",
              "\n",
              "    .dataframe thead th {\n",
              "        text-align: right;\n",
              "    }\n",
              "</style>\n",
              "<table border=\"1\" class=\"dataframe\">\n",
              "  <thead>\n",
              "    <tr style=\"text-align: right;\">\n",
              "      <th></th>\n",
              "      <th>name</th>\n",
              "      <th>value</th>\n",
              "    </tr>\n",
              "  </thead>\n",
              "  <tbody>\n",
              "    <tr>\n",
              "      <th>10</th>\n",
              "      <td>Y_0_C</td>\n",
              "      <td>1.0</td>\n",
              "    </tr>\n",
              "    <tr>\n",
              "      <th>11</th>\n",
              "      <td>Y_A_H</td>\n",
              "      <td>1.0</td>\n",
              "    </tr>\n",
              "    <tr>\n",
              "      <th>12</th>\n",
              "      <td>Y_B_G</td>\n",
              "      <td>1.0</td>\n",
              "    </tr>\n",
              "    <tr>\n",
              "      <th>13</th>\n",
              "      <td>Y_C_F</td>\n",
              "      <td>1.0</td>\n",
              "    </tr>\n",
              "    <tr>\n",
              "      <th>14</th>\n",
              "      <td>Y_D_A</td>\n",
              "      <td>1.0</td>\n",
              "    </tr>\n",
              "    <tr>\n",
              "      <th>15</th>\n",
              "      <td>Y_E_B</td>\n",
              "      <td>1.0</td>\n",
              "    </tr>\n",
              "    <tr>\n",
              "      <th>16</th>\n",
              "      <td>Y_F_D</td>\n",
              "      <td>1.0</td>\n",
              "    </tr>\n",
              "    <tr>\n",
              "      <th>17</th>\n",
              "      <td>Y_G_J</td>\n",
              "      <td>1.0</td>\n",
              "    </tr>\n",
              "    <tr>\n",
              "      <th>18</th>\n",
              "      <td>Y_H_I</td>\n",
              "      <td>1.0</td>\n",
              "    </tr>\n",
              "    <tr>\n",
              "      <th>19</th>\n",
              "      <td>Y_I_E</td>\n",
              "      <td>1.0</td>\n",
              "    </tr>\n",
              "    <tr>\n",
              "      <th>20</th>\n",
              "      <td>Y_J_0</td>\n",
              "      <td>1.0</td>\n",
              "    </tr>\n",
              "  </tbody>\n",
              "</table>\n",
              "</div>\n",
              "      <button class=\"colab-df-convert\" onclick=\"convertToInteractive('df-57fc89ce-9875-4f2d-a9b4-b1c1d6718915')\"\n",
              "              title=\"Convert this dataframe to an interactive table.\"\n",
              "              style=\"display:none;\">\n",
              "        \n",
              "  <svg xmlns=\"http://www.w3.org/2000/svg\" height=\"24px\"viewBox=\"0 0 24 24\"\n",
              "       width=\"24px\">\n",
              "    <path d=\"M0 0h24v24H0V0z\" fill=\"none\"/>\n",
              "    <path d=\"M18.56 5.44l.94 2.06.94-2.06 2.06-.94-2.06-.94-.94-2.06-.94 2.06-2.06.94zm-11 1L8.5 8.5l.94-2.06 2.06-.94-2.06-.94L8.5 2.5l-.94 2.06-2.06.94zm10 10l.94 2.06.94-2.06 2.06-.94-2.06-.94-.94-2.06-.94 2.06-2.06.94z\"/><path d=\"M17.41 7.96l-1.37-1.37c-.4-.4-.92-.59-1.43-.59-.52 0-1.04.2-1.43.59L10.3 9.45l-7.72 7.72c-.78.78-.78 2.05 0 2.83L4 21.41c.39.39.9.59 1.41.59.51 0 1.02-.2 1.41-.59l7.78-7.78 2.81-2.81c.8-.78.8-2.07 0-2.86zM5.41 20L4 18.59l7.72-7.72 1.47 1.35L5.41 20z\"/>\n",
              "  </svg>\n",
              "      </button>\n",
              "      \n",
              "  <style>\n",
              "    .colab-df-container {\n",
              "      display:flex;\n",
              "      flex-wrap:wrap;\n",
              "      gap: 12px;\n",
              "    }\n",
              "\n",
              "    .colab-df-convert {\n",
              "      background-color: #E8F0FE;\n",
              "      border: none;\n",
              "      border-radius: 50%;\n",
              "      cursor: pointer;\n",
              "      display: none;\n",
              "      fill: #1967D2;\n",
              "      height: 32px;\n",
              "      padding: 0 0 0 0;\n",
              "      width: 32px;\n",
              "    }\n",
              "\n",
              "    .colab-df-convert:hover {\n",
              "      background-color: #E2EBFA;\n",
              "      box-shadow: 0px 1px 2px rgba(60, 64, 67, 0.3), 0px 1px 3px 1px rgba(60, 64, 67, 0.15);\n",
              "      fill: #174EA6;\n",
              "    }\n",
              "\n",
              "    [theme=dark] .colab-df-convert {\n",
              "      background-color: #3B4455;\n",
              "      fill: #D2E3FC;\n",
              "    }\n",
              "\n",
              "    [theme=dark] .colab-df-convert:hover {\n",
              "      background-color: #434B5C;\n",
              "      box-shadow: 0px 1px 3px 1px rgba(0, 0, 0, 0.15);\n",
              "      filter: drop-shadow(0px 1px 2px rgba(0, 0, 0, 0.3));\n",
              "      fill: #FFFFFF;\n",
              "    }\n",
              "  </style>\n",
              "\n",
              "      <script>\n",
              "        const buttonEl =\n",
              "          document.querySelector('#df-57fc89ce-9875-4f2d-a9b4-b1c1d6718915 button.colab-df-convert');\n",
              "        buttonEl.style.display =\n",
              "          google.colab.kernel.accessAllowed ? 'block' : 'none';\n",
              "\n",
              "        async function convertToInteractive(key) {\n",
              "          const element = document.querySelector('#df-57fc89ce-9875-4f2d-a9b4-b1c1d6718915');\n",
              "          const dataTable =\n",
              "            await google.colab.kernel.invokeFunction('convertToInteractive',\n",
              "                                                     [key], {});\n",
              "          if (!dataTable) return;\n",
              "\n",
              "          const docLinkHtml = 'Like what you see? Visit the ' +\n",
              "            '<a target=\"_blank\" href=https://colab.research.google.com/notebooks/data_table.ipynb>data table notebook</a>'\n",
              "            + ' to learn more about interactive tables.';\n",
              "          element.innerHTML = '';\n",
              "          dataTable['output_type'] = 'display_data';\n",
              "          await google.colab.output.renderOutput(dataTable, element);\n",
              "          const docLink = document.createElement('div');\n",
              "          docLink.innerHTML = docLinkHtml;\n",
              "          element.appendChild(docLink);\n",
              "        }\n",
              "      </script>\n",
              "    </div>\n",
              "  </div>\n",
              "  "
            ]
          },
          "metadata": {},
          "execution_count": 30
        }
      ]
    },
    {
      "cell_type": "code",
      "source": [
        "nombres_bancos= [\n",
        "  'Banco Porteño',\n",
        "  'Banco Del Plata',\n",
        "  'Banco De Los Andes',\n",
        "  'Banco Plural',\n",
        "  'Banco Del Norte',\n",
        "  'Banco Pampeano',\n",
        "  'Banco Cooperativo',\n",
        "  'Banco Sol',\n",
        "  'Banco República',\n",
        "  'Banco Vientos del Sur',\n",
        "]"
      ],
      "metadata": {
        "id": "MUOi2GnRhckj"
      },
      "execution_count": 31,
      "outputs": []
    },
    {
      "cell_type": "code",
      "source": [
        "orden = final_values.iloc[0:N].copy()\n",
        "orden.name = nombres_bancos\n",
        "orden.sort_values(by=\"value\", inplace=True)\n",
        "orden"
      ],
      "metadata": {
        "colab": {
          "base_uri": "https://localhost:8080/",
          "height": 363
        },
        "id": "3K2T-ecKhd3-",
        "outputId": "bba57a24-ac10-4199-8386-cb5ec94d8077"
      },
      "execution_count": 32,
      "outputs": [
        {
          "output_type": "execute_result",
          "data": {
            "text/plain": [
              "                    name  value\n",
              "2     Banco De Los Andes    1.0\n",
              "5         Banco Pampeano    2.0\n",
              "3           Banco Plural    3.0\n",
              "0          Banco Porteño    4.0\n",
              "7              Banco Sol    5.0\n",
              "8        Banco República    6.0\n",
              "4        Banco Del Norte    7.0\n",
              "1        Banco Del Plata    8.0\n",
              "6      Banco Cooperativo    9.0\n",
              "9  Banco Vientos del Sur   10.0"
            ],
            "text/html": [
              "\n",
              "  <div id=\"df-b56a8c7a-3729-4fcf-bd99-280712fe4215\">\n",
              "    <div class=\"colab-df-container\">\n",
              "      <div>\n",
              "<style scoped>\n",
              "    .dataframe tbody tr th:only-of-type {\n",
              "        vertical-align: middle;\n",
              "    }\n",
              "\n",
              "    .dataframe tbody tr th {\n",
              "        vertical-align: top;\n",
              "    }\n",
              "\n",
              "    .dataframe thead th {\n",
              "        text-align: right;\n",
              "    }\n",
              "</style>\n",
              "<table border=\"1\" class=\"dataframe\">\n",
              "  <thead>\n",
              "    <tr style=\"text-align: right;\">\n",
              "      <th></th>\n",
              "      <th>name</th>\n",
              "      <th>value</th>\n",
              "    </tr>\n",
              "  </thead>\n",
              "  <tbody>\n",
              "    <tr>\n",
              "      <th>2</th>\n",
              "      <td>Banco De Los Andes</td>\n",
              "      <td>1.0</td>\n",
              "    </tr>\n",
              "    <tr>\n",
              "      <th>5</th>\n",
              "      <td>Banco Pampeano</td>\n",
              "      <td>2.0</td>\n",
              "    </tr>\n",
              "    <tr>\n",
              "      <th>3</th>\n",
              "      <td>Banco Plural</td>\n",
              "      <td>3.0</td>\n",
              "    </tr>\n",
              "    <tr>\n",
              "      <th>0</th>\n",
              "      <td>Banco Porteño</td>\n",
              "      <td>4.0</td>\n",
              "    </tr>\n",
              "    <tr>\n",
              "      <th>7</th>\n",
              "      <td>Banco Sol</td>\n",
              "      <td>5.0</td>\n",
              "    </tr>\n",
              "    <tr>\n",
              "      <th>8</th>\n",
              "      <td>Banco República</td>\n",
              "      <td>6.0</td>\n",
              "    </tr>\n",
              "    <tr>\n",
              "      <th>4</th>\n",
              "      <td>Banco Del Norte</td>\n",
              "      <td>7.0</td>\n",
              "    </tr>\n",
              "    <tr>\n",
              "      <th>1</th>\n",
              "      <td>Banco Del Plata</td>\n",
              "      <td>8.0</td>\n",
              "    </tr>\n",
              "    <tr>\n",
              "      <th>6</th>\n",
              "      <td>Banco Cooperativo</td>\n",
              "      <td>9.0</td>\n",
              "    </tr>\n",
              "    <tr>\n",
              "      <th>9</th>\n",
              "      <td>Banco Vientos del Sur</td>\n",
              "      <td>10.0</td>\n",
              "    </tr>\n",
              "  </tbody>\n",
              "</table>\n",
              "</div>\n",
              "      <button class=\"colab-df-convert\" onclick=\"convertToInteractive('df-b56a8c7a-3729-4fcf-bd99-280712fe4215')\"\n",
              "              title=\"Convert this dataframe to an interactive table.\"\n",
              "              style=\"display:none;\">\n",
              "        \n",
              "  <svg xmlns=\"http://www.w3.org/2000/svg\" height=\"24px\"viewBox=\"0 0 24 24\"\n",
              "       width=\"24px\">\n",
              "    <path d=\"M0 0h24v24H0V0z\" fill=\"none\"/>\n",
              "    <path d=\"M18.56 5.44l.94 2.06.94-2.06 2.06-.94-2.06-.94-.94-2.06-.94 2.06-2.06.94zm-11 1L8.5 8.5l.94-2.06 2.06-.94-2.06-.94L8.5 2.5l-.94 2.06-2.06.94zm10 10l.94 2.06.94-2.06 2.06-.94-2.06-.94-.94-2.06-.94 2.06-2.06.94z\"/><path d=\"M17.41 7.96l-1.37-1.37c-.4-.4-.92-.59-1.43-.59-.52 0-1.04.2-1.43.59L10.3 9.45l-7.72 7.72c-.78.78-.78 2.05 0 2.83L4 21.41c.39.39.9.59 1.41.59.51 0 1.02-.2 1.41-.59l7.78-7.78 2.81-2.81c.8-.78.8-2.07 0-2.86zM5.41 20L4 18.59l7.72-7.72 1.47 1.35L5.41 20z\"/>\n",
              "  </svg>\n",
              "      </button>\n",
              "      \n",
              "  <style>\n",
              "    .colab-df-container {\n",
              "      display:flex;\n",
              "      flex-wrap:wrap;\n",
              "      gap: 12px;\n",
              "    }\n",
              "\n",
              "    .colab-df-convert {\n",
              "      background-color: #E8F0FE;\n",
              "      border: none;\n",
              "      border-radius: 50%;\n",
              "      cursor: pointer;\n",
              "      display: none;\n",
              "      fill: #1967D2;\n",
              "      height: 32px;\n",
              "      padding: 0 0 0 0;\n",
              "      width: 32px;\n",
              "    }\n",
              "\n",
              "    .colab-df-convert:hover {\n",
              "      background-color: #E2EBFA;\n",
              "      box-shadow: 0px 1px 2px rgba(60, 64, 67, 0.3), 0px 1px 3px 1px rgba(60, 64, 67, 0.15);\n",
              "      fill: #174EA6;\n",
              "    }\n",
              "\n",
              "    [theme=dark] .colab-df-convert {\n",
              "      background-color: #3B4455;\n",
              "      fill: #D2E3FC;\n",
              "    }\n",
              "\n",
              "    [theme=dark] .colab-df-convert:hover {\n",
              "      background-color: #434B5C;\n",
              "      box-shadow: 0px 1px 3px 1px rgba(0, 0, 0, 0.15);\n",
              "      filter: drop-shadow(0px 1px 2px rgba(0, 0, 0, 0.3));\n",
              "      fill: #FFFFFF;\n",
              "    }\n",
              "  </style>\n",
              "\n",
              "      <script>\n",
              "        const buttonEl =\n",
              "          document.querySelector('#df-b56a8c7a-3729-4fcf-bd99-280712fe4215 button.colab-df-convert');\n",
              "        buttonEl.style.display =\n",
              "          google.colab.kernel.accessAllowed ? 'block' : 'none';\n",
              "\n",
              "        async function convertToInteractive(key) {\n",
              "          const element = document.querySelector('#df-b56a8c7a-3729-4fcf-bd99-280712fe4215');\n",
              "          const dataTable =\n",
              "            await google.colab.kernel.invokeFunction('convertToInteractive',\n",
              "                                                     [key], {});\n",
              "          if (!dataTable) return;\n",
              "\n",
              "          const docLinkHtml = 'Like what you see? Visit the ' +\n",
              "            '<a target=\"_blank\" href=https://colab.research.google.com/notebooks/data_table.ipynb>data table notebook</a>'\n",
              "            + ' to learn more about interactive tables.';\n",
              "          element.innerHTML = '';\n",
              "          dataTable['output_type'] = 'display_data';\n",
              "          await google.colab.output.renderOutput(dataTable, element);\n",
              "          const docLink = document.createElement('div');\n",
              "          docLink.innerHTML = docLinkHtml;\n",
              "          element.appendChild(docLink);\n",
              "        }\n",
              "      </script>\n",
              "    </div>\n",
              "  </div>\n",
              "  "
            ]
          },
          "metadata": {},
          "execution_count": 32
        }
      ]
    },
    {
      "cell_type": "code",
      "source": [
        "def obtener_bancos(row):\n",
        "  bancos = row[\"name\"].split(\"_\")\n",
        "  return bancos[1], bancos[2]"
      ],
      "metadata": {
        "id": "4SWBDxxTwFDr"
      },
      "execution_count": 33,
      "outputs": []
    },
    {
      "cell_type": "code",
      "source": [
        "# Define the connections between the banks\n",
        "# Sería el recorrido del camión\n",
        "connections = final_values.iloc[N:2*N+1]\n",
        "connections = connections.apply(obtener_bancos, axis=1)\n",
        "connections = list(connections)\n",
        "connections"
      ],
      "metadata": {
        "colab": {
          "base_uri": "https://localhost:8080/"
        },
        "id": "Oqu08gjSvprm",
        "outputId": "e92b358a-cd63-4d16-c665-9848c7b6cb80"
      },
      "execution_count": 34,
      "outputs": [
        {
          "output_type": "execute_result",
          "data": {
            "text/plain": [
              "[('0', 'C'),\n",
              " ('A', 'H'),\n",
              " ('B', 'G'),\n",
              " ('C', 'F'),\n",
              " ('D', 'A'),\n",
              " ('E', 'B'),\n",
              " ('F', 'D'),\n",
              " ('G', 'J'),\n",
              " ('H', 'I'),\n",
              " ('I', 'E'),\n",
              " ('J', '0')]"
            ]
          },
          "metadata": {},
          "execution_count": 34
        }
      ]
    },
    {
      "cell_type": "code",
      "source": [
        "casa_central = banks[0]\n",
        "\n",
        "# Create a plot\n",
        "fig, ax = plt.subplots()\n",
        "\n",
        "# Plot the banks as dots\n",
        "for bank in dist:\n",
        "    ax.plot(dist[bank][0], dist[bank][1], 'o', markersize=10, label=bank)\n",
        "\n",
        "# Plot the connections as arrows\n",
        "for connection in connections:\n",
        "  x1, y1 = dist[connection[0]]\n",
        "  x2, y2 = dist[connection[1]]\n",
        "  dx, dy = x2 - x1, y2 - y1\n",
        "  \n",
        "  if connection[1] == casa_central:\n",
        "    color = 'black'\n",
        "  else:\n",
        "    cambio = int(capital.loc[connection[1]])\n",
        "    if cambio > 0:\n",
        "      color = 'green'\n",
        "    else:\n",
        "      color = 'red'\n",
        "  \n",
        "  ax.quiver(x1, y1, dx, dy,\n",
        "            angles='xy', scale_units='xy',\n",
        "            scale=1, width=0.003,\n",
        "            headwidth=15, color=color,\n",
        "            zorder=3)\n",
        "\n",
        "# Annotate the Casa Central\n",
        "ax.annotate('Casa Central', dist[casa_central])\n",
        "\n",
        "# Annotate the capital\n",
        "for b in banks[1:]:\n",
        "  ax.annotate(int(capital.loc[b]), dist[b], weight=\"bold\")\n",
        "\n",
        "# Add the legend\n",
        "ax.legend(bbox_to_anchor=(1.15, 1.05))\n",
        "\n",
        "# Add the title\n",
        "plt.title(\"Circuito del camión de caudales\")\n",
        "\n",
        "# Show the plot\n",
        "plt.show()"
      ],
      "metadata": {
        "colab": {
          "base_uri": "https://localhost:8080/",
          "height": 452
        },
        "id": "u6LYpkwj6s64",
        "outputId": "d7acc50b-1189-4c51-9d8c-b6f99960157d"
      },
      "execution_count": 35,
      "outputs": [
        {
          "output_type": "display_data",
          "data": {
            "text/plain": [
              "<Figure size 640x480 with 1 Axes>"
            ],
            "image/png": "[encoded data removed]"
          },
          "metadata": {}
        }
      ]
    }
  ]
}