{
  "nbformat": 4,
  "nbformat_minor": 0,
  "metadata": {
    "colab": {
      "provenance": []
    },
    "kernelspec": {
      "name": "python3",
      "display_name": "Python 3"
    },
    "language_info": {
      "name": "python"
    }
  },
  "cells": [
    {
      "cell_type": "markdown",
      "source": [
        "## Paso 0: Instalo las dependencias"
      ],
      "metadata": {
        "id": "pP5tzqpQSpJw"
      }
    },
    {
      "cell_type": "code",
      "source": [
        "#!pip install cplex docplex"
      ],
      "metadata": {
        "id": "EyYluLM8Q7du"
      },
      "execution_count": 392,
      "outputs": []
    },
    {
      "cell_type": "code",
      "source": [
        "import matplotlib.pyplot as plt\n",
        "import numpy as np\n",
        "import pandas as pd\n",
        "from sklearn.manifold import MDS\n",
        "import string\n",
        "\n",
        "#Cplex en python\n",
        "from docplex.mp.model import Model\n",
        "import docplex.mp.solution as Solution"
      ],
      "metadata": {
        "id": "z8KdERv5C7dj"
      },
      "execution_count": 393,
      "outputs": []
    },
    {
      "cell_type": "markdown",
      "source": [
        "## Paso 1: Obtengo la información de los bancos"
      ],
      "metadata": {
        "id": "QlIAVrHRRDHe"
      }
    },
    {
      "cell_type": "markdown",
      "source": [
        "### Obtengo las distancias entre bancos"
      ],
      "metadata": {
        "id": "51XABIJrTBaG"
      }
    },
    {
      "cell_type": "code",
      "source": [
        "distances = pd.read_csv('distancias.csv', header=None)\n",
        "banks = ['0'] + list(string.ascii_uppercase)[:len(distances)-1]\n",
        "distances.columns = banks\n",
        "distances.columns \n",
        "distances.index = banks\n",
        "distances"
      ],
      "metadata": {
        "id": "MtaCFeTbrLcN",
        "colab": {
          "base_uri": "https://localhost:8080/",
          "height": 395
        },
        "outputId": "e8c85fea-bc76-483d-bae7-69c6abcfe3c4"
      },
      "execution_count": 394,
      "outputs": [
        {
          "output_type": "execute_result",
          "data": {
            "text/plain": [
              "    0   A   B    C   D   E   F    G   H    I   J\n",
              "0   0  80  88   19  30  43  21   58  87   83   7\n",
              "A  80   0  32   14   3  88  92   55  18   42  70\n",
              "B  88  32   0   92   3  11  46   28  43   75  64\n",
              "C  19  14  92    0  91  42  23  100  41   38  35\n",
              "D  30   3   3   91   0  41  31   35  18   94  84\n",
              "E  43  88  11   42  41   0  79   66  22   48  61\n",
              "F  21  92  46   23  31  79   0   85  32   93  84\n",
              "G  58  55  28  100  35  66  85    0  90  100  13\n",
              "H  87  18  43   41  18  22  32   90   0   42  70\n",
              "I  83  42  75   38  94  48  93  100  42    0  60\n",
              "J   7  70  64   35  84  61  84   13  70   60   0"
            ],
            "text/html": [
              "\n",
              "  <div id=\"df-ed6b34b8-02de-44aa-b981-7f2343a150f7\">\n",
              "    <div class=\"colab-df-container\">\n",
              "      <div>\n",
              "<style scoped>\n",
              "    .dataframe tbody tr th:only-of-type {\n",
              "        vertical-align: middle;\n",
              "    }\n",
              "\n",
              "    .dataframe tbody tr th {\n",
              "        vertical-align: top;\n",
              "    }\n",
              "\n",
              "    .dataframe thead th {\n",
              "        text-align: right;\n",
              "    }\n",
              "</style>\n",
              "<table border=\"1\" class=\"dataframe\">\n",
              "  <thead>\n",
              "    <tr style=\"text-align: right;\">\n",
              "      <th></th>\n",
              "      <th>0</th>\n",
              "      <th>A</th>\n",
              "      <th>B</th>\n",
              "      <th>C</th>\n",
              "      <th>D</th>\n",
              "      <th>E</th>\n",
              "      <th>F</th>\n",
              "      <th>G</th>\n",
              "      <th>H</th>\n",
              "      <th>I</th>\n",
              "      <th>J</th>\n",
              "    </tr>\n",
              "  </thead>\n",
              "  <tbody>\n",
              "    <tr>\n",
              "      <th>0</th>\n",
              "      <td>0</td>\n",
              "      <td>80</td>\n",
              "      <td>88</td>\n",
              "      <td>19</td>\n",
              "      <td>30</td>\n",
              "      <td>43</td>\n",
              "      <td>21</td>\n",
              "      <td>58</td>\n",
              "      <td>87</td>\n",
              "      <td>83</td>\n",
              "      <td>7</td>\n",
              "    </tr>\n",
              "    <tr>\n",
              "      <th>A</th>\n",
              "      <td>80</td>\n",
              "      <td>0</td>\n",
              "      <td>32</td>\n",
              "      <td>14</td>\n",
              "      <td>3</td>\n",
              "      <td>88</td>\n",
              "      <td>92</td>\n",
              "      <td>55</td>\n",
              "      <td>18</td>\n",
              "      <td>42</td>\n",
              "      <td>70</td>\n",
              "    </tr>\n",
              "    <tr>\n",
              "      <th>B</th>\n",
              "      <td>88</td>\n",
              "      <td>32</td>\n",
              "      <td>0</td>\n",
              "      <td>92</td>\n",
              "      <td>3</td>\n",
              "      <td>11</td>\n",
              "      <td>46</td>\n",
              "      <td>28</td>\n",
              "      <td>43</td>\n",
              "      <td>75</td>\n",
              "      <td>64</td>\n",
              "    </tr>\n",
              "    <tr>\n",
              "      <th>C</th>\n",
              "      <td>19</td>\n",
              "      <td>14</td>\n",
              "      <td>92</td>\n",
              "      <td>0</td>\n",
              "      <td>91</td>\n",
              "      <td>42</td>\n",
              "      <td>23</td>\n",
              "      <td>100</td>\n",
              "      <td>41</td>\n",
              "      <td>38</td>\n",
              "      <td>35</td>\n",
              "    </tr>\n",
              "    <tr>\n",
              "      <th>D</th>\n",
              "      <td>30</td>\n",
              "      <td>3</td>\n",
              "      <td>3</td>\n",
              "      <td>91</td>\n",
              "      <td>0</td>\n",
              "      <td>41</td>\n",
              "      <td>31</td>\n",
              "      <td>35</td>\n",
              "      <td>18</td>\n",
              "      <td>94</td>\n",
              "      <td>84</td>\n",
              "    </tr>\n",
              "    <tr>\n",
              "      <th>E</th>\n",
              "      <td>43</td>\n",
              "      <td>88</td>\n",
              "      <td>11</td>\n",
              "      <td>42</td>\n",
              "      <td>41</td>\n",
              "      <td>0</td>\n",
              "      <td>79</td>\n",
              "      <td>66</td>\n",
              "      <td>22</td>\n",
              "      <td>48</td>\n",
              "      <td>61</td>\n",
              "    </tr>\n",
              "    <tr>\n",
              "      <th>F</th>\n",
              "      <td>21</td>\n",
              "      <td>92</td>\n",
              "      <td>46</td>\n",
              "      <td>23</td>\n",
              "      <td>31</td>\n",
              "      <td>79</td>\n",
              "      <td>0</td>\n",
              "      <td>85</td>\n",
              "      <td>32</td>\n",
              "      <td>93</td>\n",
              "      <td>84</td>\n",
              "    </tr>\n",
              "    <tr>\n",
              "      <th>G</th>\n",
              "      <td>58</td>\n",
              "      <td>55</td>\n",
              "      <td>28</td>\n",
              "      <td>100</td>\n",
              "      <td>35</td>\n",
              "      <td>66</td>\n",
              "      <td>85</td>\n",
              "      <td>0</td>\n",
              "      <td>90</td>\n",
              "      <td>100</td>\n",
              "      <td>13</td>\n",
              "    </tr>\n",
              "    <tr>\n",
              "      <th>H</th>\n",
              "      <td>87</td>\n",
              "      <td>18</td>\n",
              "      <td>43</td>\n",
              "      <td>41</td>\n",
              "      <td>18</td>\n",
              "      <td>22</td>\n",
              "      <td>32</td>\n",
              "      <td>90</td>\n",
              "      <td>0</td>\n",
              "      <td>42</td>\n",
              "      <td>70</td>\n",
              "    </tr>\n",
              "    <tr>\n",
              "      <th>I</th>\n",
              "      <td>83</td>\n",
              "      <td>42</td>\n",
              "      <td>75</td>\n",
              "      <td>38</td>\n",
              "      <td>94</td>\n",
              "      <td>48</td>\n",
              "      <td>93</td>\n",
              "      <td>100</td>\n",
              "      <td>42</td>\n",
              "      <td>0</td>\n",
              "      <td>60</td>\n",
              "    </tr>\n",
              "    <tr>\n",
              "      <th>J</th>\n",
              "      <td>7</td>\n",
              "      <td>70</td>\n",
              "      <td>64</td>\n",
              "      <td>35</td>\n",
              "      <td>84</td>\n",
              "      <td>61</td>\n",
              "      <td>84</td>\n",
              "      <td>13</td>\n",
              "      <td>70</td>\n",
              "      <td>60</td>\n",
              "      <td>0</td>\n",
              "    </tr>\n",
              "  </tbody>\n",
              "</table>\n",
              "</div>\n",
              "      <button class=\"colab-df-convert\" onclick=\"convertToInteractive('df-ed6b34b8-02de-44aa-b981-7f2343a150f7')\"\n",
              "              title=\"Convert this dataframe to an interactive table.\"\n",
              "              style=\"display:none;\">\n",
              "        \n",
              "  <svg xmlns=\"http://www.w3.org/2000/svg\" height=\"24px\"viewBox=\"0 0 24 24\"\n",
              "       width=\"24px\">\n",
              "    <path d=\"M0 0h24v24H0V0z\" fill=\"none\"/>\n",
              "    <path d=\"M18.56 5.44l.94 2.06.94-2.06 2.06-.94-2.06-.94-.94-2.06-.94 2.06-2.06.94zm-11 1L8.5 8.5l.94-2.06 2.06-.94-2.06-.94L8.5 2.5l-.94 2.06-2.06.94zm10 10l.94 2.06.94-2.06 2.06-.94-2.06-.94-.94-2.06-.94 2.06-2.06.94z\"/><path d=\"M17.41 7.96l-1.37-1.37c-.4-.4-.92-.59-1.43-.59-.52 0-1.04.2-1.43.59L10.3 9.45l-7.72 7.72c-.78.78-.78 2.05 0 2.83L4 21.41c.39.39.9.59 1.41.59.51 0 1.02-.2 1.41-.59l7.78-7.78 2.81-2.81c.8-.78.8-2.07 0-2.86zM5.41 20L4 18.59l7.72-7.72 1.47 1.35L5.41 20z\"/>\n",
              "  </svg>\n",
              "      </button>\n",
              "      \n",
              "  <style>\n",
              "    .colab-df-container {\n",
              "      display:flex;\n",
              "      flex-wrap:wrap;\n",
              "      gap: 12px;\n",
              "    }\n",
              "\n",
              "    .colab-df-convert {\n",
              "      background-color: #E8F0FE;\n",
              "      border: none;\n",
              "      border-radius: 50%;\n",
              "      cursor: pointer;\n",
              "      display: none;\n",
              "      fill: #1967D2;\n",
              "      height: 32px;\n",
              "      padding: 0 0 0 0;\n",
              "      width: 32px;\n",
              "    }\n",
              "\n",
              "    .colab-df-convert:hover {\n",
              "      background-color: #E2EBFA;\n",
              "      box-shadow: 0px 1px 2px rgba(60, 64, 67, 0.3), 0px 1px 3px 1px rgba(60, 64, 67, 0.15);\n",
              "      fill: #174EA6;\n",
              "    }\n",
              "\n",
              "    [theme=dark] .colab-df-convert {\n",
              "      background-color: #3B4455;\n",
              "      fill: #D2E3FC;\n",
              "    }\n",
              "\n",
              "    [theme=dark] .colab-df-convert:hover {\n",
              "      background-color: #434B5C;\n",
              "      box-shadow: 0px 1px 3px 1px rgba(0, 0, 0, 0.15);\n",
              "      filter: drop-shadow(0px 1px 2px rgba(0, 0, 0, 0.3));\n",
              "      fill: #FFFFFF;\n",
              "    }\n",
              "  </style>\n",
              "\n",
              "      <script>\n",
              "        const buttonEl =\n",
              "          document.querySelector('#df-ed6b34b8-02de-44aa-b981-7f2343a150f7 button.colab-df-convert');\n",
              "        buttonEl.style.display =\n",
              "          google.colab.kernel.accessAllowed ? 'block' : 'none';\n",
              "\n",
              "        async function convertToInteractive(key) {\n",
              "          const element = document.querySelector('#df-ed6b34b8-02de-44aa-b981-7f2343a150f7');\n",
              "          const dataTable =\n",
              "            await google.colab.kernel.invokeFunction('convertToInteractive',\n",
              "                                                     [key], {});\n",
              "          if (!dataTable) return;\n",
              "\n",
              "          const docLinkHtml = 'Like what you see? Visit the ' +\n",
              "            '<a target=\"_blank\" href=https://colab.research.google.com/notebooks/data_table.ipynb>data table notebook</a>'\n",
              "            + ' to learn more about interactive tables.';\n",
              "          element.innerHTML = '';\n",
              "          dataTable['output_type'] = 'display_data';\n",
              "          await google.colab.output.renderOutput(dataTable, element);\n",
              "          const docLink = document.createElement('div');\n",
              "          docLink.innerHTML = docLinkHtml;\n",
              "          element.appendChild(docLink);\n",
              "        }\n",
              "      </script>\n",
              "    </div>\n",
              "  </div>\n",
              "  "
            ]
          },
          "metadata": {},
          "execution_count": 394
        }
      ]
    },
    {
      "cell_type": "markdown",
      "source": [
        "### Obtengo la ganancia/ perdida que da cada banco"
      ],
      "metadata": {
        "id": "YDJXZATZtbU8"
      }
    },
    {
      "cell_type": "code",
      "source": [
        "capital = pd.read_csv('ganancias.csv', header=None)\n",
        "capital.index = banks[1:]\n",
        "capital"
      ],
      "metadata": {
        "id": "X-cJajvzrpr6",
        "colab": {
          "base_uri": "https://localhost:8080/",
          "height": 363
        },
        "outputId": "8d7b87fd-f2af-40eb-f688-75b77a38e832"
      },
      "execution_count": 395,
      "outputs": [
        {
          "output_type": "execute_result",
          "data": {
            "text/plain": [
              "    0\n",
              "A  20\n",
              "B -30\n",
              "C  40\n",
              "D  15\n",
              "E -20\n",
              "F -25\n",
              "G  10\n",
              "H -20\n",
              "I  20\n",
              "J   5"
            ],
            "text/html": [
              "\n",
              "  <div id=\"df-04ae85d1-5f78-4531-b664-6331d7ba8784\">\n",
              "    <div class=\"colab-df-container\">\n",
              "      <div>\n",
              "<style scoped>\n",
              "    .dataframe tbody tr th:only-of-type {\n",
              "        vertical-align: middle;\n",
              "    }\n",
              "\n",
              "    .dataframe tbody tr th {\n",
              "        vertical-align: top;\n",
              "    }\n",
              "\n",
              "    .dataframe thead th {\n",
              "        text-align: right;\n",
              "    }\n",
              "</style>\n",
              "<table border=\"1\" class=\"dataframe\">\n",
              "  <thead>\n",
              "    <tr style=\"text-align: right;\">\n",
              "      <th></th>\n",
              "      <th>0</th>\n",
              "    </tr>\n",
              "  </thead>\n",
              "  <tbody>\n",
              "    <tr>\n",
              "      <th>A</th>\n",
              "      <td>20</td>\n",
              "    </tr>\n",
              "    <tr>\n",
              "      <th>B</th>\n",
              "      <td>-30</td>\n",
              "    </tr>\n",
              "    <tr>\n",
              "      <th>C</th>\n",
              "      <td>40</td>\n",
              "    </tr>\n",
              "    <tr>\n",
              "      <th>D</th>\n",
              "      <td>15</td>\n",
              "    </tr>\n",
              "    <tr>\n",
              "      <th>E</th>\n",
              "      <td>-20</td>\n",
              "    </tr>\n",
              "    <tr>\n",
              "      <th>F</th>\n",
              "      <td>-25</td>\n",
              "    </tr>\n",
              "    <tr>\n",
              "      <th>G</th>\n",
              "      <td>10</td>\n",
              "    </tr>\n",
              "    <tr>\n",
              "      <th>H</th>\n",
              "      <td>-20</td>\n",
              "    </tr>\n",
              "    <tr>\n",
              "      <th>I</th>\n",
              "      <td>20</td>\n",
              "    </tr>\n",
              "    <tr>\n",
              "      <th>J</th>\n",
              "      <td>5</td>\n",
              "    </tr>\n",
              "  </tbody>\n",
              "</table>\n",
              "</div>\n",
              "      <button class=\"colab-df-convert\" onclick=\"convertToInteractive('df-04ae85d1-5f78-4531-b664-6331d7ba8784')\"\n",
              "              title=\"Convert this dataframe to an interactive table.\"\n",
              "              style=\"display:none;\">\n",
              "        \n",
              "  <svg xmlns=\"http://www.w3.org/2000/svg\" height=\"24px\"viewBox=\"0 0 24 24\"\n",
              "       width=\"24px\">\n",
              "    <path d=\"M0 0h24v24H0V0z\" fill=\"none\"/>\n",
              "    <path d=\"M18.56 5.44l.94 2.06.94-2.06 2.06-.94-2.06-.94-.94-2.06-.94 2.06-2.06.94zm-11 1L8.5 8.5l.94-2.06 2.06-.94-2.06-.94L8.5 2.5l-.94 2.06-2.06.94zm10 10l.94 2.06.94-2.06 2.06-.94-2.06-.94-.94-2.06-.94 2.06-2.06.94z\"/><path d=\"M17.41 7.96l-1.37-1.37c-.4-.4-.92-.59-1.43-.59-.52 0-1.04.2-1.43.59L10.3 9.45l-7.72 7.72c-.78.78-.78 2.05 0 2.83L4 21.41c.39.39.9.59 1.41.59.51 0 1.02-.2 1.41-.59l7.78-7.78 2.81-2.81c.8-.78.8-2.07 0-2.86zM5.41 20L4 18.59l7.72-7.72 1.47 1.35L5.41 20z\"/>\n",
              "  </svg>\n",
              "      </button>\n",
              "      \n",
              "  <style>\n",
              "    .colab-df-container {\n",
              "      display:flex;\n",
              "      flex-wrap:wrap;\n",
              "      gap: 12px;\n",
              "    }\n",
              "\n",
              "    .colab-df-convert {\n",
              "      background-color: #E8F0FE;\n",
              "      border: none;\n",
              "      border-radius: 50%;\n",
              "      cursor: pointer;\n",
              "      display: none;\n",
              "      fill: #1967D2;\n",
              "      height: 32px;\n",
              "      padding: 0 0 0 0;\n",
              "      width: 32px;\n",
              "    }\n",
              "\n",
              "    .colab-df-convert:hover {\n",
              "      background-color: #E2EBFA;\n",
              "      box-shadow: 0px 1px 2px rgba(60, 64, 67, 0.3), 0px 1px 3px 1px rgba(60, 64, 67, 0.15);\n",
              "      fill: #174EA6;\n",
              "    }\n",
              "\n",
              "    [theme=dark] .colab-df-convert {\n",
              "      background-color: #3B4455;\n",
              "      fill: #D2E3FC;\n",
              "    }\n",
              "\n",
              "    [theme=dark] .colab-df-convert:hover {\n",
              "      background-color: #434B5C;\n",
              "      box-shadow: 0px 1px 3px 1px rgba(0, 0, 0, 0.15);\n",
              "      filter: drop-shadow(0px 1px 2px rgba(0, 0, 0, 0.3));\n",
              "      fill: #FFFFFF;\n",
              "    }\n",
              "  </style>\n",
              "\n",
              "      <script>\n",
              "        const buttonEl =\n",
              "          document.querySelector('#df-04ae85d1-5f78-4531-b664-6331d7ba8784 button.colab-df-convert');\n",
              "        buttonEl.style.display =\n",
              "          google.colab.kernel.accessAllowed ? 'block' : 'none';\n",
              "\n",
              "        async function convertToInteractive(key) {\n",
              "          const element = document.querySelector('#df-04ae85d1-5f78-4531-b664-6331d7ba8784');\n",
              "          const dataTable =\n",
              "            await google.colab.kernel.invokeFunction('convertToInteractive',\n",
              "                                                     [key], {});\n",
              "          if (!dataTable) return;\n",
              "\n",
              "          const docLinkHtml = 'Like what you see? Visit the ' +\n",
              "            '<a target=\"_blank\" href=https://colab.research.google.com/notebooks/data_table.ipynb>data table notebook</a>'\n",
              "            + ' to learn more about interactive tables.';\n",
              "          element.innerHTML = '';\n",
              "          dataTable['output_type'] = 'display_data';\n",
              "          await google.colab.output.renderOutput(dataTable, element);\n",
              "          const docLink = document.createElement('div');\n",
              "          docLink.innerHTML = docLinkHtml;\n",
              "          element.appendChild(docLink);\n",
              "        }\n",
              "      </script>\n",
              "    </div>\n",
              "  </div>\n",
              "  "
            ]
          },
          "metadata": {},
          "execution_count": 395
        }
      ]
    },
    {
      "cell_type": "markdown",
      "source": [
        "Seteo MAX_DINERO a un numero arbitriario y M a un numero grande"
      ],
      "metadata": {
        "id": "PRCaaKBLuT3Z"
      }
    },
    {
      "cell_type": "code",
      "source": [
        "MAX_DINERO = int(capital.max()*1.5)\n",
        "MAX_DINERO"
      ],
      "metadata": {
        "id": "A74jnNT7uV85",
        "colab": {
          "base_uri": "https://localhost:8080/"
        },
        "outputId": "ed8c18ed-5c59-4558-f10f-202e604f97e7"
      },
      "execution_count": 396,
      "outputs": [
        {
          "output_type": "execute_result",
          "data": {
            "text/plain": [
              "60"
            ]
          },
          "metadata": {},
          "execution_count": 396
        }
      ]
    },
    {
      "cell_type": "code",
      "source": [
        "M = int(capital.abs().sum())\n",
        "M"
      ],
      "metadata": {
        "id": "QBbkk2vPwsnd",
        "colab": {
          "base_uri": "https://localhost:8080/"
        },
        "outputId": "f48ee22b-78fc-4451-cbe9-539c7488aa41"
      },
      "execution_count": 397,
      "outputs": [
        {
          "output_type": "execute_result",
          "data": {
            "text/plain": [
              "205"
            ]
          },
          "metadata": {},
          "execution_count": 397
        }
      ]
    },
    {
      "cell_type": "markdown",
      "source": [
        "## Paso 2: Grafico la posición relativa de los bancos usando el algoritmo MDS"
      ],
      "metadata": {
        "id": "15fdy5_iR90H"
      }
    },
    {
      "cell_type": "markdown",
      "source": [
        "Esta representación no es perfecta ya que las distancias\n",
        "son inventadas por lo que hay inconsistencias."
      ],
      "metadata": {
        "id": "MvBnoADwZluR"
      }
    },
    {
      "cell_type": "code",
      "source": [
        "# Perform MDS to estimate the positions of the banks\n",
        "mds = MDS(n_components=2, dissimilarity='precomputed')\n",
        "positions = mds.fit_transform(distances)\n",
        "\n",
        "# Print the estimated positions of the banks\n",
        "dist = dict()\n",
        "\n",
        "for i in range(distances.shape[0]):\n",
        "  label = distances.index[i]\n",
        "  x = positions[i,0]\n",
        "  y = positions[i,1]\n",
        "  dist[label] = (x, y)\n",
        "\n",
        "dist"
      ],
      "metadata": {
        "id": "Uz59IKz57bFg",
        "colab": {
          "base_uri": "https://localhost:8080/"
        },
        "outputId": "9214885d-b526-44fb-bdaa-7eff747f62e4"
      },
      "execution_count": 398,
      "outputs": [
        {
          "output_type": "stream",
          "name": "stderr",
          "text": [
            "/usr/local/lib/python3.10/dist-packages/sklearn/manifold/_mds.py:299: FutureWarning: The default value of `normalized_stress` will change to `'auto'` in version 1.4. To suppress this warning, manually set the value of `normalized_stress`.\n",
            "  warnings.warn(\n"
          ]
        },
        {
          "output_type": "execute_result",
          "data": {
            "text/plain": [
              "{'0': (28.36669471170986, 26.262931186265032),\n",
              " 'A': (-31.915535425443586, -17.273595242309632),\n",
              " 'B': (-32.29488994677854, 5.551526614190825),\n",
              " 'C': (33.60999908607517, -11.833943569933483),\n",
              " 'D': (-27.799449822491535, 2.5804078828184056),\n",
              " 'E': (1.6345118375337784, -15.072234409831923),\n",
              " 'F': (40.466966372246944, 6.626803617628516),\n",
              " 'G': (-26.221716556460525, 44.369799460120035),\n",
              " 'H': (-10.429790967433599, -27.259646630020974),\n",
              " 'I': (13.615486263574894, -53.7499546468642),\n",
              " 'J': (10.967724447467171, 39.797905737937405)}"
            ]
          },
          "metadata": {},
          "execution_count": 398
        }
      ]
    },
    {
      "cell_type": "code",
      "source": [
        "# Create a plot\n",
        "fig, ax = plt.subplots()\n",
        "\n",
        "# Plot the banks as dots\n",
        "for bank in dist:\n",
        "    ax.plot(dist[bank][0], dist[bank][1], 'o', markersize=10, label=bank)\n",
        "\n",
        "# Add the legend\n",
        "ax.legend(bbox_to_anchor=(1.15, 1.05))\n",
        "\n",
        "# Add the title\n",
        "plt.title(\"Mapa de Bancos\")\n",
        "\n",
        "# Show the plot\n",
        "plt.show()"
      ],
      "metadata": {
        "id": "q_vUo63mE9Wz",
        "colab": {
          "base_uri": "https://localhost:8080/",
          "height": 452
        },
        "outputId": "e545e08d-99c9-4b67-dccf-d36f9b5598d5"
      },
      "execution_count": 399,
      "outputs": [
        {
          "output_type": "display_data",
          "data": {
            "text/plain": [
              "<Figure size 640x480 with 1 Axes>"
            ],
            "image/png": "[encoded data removed]"
          },
          "metadata": {}
        }
      ]
    },
    {
      "cell_type": "markdown",
      "source": [
        "## Paso 3: Creo el modelo"
      ],
      "metadata": {
        "id": "IcGb739DSFvI"
      }
    },
    {
      "cell_type": "code",
      "source": [
        "model = Model('TSP', log_output=True)"
      ],
      "metadata": {
        "id": "DfDFbuiTSSsg"
      },
      "execution_count": 400,
      "outputs": []
    },
    {
      "cell_type": "markdown",
      "source": [
        "### Variables"
      ],
      "metadata": {
        "id": "It5tyDpiUeLv"
      }
    },
    {
      "cell_type": "code",
      "source": [
        "def U_name(key):\n",
        "  return \"U_\" + banks[key]"
      ],
      "metadata": {
        "id": "22TO3rvh9NFg"
      },
      "execution_count": 401,
      "outputs": []
    },
    {
      "cell_type": "code",
      "source": [
        "U = model.continuous_var_list(range(1, len(banks)), 1, len(banks)-1, name=U_name)"
      ],
      "metadata": {
        "id": "WF1JcOYdcPaw"
      },
      "execution_count": 402,
      "outputs": []
    },
    {
      "cell_type": "code",
      "source": [
        "Yij_duplas = [(i, j) for i in banks for j in banks if i != j]\n",
        "Yij = model.binary_var_dict(Yij_duplas, name='Y')"
      ],
      "metadata": {
        "id": "TMZAASTglgfT"
      },
      "execution_count": 403,
      "outputs": []
    },
    {
      "cell_type": "markdown",
      "source": [
        "Método 2"
      ],
      "metadata": {
        "id": "RWI_zbt5745Z"
      }
    },
    {
      "cell_type": "code",
      "source": [
        "Vij_duplas = [(i, j) for i in banks[1:] for j in range(1, len(banks)) if i != j]"
      ],
      "metadata": {
        "id": "gGpleurM-tXr"
      },
      "execution_count": 404,
      "outputs": []
    },
    {
      "cell_type": "code",
      "source": [
        "Vij = model.binary_var_dict(Vij_duplas, name=\"V\")"
      ],
      "metadata": {
        "id": "7u6_CtdB-FEZ"
      },
      "execution_count": 405,
      "outputs": []
    },
    {
      "cell_type": "markdown",
      "source": [
        "Ti"
      ],
      "metadata": {
        "id": "W-Aq_6_kKJJS"
      }
    },
    {
      "cell_type": "code",
      "source": [
        "def T_name(key):\n",
        "  return \"T_\" + banks[key]"
      ],
      "metadata": {
        "id": "5mZWz0glKLNs"
      },
      "execution_count": 406,
      "outputs": []
    },
    {
      "cell_type": "code",
      "source": [
        "Ti = model.continuous_var_list(range(0, len(banks)), 0, MAX_DINERO, name=T_name)"
      ],
      "metadata": {
        "id": "oc5ZpjPFKNSk"
      },
      "execution_count": 407,
      "outputs": []
    },
    {
      "cell_type": "markdown",
      "source": [
        "### Subject to"
      ],
      "metadata": {
        "id": "RDpnNIkMUfqP"
      }
    },
    {
      "cell_type": "code",
      "source": [
        "for b in banks:\n",
        "  model.add_constraint(model.sum(Yij[(i, j)] for i,j in Yij_duplas if i == b) == 1, ctname=f\"sumatoriaSalidaDa1_{b}\")"
      ],
      "metadata": {
        "id": "a5tUSM-inHXs"
      },
      "execution_count": 408,
      "outputs": []
    },
    {
      "cell_type": "code",
      "source": [
        "for b in banks:\n",
        "  model.add_constraint(model.sum(Yij[(i, j)] for i,j in Yij_duplas if j == b) == 1, ctname=f\"sumatoriaEntradaDa1_{b}\")"
      ],
      "metadata": {
        "id": "-w4YcvdTqm91"
      },
      "execution_count": 409,
      "outputs": []
    },
    {
      "cell_type": "code",
      "source": [
        "N = len(banks)-1"
      ],
      "metadata": {
        "id": "PoXxuhM731HF"
      },
      "execution_count": 410,
      "outputs": []
    },
    {
      "cell_type": "code",
      "source": [
        "for i in range(0, N):\n",
        "  for j in range(0, N):\n",
        "    if (i == j): continue\n",
        "    model.add_constraint(U[i] - U[j] + N * Yij[(banks[i+1],banks[j+1])] <= N - 1, \\\n",
        "                         'U_' + banks[i+1] + '_'+ banks[j+1])"
      ],
      "metadata": {
        "id": "BtY_P6hPq94F"
      },
      "execution_count": 411,
      "outputs": []
    },
    {
      "cell_type": "markdown",
      "source": [
        "Metodo 2"
      ],
      "metadata": {
        "id": "6SEGO_sLKWr_"
      }
    },
    {
      "cell_type": "markdown",
      "source": [
        "$Uc = 1*Vc,1 + 2*Vc,2 .... +10*Vc,10$"
      ],
      "metadata": {
        "id": "TS0ZxVnx_78Y"
      }
    },
    {
      "cell_type": "code",
      "source": [
        "U"
      ],
      "metadata": {
        "colab": {
          "base_uri": "https://localhost:8080/"
        },
        "id": "5VttcoDpY2Rf",
        "outputId": "ad5ca08d-fdc5-4036-a499-52baa4864d73"
      },
      "execution_count": 412,
      "outputs": [
        {
          "output_type": "execute_result",
          "data": {
            "text/plain": [
              "[docplex.mp.Var(type=C,name='U_A',lb=1,ub=10),\n",
              " docplex.mp.Var(type=C,name='U_B',lb=1,ub=10),\n",
              " docplex.mp.Var(type=C,name='U_C',lb=1,ub=10),\n",
              " docplex.mp.Var(type=C,name='U_D',lb=1,ub=10),\n",
              " docplex.mp.Var(type=C,name='U_E',lb=1,ub=10),\n",
              " docplex.mp.Var(type=C,name='U_F',lb=1,ub=10),\n",
              " docplex.mp.Var(type=C,name='U_G',lb=1,ub=10),\n",
              " docplex.mp.Var(type=C,name='U_H',lb=1,ub=10),\n",
              " docplex.mp.Var(type=C,name='U_I',lb=1,ub=10),\n",
              " docplex.mp.Var(type=C,name='U_J',lb=1,ub=10)]"
            ]
          },
          "metadata": {},
          "execution_count": 412
        }
      ]
    },
    {
      "cell_type": "code",
      "source": [
        "for i in range(1, len(banks)):\n",
        "  rest = model.add_constraint(\n",
        "      U[i-1] == sum(j * Vij[(banks[i], j)] for j in range(1, len(U) + 1))\n",
        "  )"
      ],
      "metadata": {
        "id": "pDPDD7XQX2V5"
      },
      "execution_count": 413,
      "outputs": []
    },
    {
      "cell_type": "code",
      "source": [
        "rest"
      ],
      "metadata": {
        "colab": {
          "base_uri": "https://localhost:8080/"
        },
        "id": "TgpcW8mvYn4l",
        "outputId": "b4ac0e4b-42f8-4a35-a2d5-9c529d1ff25f"
      },
      "execution_count": 414,
      "outputs": [
        {
          "output_type": "execute_result",
          "data": {
            "text/plain": [
              "docplex.mp.LinearConstraint[](U_J,EQ,V_J_1+2V_J_2+3V_J_3+4V_J_4+5V_J_5+6V_J_6+7V_J_7+8V_J_8+9V_J_9+10V_J_10)"
            ]
          },
          "metadata": {},
          "execution_count": 414
        }
      ]
    },
    {
      "cell_type": "markdown",
      "source": [
        "$ \\sum_{j=1}^{N} {Vij=1} \\;\\;\\; \\forall{i = 1,...,N} $"
      ],
      "metadata": {
        "id": "cyhpRWpZIlSq"
      }
    },
    {
      "cell_type": "code",
      "source": [
        "for i in banks[1:]:\n",
        "  model.add_constraint(\n",
        "      sum(Vij[(i, j)] for j in range(1, len(U) + 1)) == 1\n",
        "  )"
      ],
      "metadata": {
        "id": "xaP0azqtMkwn"
      },
      "execution_count": 415,
      "outputs": []
    },
    {
      "cell_type": "markdown",
      "source": [
        "#### Para Ti\n",
        "for i in range(1, len(U) + 1): \\\n",
        "model.add_constraint(T[i - 1] + sum(cte[j] * V[j][i] for j in bancos) == T[i])"
      ],
      "metadata": {
        "id": "FIXkuB0aKZA5"
      }
    },
    {
      "cell_type": "code",
      "source": [
        "for i in range(1, len(U) + 1):\n",
        "  model.add_constraint(Ti[i - 1] + sum(int(capital.loc[j]) * Vij[(j, i)] for j in banks[1:]) == Ti[i])"
      ],
      "metadata": {
        "id": "GJruO59QKev5"
      },
      "execution_count": 416,
      "outputs": []
    },
    {
      "cell_type": "code",
      "source": [
        "model.add_constraint(Ti[0] == 0)"
      ],
      "metadata": {
        "id": "s8G3wQIyL_6o",
        "colab": {
          "base_uri": "https://localhost:8080/"
        },
        "outputId": "0f5007c6-e4e2-4149-c6f4-00940be8a8e0"
      },
      "execution_count": 417,
      "outputs": [
        {
          "output_type": "execute_result",
          "data": {
            "text/plain": [
              "docplex.mp.LinearConstraint[](T_0,EQ,0)"
            ]
          },
          "metadata": {},
          "execution_count": 417
        }
      ]
    },
    {
      "cell_type": "markdown",
      "source": [
        "### Funcional"
      ],
      "metadata": {
        "id": "lEv91wnATq8J"
      }
    },
    {
      "cell_type": "code",
      "source": [
        "model.minimize(model.sum(distances[i[0]][i[1]] * Yij[i] for i in Yij_duplas))"
      ],
      "metadata": {
        "id": "AO0wo36iToqP"
      },
      "execution_count": 418,
      "outputs": []
    },
    {
      "cell_type": "markdown",
      "source": [
        "### Resumen del modelo"
      ],
      "metadata": {
        "id": "aI0tJq6PWhm4"
      }
    },
    {
      "cell_type": "code",
      "source": [
        "print(model.statistics)"
      ],
      "metadata": {
        "colab": {
          "base_uri": "https://localhost:8080/"
        },
        "id": "T4ZtRj70iHup",
        "outputId": "dd7a2dd5-9138-4c48-8592-04a5f94d22b2"
      },
      "execution_count": 419,
      "outputs": [
        {
          "output_type": "stream",
          "name": "stdout",
          "text": [
            " - number of variables: 231\n",
            "   - binary=210, integer=0, continuous=21\n",
            " - number of constraints: 143\n",
            "   - linear=143\n"
          ]
        }
      ]
    },
    {
      "cell_type": "code",
      "source": [
        "print(model.export_to_string())"
      ],
      "metadata": {
        "id": "ZHxwS7xjWjMo",
        "colab": {
          "base_uri": "https://localhost:8080/"
        },
        "outputId": "45979978-9303-4be2-f084-21d85223ad37"
      },
      "execution_count": 420,
      "outputs": [
        {
          "output_type": "stream",
          "name": "stdout",
          "text": [
            "\\ This file has been generated by DOcplex\n",
            "\\ ENCODING=ISO-8859-1\n",
            "\\Problem name: TSP\n",
            "\n",
            "Minimize\n",
            " obj: 80 Y_0_A + 88 Y_0_B + 19 Y_0_C + 30 Y_0_D + 43 Y_0_E + 21 Y_0_F + 58 Y_0_G\n",
            "      + 87 Y_0_H + 83 Y_0_I + 7 Y_0_J + 80 Y_A_0 + 32 Y_A_B + 14 Y_A_C + 3 Y_A_D\n",
            "      + 88 Y_A_E + 92 Y_A_F + 55 Y_A_G + 18 Y_A_H + 42 Y_A_I + 70 Y_A_J\n",
            "      + 88 Y_B_0 + 32 Y_B_A + 92 Y_B_C + 3 Y_B_D + 11 Y_B_E + 46 Y_B_F\n",
            "      + 28 Y_B_G + 43 Y_B_H + 75 Y_B_I + 64 Y_B_J + 19 Y_C_0 + 14 Y_C_A\n",
            "      + 92 Y_C_B + 91 Y_C_D + 42 Y_C_E + 23 Y_C_F + 100 Y_C_G + 41 Y_C_H\n",
            "      + 38 Y_C_I + 35 Y_C_J + 30 Y_D_0 + 3 Y_D_A + 3 Y_D_B + 91 Y_D_C + 41 Y_D_E\n",
            "      + 31 Y_D_F + 35 Y_D_G + 18 Y_D_H + 94 Y_D_I + 84 Y_D_J + 43 Y_E_0\n",
            "      + 88 Y_E_A + 11 Y_E_B + 42 Y_E_C + 41 Y_E_D + 79 Y_E_F + 66 Y_E_G\n",
            "      + 22 Y_E_H + 48 Y_E_I + 61 Y_E_J + 21 Y_F_0 + 92 Y_F_A + 46 Y_F_B\n",
            "      + 23 Y_F_C + 31 Y_F_D + 79 Y_F_E + 85 Y_F_G + 32 Y_F_H + 93 Y_F_I\n",
            "      + 84 Y_F_J + 58 Y_G_0 + 55 Y_G_A + 28 Y_G_B + 100 Y_G_C + 35 Y_G_D\n",
            "      + 66 Y_G_E + 85 Y_G_F + 90 Y_G_H + 100 Y_G_I + 13 Y_G_J + 87 Y_H_0\n",
            "      + 18 Y_H_A + 43 Y_H_B + 41 Y_H_C + 18 Y_H_D + 22 Y_H_E + 32 Y_H_F\n",
            "      + 90 Y_H_G + 42 Y_H_I + 70 Y_H_J + 83 Y_I_0 + 42 Y_I_A + 75 Y_I_B\n",
            "      + 38 Y_I_C + 94 Y_I_D + 48 Y_I_E + 93 Y_I_F + 100 Y_I_G + 42 Y_I_H\n",
            "      + 60 Y_I_J + 7 Y_J_0 + 70 Y_J_A + 64 Y_J_B + 35 Y_J_C + 84 Y_J_D\n",
            "      + 61 Y_J_E + 84 Y_J_F + 13 Y_J_G + 70 Y_J_H + 60 Y_J_I\n",
            "Subject To\n",
            " sumatoriaSalidaDa1_0: Y_0_A + Y_0_B + Y_0_C + Y_0_D + Y_0_E + Y_0_F + Y_0_G\n",
            "                       + Y_0_H + Y_0_I + Y_0_J = 1\n",
            " sumatoriaSalidaDa1_A: Y_A_0 + Y_A_B + Y_A_C + Y_A_D + Y_A_E + Y_A_F + Y_A_G\n",
            "                       + Y_A_H + Y_A_I + Y_A_J = 1\n",
            " sumatoriaSalidaDa1_B: Y_B_0 + Y_B_A + Y_B_C + Y_B_D + Y_B_E + Y_B_F + Y_B_G\n",
            "                       + Y_B_H + Y_B_I + Y_B_J = 1\n",
            " sumatoriaSalidaDa1_C: Y_C_0 + Y_C_A + Y_C_B + Y_C_D + Y_C_E + Y_C_F + Y_C_G\n",
            "                       + Y_C_H + Y_C_I + Y_C_J = 1\n",
            " sumatoriaSalidaDa1_D: Y_D_0 + Y_D_A + Y_D_B + Y_D_C + Y_D_E + Y_D_F + Y_D_G\n",
            "                       + Y_D_H + Y_D_I + Y_D_J = 1\n",
            " sumatoriaSalidaDa1_E: Y_E_0 + Y_E_A + Y_E_B + Y_E_C + Y_E_D + Y_E_F + Y_E_G\n",
            "                       + Y_E_H + Y_E_I + Y_E_J = 1\n",
            " sumatoriaSalidaDa1_F: Y_F_0 + Y_F_A + Y_F_B + Y_F_C + Y_F_D + Y_F_E + Y_F_G\n",
            "                       + Y_F_H + Y_F_I + Y_F_J = 1\n",
            " sumatoriaSalidaDa1_G: Y_G_0 + Y_G_A + Y_G_B + Y_G_C + Y_G_D + Y_G_E + Y_G_F\n",
            "                       + Y_G_H + Y_G_I + Y_G_J = 1\n",
            " sumatoriaSalidaDa1_H: Y_H_0 + Y_H_A + Y_H_B + Y_H_C + Y_H_D + Y_H_E + Y_H_F\n",
            "                       + Y_H_G + Y_H_I + Y_H_J = 1\n",
            " sumatoriaSalidaDa1_I: Y_I_0 + Y_I_A + Y_I_B + Y_I_C + Y_I_D + Y_I_E + Y_I_F\n",
            "                       + Y_I_G + Y_I_H + Y_I_J = 1\n",
            " sumatoriaSalidaDa1_J: Y_J_0 + Y_J_A + Y_J_B + Y_J_C + Y_J_D + Y_J_E + Y_J_F\n",
            "                       + Y_J_G + Y_J_H + Y_J_I = 1\n",
            " sumatoriaEntradaDa1_0: Y_A_0 + Y_B_0 + Y_C_0 + Y_D_0 + Y_E_0 + Y_F_0 + Y_G_0\n",
            "                        + Y_H_0 + Y_I_0 + Y_J_0 = 1\n",
            " sumatoriaEntradaDa1_A: Y_0_A + Y_B_A + Y_C_A + Y_D_A + Y_E_A + Y_F_A + Y_G_A\n",
            "                        + Y_H_A + Y_I_A + Y_J_A = 1\n",
            " sumatoriaEntradaDa1_B: Y_0_B + Y_A_B + Y_C_B + Y_D_B + Y_E_B + Y_F_B + Y_G_B\n",
            "                        + Y_H_B + Y_I_B + Y_J_B = 1\n",
            " sumatoriaEntradaDa1_C: Y_0_C + Y_A_C + Y_B_C + Y_D_C + Y_E_C + Y_F_C + Y_G_C\n",
            "                        + Y_H_C + Y_I_C + Y_J_C = 1\n",
            " sumatoriaEntradaDa1_D: Y_0_D + Y_A_D + Y_B_D + Y_C_D + Y_E_D + Y_F_D + Y_G_D\n",
            "                        + Y_H_D + Y_I_D + Y_J_D = 1\n",
            " sumatoriaEntradaDa1_E: Y_0_E + Y_A_E + Y_B_E + Y_C_E + Y_D_E + Y_F_E + Y_G_E\n",
            "                        + Y_H_E + Y_I_E + Y_J_E = 1\n",
            " sumatoriaEntradaDa1_F: Y_0_F + Y_A_F + Y_B_F + Y_C_F + Y_D_F + Y_E_F + Y_G_F\n",
            "                        + Y_H_F + Y_I_F + Y_J_F = 1\n",
            " sumatoriaEntradaDa1_G: Y_0_G + Y_A_G + Y_B_G + Y_C_G + Y_D_G + Y_E_G + Y_F_G\n",
            "                        + Y_H_G + Y_I_G + Y_J_G = 1\n",
            " sumatoriaEntradaDa1_H: Y_0_H + Y_A_H + Y_B_H + Y_C_H + Y_D_H + Y_E_H + Y_F_H\n",
            "                        + Y_G_H + Y_I_H + Y_J_H = 1\n",
            " sumatoriaEntradaDa1_I: Y_0_I + Y_A_I + Y_B_I + Y_C_I + Y_D_I + Y_E_I + Y_F_I\n",
            "                        + Y_G_I + Y_H_I + Y_J_I = 1\n",
            " sumatoriaEntradaDa1_J: Y_0_J + Y_A_J + Y_B_J + Y_C_J + Y_D_J + Y_E_J + Y_F_J\n",
            "                        + Y_G_J + Y_H_J + Y_I_J = 1\n",
            " U_A_B: U_A - U_B + 10 Y_A_B <= 9\n",
            " U_A_C: U_A - U_C + 10 Y_A_C <= 9\n",
            " U_A_D: U_A - U_D + 10 Y_A_D <= 9\n",
            " U_A_E: U_A - U_E + 10 Y_A_E <= 9\n",
            " U_A_F: U_A - U_F + 10 Y_A_F <= 9\n",
            " U_A_G: U_A - U_G + 10 Y_A_G <= 9\n",
            " U_A_H: U_A - U_H + 10 Y_A_H <= 9\n",
            " U_A_I: U_A - U_I + 10 Y_A_I <= 9\n",
            " U_A_J: U_A - U_J + 10 Y_A_J <= 9\n",
            " U_B_A: - U_A + U_B + 10 Y_B_A <= 9\n",
            " U_B_C: U_B - U_C + 10 Y_B_C <= 9\n",
            " U_B_D: U_B - U_D + 10 Y_B_D <= 9\n",
            " U_B_E: U_B - U_E + 10 Y_B_E <= 9\n",
            " U_B_F: U_B - U_F + 10 Y_B_F <= 9\n",
            " U_B_G: U_B - U_G + 10 Y_B_G <= 9\n",
            " U_B_H: U_B - U_H + 10 Y_B_H <= 9\n",
            " U_B_I: U_B - U_I + 10 Y_B_I <= 9\n",
            " U_B_J: U_B - U_J + 10 Y_B_J <= 9\n",
            " U_C_A: - U_A + U_C + 10 Y_C_A <= 9\n",
            " U_C_B: - U_B + U_C + 10 Y_C_B <= 9\n",
            " U_C_D: U_C - U_D + 10 Y_C_D <= 9\n",
            " U_C_E: U_C - U_E + 10 Y_C_E <= 9\n",
            " U_C_F: U_C - U_F + 10 Y_C_F <= 9\n",
            " U_C_G: U_C - U_G + 10 Y_C_G <= 9\n",
            " U_C_H: U_C - U_H + 10 Y_C_H <= 9\n",
            " U_C_I: U_C - U_I + 10 Y_C_I <= 9\n",
            " U_C_J: U_C - U_J + 10 Y_C_J <= 9\n",
            " U_D_A: - U_A + U_D + 10 Y_D_A <= 9\n",
            " U_D_B: - U_B + U_D + 10 Y_D_B <= 9\n",
            " U_D_C: - U_C + U_D + 10 Y_D_C <= 9\n",
            " U_D_E: U_D - U_E + 10 Y_D_E <= 9\n",
            " U_D_F: U_D - U_F + 10 Y_D_F <= 9\n",
            " U_D_G: U_D - U_G + 10 Y_D_G <= 9\n",
            " U_D_H: U_D - U_H + 10 Y_D_H <= 9\n",
            " U_D_I: U_D - U_I + 10 Y_D_I <= 9\n",
            " U_D_J: U_D - U_J + 10 Y_D_J <= 9\n",
            " U_E_A: - U_A + U_E + 10 Y_E_A <= 9\n",
            " U_E_B: - U_B + U_E + 10 Y_E_B <= 9\n",
            " U_E_C: - U_C + U_E + 10 Y_E_C <= 9\n",
            " U_E_D: - U_D + U_E + 10 Y_E_D <= 9\n",
            " U_E_F: U_E - U_F + 10 Y_E_F <= 9\n",
            " U_E_G: U_E - U_G + 10 Y_E_G <= 9\n",
            " U_E_H: U_E - U_H + 10 Y_E_H <= 9\n",
            " U_E_I: U_E - U_I + 10 Y_E_I <= 9\n",
            " U_E_J: U_E - U_J + 10 Y_E_J <= 9\n",
            " U_F_A: - U_A + U_F + 10 Y_F_A <= 9\n",
            " U_F_B: - U_B + U_F + 10 Y_F_B <= 9\n",
            " U_F_C: - U_C + U_F + 10 Y_F_C <= 9\n",
            " U_F_D: - U_D + U_F + 10 Y_F_D <= 9\n",
            " U_F_E: - U_E + U_F + 10 Y_F_E <= 9\n",
            " U_F_G: U_F - U_G + 10 Y_F_G <= 9\n",
            " U_F_H: U_F - U_H + 10 Y_F_H <= 9\n",
            " U_F_I: U_F - U_I + 10 Y_F_I <= 9\n",
            " U_F_J: U_F - U_J + 10 Y_F_J <= 9\n",
            " U_G_A: - U_A + U_G + 10 Y_G_A <= 9\n",
            " U_G_B: - U_B + U_G + 10 Y_G_B <= 9\n",
            " U_G_C: - U_C + U_G + 10 Y_G_C <= 9\n",
            " U_G_D: - U_D + U_G + 10 Y_G_D <= 9\n",
            " U_G_E: - U_E + U_G + 10 Y_G_E <= 9\n",
            " U_G_F: - U_F + U_G + 10 Y_G_F <= 9\n",
            " U_G_H: U_G - U_H + 10 Y_G_H <= 9\n",
            " U_G_I: U_G - U_I + 10 Y_G_I <= 9\n",
            " U_G_J: U_G - U_J + 10 Y_G_J <= 9\n",
            " U_H_A: - U_A + U_H + 10 Y_H_A <= 9\n",
            " U_H_B: - U_B + U_H + 10 Y_H_B <= 9\n",
            " U_H_C: - U_C + U_H + 10 Y_H_C <= 9\n",
            " U_H_D: - U_D + U_H + 10 Y_H_D <= 9\n",
            " U_H_E: - U_E + U_H + 10 Y_H_E <= 9\n",
            " U_H_F: - U_F + U_H + 10 Y_H_F <= 9\n",
            " U_H_G: - U_G + U_H + 10 Y_H_G <= 9\n",
            " U_H_I: U_H - U_I + 10 Y_H_I <= 9\n",
            " U_H_J: U_H - U_J + 10 Y_H_J <= 9\n",
            " U_I_A: - U_A + U_I + 10 Y_I_A <= 9\n",
            " U_I_B: - U_B + U_I + 10 Y_I_B <= 9\n",
            " U_I_C: - U_C + U_I + 10 Y_I_C <= 9\n",
            " U_I_D: - U_D + U_I + 10 Y_I_D <= 9\n",
            " U_I_E: - U_E + U_I + 10 Y_I_E <= 9\n",
            " U_I_F: - U_F + U_I + 10 Y_I_F <= 9\n",
            " U_I_G: - U_G + U_I + 10 Y_I_G <= 9\n",
            " U_I_H: - U_H + U_I + 10 Y_I_H <= 9\n",
            " U_I_J: U_I - U_J + 10 Y_I_J <= 9\n",
            " U_J_A: - U_A + U_J + 10 Y_J_A <= 9\n",
            " U_J_B: - U_B + U_J + 10 Y_J_B <= 9\n",
            " U_J_C: - U_C + U_J + 10 Y_J_C <= 9\n",
            " U_J_D: - U_D + U_J + 10 Y_J_D <= 9\n",
            " U_J_E: - U_E + U_J + 10 Y_J_E <= 9\n",
            " U_J_F: - U_F + U_J + 10 Y_J_F <= 9\n",
            " U_J_G: - U_G + U_J + 10 Y_J_G <= 9\n",
            " U_J_H: - U_H + U_J + 10 Y_J_H <= 9\n",
            " U_J_I: - U_I + U_J + 10 Y_J_I <= 9\n",
            " c113: U_A - V_A_1 - 2 V_A_2 - 3 V_A_3 - 4 V_A_4 - 5 V_A_5 - 6 V_A_6 - 7 V_A_7\n",
            "       - 8 V_A_8 - 9 V_A_9 - 10 V_A_10 = 0\n",
            " c114: U_B - V_B_1 - 2 V_B_2 - 3 V_B_3 - 4 V_B_4 - 5 V_B_5 - 6 V_B_6 - 7 V_B_7\n",
            "       - 8 V_B_8 - 9 V_B_9 - 10 V_B_10 = 0\n",
            " c115: U_C - V_C_1 - 2 V_C_2 - 3 V_C_3 - 4 V_C_4 - 5 V_C_5 - 6 V_C_6 - 7 V_C_7\n",
            "       - 8 V_C_8 - 9 V_C_9 - 10 V_C_10 = 0\n",
            " c116: U_D - V_D_1 - 2 V_D_2 - 3 V_D_3 - 4 V_D_4 - 5 V_D_5 - 6 V_D_6 - 7 V_D_7\n",
            "       - 8 V_D_8 - 9 V_D_9 - 10 V_D_10 = 0\n",
            " c117: U_E - V_E_1 - 2 V_E_2 - 3 V_E_3 - 4 V_E_4 - 5 V_E_5 - 6 V_E_6 - 7 V_E_7\n",
            "       - 8 V_E_8 - 9 V_E_9 - 10 V_E_10 = 0\n",
            " c118: U_F - V_F_1 - 2 V_F_2 - 3 V_F_3 - 4 V_F_4 - 5 V_F_5 - 6 V_F_6 - 7 V_F_7\n",
            "       - 8 V_F_8 - 9 V_F_9 - 10 V_F_10 = 0\n",
            " c119: U_G - V_G_1 - 2 V_G_2 - 3 V_G_3 - 4 V_G_4 - 5 V_G_5 - 6 V_G_6 - 7 V_G_7\n",
            "       - 8 V_G_8 - 9 V_G_9 - 10 V_G_10 = 0\n",
            " c120: U_H - V_H_1 - 2 V_H_2 - 3 V_H_3 - 4 V_H_4 - 5 V_H_5 - 6 V_H_6 - 7 V_H_7\n",
            "       - 8 V_H_8 - 9 V_H_9 - 10 V_H_10 = 0\n",
            " c121: U_I - V_I_1 - 2 V_I_2 - 3 V_I_3 - 4 V_I_4 - 5 V_I_5 - 6 V_I_6 - 7 V_I_7\n",
            "       - 8 V_I_8 - 9 V_I_9 - 10 V_I_10 = 0\n",
            " c122: U_J - V_J_1 - 2 V_J_2 - 3 V_J_3 - 4 V_J_4 - 5 V_J_5 - 6 V_J_6 - 7 V_J_7\n",
            "       - 8 V_J_8 - 9 V_J_9 - 10 V_J_10 = 0\n",
            " c123: V_A_1 + V_A_2 + V_A_3 + V_A_4 + V_A_5 + V_A_6 + V_A_7 + V_A_8 + V_A_9\n",
            "       + V_A_10 = 1\n",
            " c124: V_B_1 + V_B_2 + V_B_3 + V_B_4 + V_B_5 + V_B_6 + V_B_7 + V_B_8 + V_B_9\n",
            "       + V_B_10 = 1\n",
            " c125: V_C_1 + V_C_2 + V_C_3 + V_C_4 + V_C_5 + V_C_6 + V_C_7 + V_C_8 + V_C_9\n",
            "       + V_C_10 = 1\n",
            " c126: V_D_1 + V_D_2 + V_D_3 + V_D_4 + V_D_5 + V_D_6 + V_D_7 + V_D_8 + V_D_9\n",
            "       + V_D_10 = 1\n",
            " c127: V_E_1 + V_E_2 + V_E_3 + V_E_4 + V_E_5 + V_E_6 + V_E_7 + V_E_8 + V_E_9\n",
            "       + V_E_10 = 1\n",
            " c128: V_F_1 + V_F_2 + V_F_3 + V_F_4 + V_F_5 + V_F_6 + V_F_7 + V_F_8 + V_F_9\n",
            "       + V_F_10 = 1\n",
            " c129: V_G_1 + V_G_2 + V_G_3 + V_G_4 + V_G_5 + V_G_6 + V_G_7 + V_G_8 + V_G_9\n",
            "       + V_G_10 = 1\n",
            " c130: V_H_1 + V_H_2 + V_H_3 + V_H_4 + V_H_5 + V_H_6 + V_H_7 + V_H_8 + V_H_9\n",
            "       + V_H_10 = 1\n",
            " c131: V_I_1 + V_I_2 + V_I_3 + V_I_4 + V_I_5 + V_I_6 + V_I_7 + V_I_8 + V_I_9\n",
            "       + V_I_10 = 1\n",
            " c132: V_J_1 + V_J_2 + V_J_3 + V_J_4 + V_J_5 + V_J_6 + V_J_7 + V_J_8 + V_J_9\n",
            "       + V_J_10 = 1\n",
            " c133: 20 V_A_1 - 30 V_B_1 + 40 V_C_1 + 15 V_D_1 - 20 V_E_1 - 25 V_F_1\n",
            "       + 10 V_G_1 - 20 V_H_1 + 20 V_I_1 + 5 V_J_1 + T_0 - T_A = 0\n",
            " c134: 20 V_A_2 - 30 V_B_2 + 40 V_C_2 + 15 V_D_2 - 20 V_E_2 - 25 V_F_2\n",
            "       + 10 V_G_2 - 20 V_H_2 + 20 V_I_2 + 5 V_J_2 + T_A - T_B = 0\n",
            " c135: 20 V_A_3 - 30 V_B_3 + 40 V_C_3 + 15 V_D_3 - 20 V_E_3 - 25 V_F_3\n",
            "       + 10 V_G_3 - 20 V_H_3 + 20 V_I_3 + 5 V_J_3 + T_B - T_C = 0\n",
            " c136: 20 V_A_4 - 30 V_B_4 + 40 V_C_4 + 15 V_D_4 - 20 V_E_4 - 25 V_F_4\n",
            "       + 10 V_G_4 - 20 V_H_4 + 20 V_I_4 + 5 V_J_4 + T_C - T_D = 0\n",
            " c137: 20 V_A_5 - 30 V_B_5 + 40 V_C_5 + 15 V_D_5 - 20 V_E_5 - 25 V_F_5\n",
            "       + 10 V_G_5 - 20 V_H_5 + 20 V_I_5 + 5 V_J_5 + T_D - T_E = 0\n",
            " c138: 20 V_A_6 - 30 V_B_6 + 40 V_C_6 + 15 V_D_6 - 20 V_E_6 - 25 V_F_6\n",
            "       + 10 V_G_6 - 20 V_H_6 + 20 V_I_6 + 5 V_J_6 + T_E - T_F = 0\n",
            " c139: 20 V_A_7 - 30 V_B_7 + 40 V_C_7 + 15 V_D_7 - 20 V_E_7 - 25 V_F_7\n",
            "       + 10 V_G_7 - 20 V_H_7 + 20 V_I_7 + 5 V_J_7 + T_F - T_G = 0\n",
            " c140: 20 V_A_8 - 30 V_B_8 + 40 V_C_8 + 15 V_D_8 - 20 V_E_8 - 25 V_F_8\n",
            "       + 10 V_G_8 - 20 V_H_8 + 20 V_I_8 + 5 V_J_8 + T_G - T_H = 0\n",
            " c141: 20 V_A_9 - 30 V_B_9 + 40 V_C_9 + 15 V_D_9 - 20 V_E_9 - 25 V_F_9\n",
            "       + 10 V_G_9 - 20 V_H_9 + 20 V_I_9 + 5 V_J_9 + T_H - T_I = 0\n",
            " c142: 20 V_A_10 - 30 V_B_10 + 40 V_C_10 + 15 V_D_10 - 20 V_E_10 - 25 V_F_10\n",
            "       + 10 V_G_10 - 20 V_H_10 + 20 V_I_10 + 5 V_J_10 + T_I - T_J = 0\n",
            " c143: T_0 = 0\n",
            "\n",
            "Bounds\n",
            " 1 <= U_A <= 10\n",
            " 1 <= U_B <= 10\n",
            " 1 <= U_C <= 10\n",
            " 1 <= U_D <= 10\n",
            " 1 <= U_E <= 10\n",
            " 1 <= U_F <= 10\n",
            " 1 <= U_G <= 10\n",
            " 1 <= U_H <= 10\n",
            " 1 <= U_I <= 10\n",
            " 1 <= U_J <= 10\n",
            " 0 <= Y_0_A <= 1\n",
            " 0 <= Y_0_B <= 1\n",
            " 0 <= Y_0_C <= 1\n",
            " 0 <= Y_0_D <= 1\n",
            " 0 <= Y_0_E <= 1\n",
            " 0 <= Y_0_F <= 1\n",
            " 0 <= Y_0_G <= 1\n",
            " 0 <= Y_0_H <= 1\n",
            " 0 <= Y_0_I <= 1\n",
            " 0 <= Y_0_J <= 1\n",
            " 0 <= Y_A_0 <= 1\n",
            " 0 <= Y_A_B <= 1\n",
            " 0 <= Y_A_C <= 1\n",
            " 0 <= Y_A_D <= 1\n",
            " 0 <= Y_A_E <= 1\n",
            " 0 <= Y_A_F <= 1\n",
            " 0 <= Y_A_G <= 1\n",
            " 0 <= Y_A_H <= 1\n",
            " 0 <= Y_A_I <= 1\n",
            " 0 <= Y_A_J <= 1\n",
            " 0 <= Y_B_0 <= 1\n",
            " 0 <= Y_B_A <= 1\n",
            " 0 <= Y_B_C <= 1\n",
            " 0 <= Y_B_D <= 1\n",
            " 0 <= Y_B_E <= 1\n",
            " 0 <= Y_B_F <= 1\n",
            " 0 <= Y_B_G <= 1\n",
            " 0 <= Y_B_H <= 1\n",
            " 0 <= Y_B_I <= 1\n",
            " 0 <= Y_B_J <= 1\n",
            " 0 <= Y_C_0 <= 1\n",
            " 0 <= Y_C_A <= 1\n",
            " 0 <= Y_C_B <= 1\n",
            " 0 <= Y_C_D <= 1\n",
            " 0 <= Y_C_E <= 1\n",
            " 0 <= Y_C_F <= 1\n",
            " 0 <= Y_C_G <= 1\n",
            " 0 <= Y_C_H <= 1\n",
            " 0 <= Y_C_I <= 1\n",
            " 0 <= Y_C_J <= 1\n",
            " 0 <= Y_D_0 <= 1\n",
            " 0 <= Y_D_A <= 1\n",
            " 0 <= Y_D_B <= 1\n",
            " 0 <= Y_D_C <= 1\n",
            " 0 <= Y_D_E <= 1\n",
            " 0 <= Y_D_F <= 1\n",
            " 0 <= Y_D_G <= 1\n",
            " 0 <= Y_D_H <= 1\n",
            " 0 <= Y_D_I <= 1\n",
            " 0 <= Y_D_J <= 1\n",
            " 0 <= Y_E_0 <= 1\n",
            " 0 <= Y_E_A <= 1\n",
            " 0 <= Y_E_B <= 1\n",
            " 0 <= Y_E_C <= 1\n",
            " 0 <= Y_E_D <= 1\n",
            " 0 <= Y_E_F <= 1\n",
            " 0 <= Y_E_G <= 1\n",
            " 0 <= Y_E_H <= 1\n",
            " 0 <= Y_E_I <= 1\n",
            " 0 <= Y_E_J <= 1\n",
            " 0 <= Y_F_0 <= 1\n",
            " 0 <= Y_F_A <= 1\n",
            " 0 <= Y_F_B <= 1\n",
            " 0 <= Y_F_C <= 1\n",
            " 0 <= Y_F_D <= 1\n",
            " 0 <= Y_F_E <= 1\n",
            " 0 <= Y_F_G <= 1\n",
            " 0 <= Y_F_H <= 1\n",
            " 0 <= Y_F_I <= 1\n",
            " 0 <= Y_F_J <= 1\n",
            " 0 <= Y_G_0 <= 1\n",
            " 0 <= Y_G_A <= 1\n",
            " 0 <= Y_G_B <= 1\n",
            " 0 <= Y_G_C <= 1\n",
            " 0 <= Y_G_D <= 1\n",
            " 0 <= Y_G_E <= 1\n",
            " 0 <= Y_G_F <= 1\n",
            " 0 <= Y_G_H <= 1\n",
            " 0 <= Y_G_I <= 1\n",
            " 0 <= Y_G_J <= 1\n",
            " 0 <= Y_H_0 <= 1\n",
            " 0 <= Y_H_A <= 1\n",
            " 0 <= Y_H_B <= 1\n",
            " 0 <= Y_H_C <= 1\n",
            " 0 <= Y_H_D <= 1\n",
            " 0 <= Y_H_E <= 1\n",
            " 0 <= Y_H_F <= 1\n",
            " 0 <= Y_H_G <= 1\n",
            " 0 <= Y_H_I <= 1\n",
            " 0 <= Y_H_J <= 1\n",
            " 0 <= Y_I_0 <= 1\n",
            " 0 <= Y_I_A <= 1\n",
            " 0 <= Y_I_B <= 1\n",
            " 0 <= Y_I_C <= 1\n",
            " 0 <= Y_I_D <= 1\n",
            " 0 <= Y_I_E <= 1\n",
            " 0 <= Y_I_F <= 1\n",
            " 0 <= Y_I_G <= 1\n",
            " 0 <= Y_I_H <= 1\n",
            " 0 <= Y_I_J <= 1\n",
            " 0 <= Y_J_0 <= 1\n",
            " 0 <= Y_J_A <= 1\n",
            " 0 <= Y_J_B <= 1\n",
            " 0 <= Y_J_C <= 1\n",
            " 0 <= Y_J_D <= 1\n",
            " 0 <= Y_J_E <= 1\n",
            " 0 <= Y_J_F <= 1\n",
            " 0 <= Y_J_G <= 1\n",
            " 0 <= Y_J_H <= 1\n",
            " 0 <= Y_J_I <= 1\n",
            " 0 <= V_A_1 <= 1\n",
            " 0 <= V_A_2 <= 1\n",
            " 0 <= V_A_3 <= 1\n",
            " 0 <= V_A_4 <= 1\n",
            " 0 <= V_A_5 <= 1\n",
            " 0 <= V_A_6 <= 1\n",
            " 0 <= V_A_7 <= 1\n",
            " 0 <= V_A_8 <= 1\n",
            " 0 <= V_A_9 <= 1\n",
            " 0 <= V_A_10 <= 1\n",
            " 0 <= V_B_1 <= 1\n",
            " 0 <= V_B_2 <= 1\n",
            " 0 <= V_B_3 <= 1\n",
            " 0 <= V_B_4 <= 1\n",
            " 0 <= V_B_5 <= 1\n",
            " 0 <= V_B_6 <= 1\n",
            " 0 <= V_B_7 <= 1\n",
            " 0 <= V_B_8 <= 1\n",
            " 0 <= V_B_9 <= 1\n",
            " 0 <= V_B_10 <= 1\n",
            " 0 <= V_C_1 <= 1\n",
            " 0 <= V_C_2 <= 1\n",
            " 0 <= V_C_3 <= 1\n",
            " 0 <= V_C_4 <= 1\n",
            " 0 <= V_C_5 <= 1\n",
            " 0 <= V_C_6 <= 1\n",
            " 0 <= V_C_7 <= 1\n",
            " 0 <= V_C_8 <= 1\n",
            " 0 <= V_C_9 <= 1\n",
            " 0 <= V_C_10 <= 1\n",
            " 0 <= V_D_1 <= 1\n",
            " 0 <= V_D_2 <= 1\n",
            " 0 <= V_D_3 <= 1\n",
            " 0 <= V_D_4 <= 1\n",
            " 0 <= V_D_5 <= 1\n",
            " 0 <= V_D_6 <= 1\n",
            " 0 <= V_D_7 <= 1\n",
            " 0 <= V_D_8 <= 1\n",
            " 0 <= V_D_9 <= 1\n",
            " 0 <= V_D_10 <= 1\n",
            " 0 <= V_E_1 <= 1\n",
            " 0 <= V_E_2 <= 1\n",
            " 0 <= V_E_3 <= 1\n",
            " 0 <= V_E_4 <= 1\n",
            " 0 <= V_E_5 <= 1\n",
            " 0 <= V_E_6 <= 1\n",
            " 0 <= V_E_7 <= 1\n",
            " 0 <= V_E_8 <= 1\n",
            " 0 <= V_E_9 <= 1\n",
            " 0 <= V_E_10 <= 1\n",
            " 0 <= V_F_1 <= 1\n",
            " 0 <= V_F_2 <= 1\n",
            " 0 <= V_F_3 <= 1\n",
            " 0 <= V_F_4 <= 1\n",
            " 0 <= V_F_5 <= 1\n",
            " 0 <= V_F_6 <= 1\n",
            " 0 <= V_F_7 <= 1\n",
            " 0 <= V_F_8 <= 1\n",
            " 0 <= V_F_9 <= 1\n",
            " 0 <= V_F_10 <= 1\n",
            " 0 <= V_G_1 <= 1\n",
            " 0 <= V_G_2 <= 1\n",
            " 0 <= V_G_3 <= 1\n",
            " 0 <= V_G_4 <= 1\n",
            " 0 <= V_G_5 <= 1\n",
            " 0 <= V_G_6 <= 1\n",
            " 0 <= V_G_7 <= 1\n",
            " 0 <= V_G_8 <= 1\n",
            " 0 <= V_G_9 <= 1\n",
            " 0 <= V_G_10 <= 1\n",
            " 0 <= V_H_1 <= 1\n",
            " 0 <= V_H_2 <= 1\n",
            " 0 <= V_H_3 <= 1\n",
            " 0 <= V_H_4 <= 1\n",
            " 0 <= V_H_5 <= 1\n",
            " 0 <= V_H_6 <= 1\n",
            " 0 <= V_H_7 <= 1\n",
            " 0 <= V_H_8 <= 1\n",
            " 0 <= V_H_9 <= 1\n",
            " 0 <= V_H_10 <= 1\n",
            " 0 <= V_I_1 <= 1\n",
            " 0 <= V_I_2 <= 1\n",
            " 0 <= V_I_3 <= 1\n",
            " 0 <= V_I_4 <= 1\n",
            " 0 <= V_I_5 <= 1\n",
            " 0 <= V_I_6 <= 1\n",
            " 0 <= V_I_7 <= 1\n",
            " 0 <= V_I_8 <= 1\n",
            " 0 <= V_I_9 <= 1\n",
            " 0 <= V_I_10 <= 1\n",
            " 0 <= V_J_1 <= 1\n",
            " 0 <= V_J_2 <= 1\n",
            " 0 <= V_J_3 <= 1\n",
            " 0 <= V_J_4 <= 1\n",
            " 0 <= V_J_5 <= 1\n",
            " 0 <= V_J_6 <= 1\n",
            " 0 <= V_J_7 <= 1\n",
            " 0 <= V_J_8 <= 1\n",
            " 0 <= V_J_9 <= 1\n",
            " 0 <= V_J_10 <= 1\n",
            "       T_0 <= 60\n",
            "       T_A <= 60\n",
            "       T_B <= 60\n",
            "       T_C <= 60\n",
            "       T_D <= 60\n",
            "       T_E <= 60\n",
            "       T_F <= 60\n",
            "       T_G <= 60\n",
            "       T_H <= 60\n",
            "       T_I <= 60\n",
            "       T_J <= 60\n",
            "\n",
            "Binaries\n",
            " Y_0_A Y_0_B Y_0_C Y_0_D Y_0_E Y_0_F Y_0_G Y_0_H Y_0_I Y_0_J Y_A_0 Y_A_B Y_A_C\n",
            " Y_A_D Y_A_E Y_A_F Y_A_G Y_A_H Y_A_I Y_A_J Y_B_0 Y_B_A Y_B_C Y_B_D Y_B_E Y_B_F\n",
            " Y_B_G Y_B_H Y_B_I Y_B_J Y_C_0 Y_C_A Y_C_B Y_C_D Y_C_E Y_C_F Y_C_G Y_C_H Y_C_I\n",
            " Y_C_J Y_D_0 Y_D_A Y_D_B Y_D_C Y_D_E Y_D_F Y_D_G Y_D_H Y_D_I Y_D_J Y_E_0 Y_E_A\n",
            " Y_E_B Y_E_C Y_E_D Y_E_F Y_E_G Y_E_H Y_E_I Y_E_J Y_F_0 Y_F_A Y_F_B Y_F_C Y_F_D\n",
            " Y_F_E Y_F_G Y_F_H Y_F_I Y_F_J Y_G_0 Y_G_A Y_G_B Y_G_C Y_G_D Y_G_E Y_G_F Y_G_H\n",
            " Y_G_I Y_G_J Y_H_0 Y_H_A Y_H_B Y_H_C Y_H_D Y_H_E Y_H_F Y_H_G Y_H_I Y_H_J Y_I_0\n",
            " Y_I_A Y_I_B Y_I_C Y_I_D Y_I_E Y_I_F Y_I_G Y_I_H Y_I_J Y_J_0 Y_J_A Y_J_B Y_J_C\n",
            " Y_J_D Y_J_E Y_J_F Y_J_G Y_J_H Y_J_I V_A_1 V_A_2 V_A_3 V_A_4 V_A_5 V_A_6 V_A_7\n",
            " V_A_8 V_A_9 V_A_10 V_B_1 V_B_2 V_B_3 V_B_4 V_B_5 V_B_6 V_B_7 V_B_8 V_B_9 V_B_10\n",
            " V_C_1 V_C_2 V_C_3 V_C_4 V_C_5 V_C_6 V_C_7 V_C_8 V_C_9 V_C_10 V_D_1 V_D_2 V_D_3\n",
            " V_D_4 V_D_5 V_D_6 V_D_7 V_D_8 V_D_9 V_D_10 V_E_1 V_E_2 V_E_3 V_E_4 V_E_5 V_E_6\n",
            " V_E_7 V_E_8 V_E_9 V_E_10 V_F_1 V_F_2 V_F_3 V_F_4 V_F_5 V_F_6 V_F_7 V_F_8 V_F_9\n",
            " V_F_10 V_G_1 V_G_2 V_G_3 V_G_4 V_G_5 V_G_6 V_G_7 V_G_8 V_G_9 V_G_10 V_H_1 V_H_2\n",
            " V_H_3 V_H_4 V_H_5 V_H_6 V_H_7 V_H_8 V_H_9 V_H_10 V_I_1 V_I_2 V_I_3 V_I_4 V_I_5\n",
            " V_I_6 V_I_7 V_I_8 V_I_9 V_I_10 V_J_1 V_J_2 V_J_3 V_J_4 V_J_5 V_J_6 V_J_7 V_J_8\n",
            " V_J_9 V_J_10\n",
            "End\n",
            "\n"
          ]
        }
      ]
    },
    {
      "cell_type": "markdown",
      "source": [
        "## Paso 4: Resuelvo con CPLEX"
      ],
      "metadata": {
        "id": "OiEDjKH_VS73"
      }
    },
    {
      "cell_type": "code",
      "source": [
        "solution = model.solve()"
      ],
      "metadata": {
        "id": "Cr5APZIxXqvA",
        "colab": {
          "base_uri": "https://localhost:8080/"
        },
        "outputId": "c2e6c61b-fa79-40b5-f072-26f021884c5e"
      },
      "execution_count": 421,
      "outputs": [
        {
          "output_type": "stream",
          "name": "stdout",
          "text": [
            "Version identifier: 22.1.1.0 | 2023-02-11 | 22d6266e5\n",
            "CPXPARAM_Read_DataCheck                          1\n",
            "Tried aggregator 1 time.\n",
            "MIP Presolve eliminated 1 rows and 1 columns.\n",
            "MIP Presolve modified 100 coefficients.\n",
            "Reduced MIP has 142 rows, 230 columns, and 809 nonzeros.\n",
            "Reduced MIP has 210 binaries, 0 generals, 0 SOSs, and 0 indicators.\n",
            "Presolve time = 0.02 sec. (0.68 ticks)\n",
            "Probing fixed 4 vars, tightened 0 bounds.\n",
            "Probing time = 0.00 sec. (0.51 ticks)\n",
            "Cover probing fixed 0 vars, tightened 4 bounds.\n",
            "Tried aggregator 1 time.\n",
            "Detecting symmetries...\n",
            "MIP Presolve eliminated 0 rows and 4 columns.\n",
            "MIP Presolve modified 108 coefficients.\n",
            "Reduced MIP has 142 rows, 226 columns, and 797 nonzeros.\n",
            "Reduced MIP has 206 binaries, 20 generals, 0 SOSs, and 0 indicators.\n",
            "Presolve time = 0.01 sec. (0.77 ticks)\n",
            "Probing time = 0.00 sec. (0.57 ticks)\n",
            "Cover probing fixed 0 vars, tightened 1 bounds.\n",
            "Clique table members: 477.\n",
            "MIP emphasis: balance optimality and feasibility.\n",
            "MIP search method: dynamic search.\n",
            "Parallel mode: deterministic, using up to 2 threads.\n",
            "Root relaxation solution time = 0.00 sec. (0.46 ticks)\n",
            "\n",
            "        Nodes                                         Cuts/\n",
            "   Node  Left     Objective  IInf  Best Integer    Best Bound    ItCnt     Gap\n",
            "\n",
            "      0     0      203.0000    32                    203.0000       75         \n",
            "      0     0      222.0000    39                    Cuts: 61      127         \n",
            "      0     0      222.2222    46                    Cuts: 32      146         \n",
            "      0     0      223.0000    51                    Cuts: 19      157         \n",
            "      0     0      224.0000    49                    Cuts: 25      191         \n",
            "      0     0      224.0000    49                    Cuts: 19      208         \n",
            "Detecting symmetries...\n",
            "      0     0      224.0000    46                     Cuts: 3      212         \n",
            "*     0+    0                          379.0000      224.0000            40.90%\n",
            "Detecting symmetries...\n",
            "      0     2      224.0000    20      379.0000      224.0000      212   40.90%\n",
            "Elapsed time = 0.29 sec. (42.53 ticks, tree = 0.02 MB, solutions = 1)\n",
            "*   136+   85                          365.0000      224.2222            38.57%\n",
            "*  1113   683      integral     0      338.0000      227.3000    12210   32.75%\n",
            "\n",
            "Performing restart 1\n",
            "\n",
            "Repeating presolve.\n",
            "Tried aggregator 1 time.\n",
            "MIP Presolve eliminated 0 rows and 1 columns.\n",
            "MIP Presolve modified 18 coefficients.\n",
            "Reduced MIP has 142 rows, 225 columns, and 794 nonzeros.\n",
            "Reduced MIP has 205 binaries, 20 generals, 0 SOSs, and 0 indicators.\n",
            "Presolve time = 0.01 sec. (0.62 ticks)\n",
            "Tried aggregator 1 time.\n",
            "MIP Presolve eliminated 0 rows and 2 columns.\n",
            "MIP Presolve modified 36 coefficients.\n",
            "Reduced MIP has 142 rows, 223 columns, and 788 nonzeros.\n",
            "Reduced MIP has 203 binaries, 20 generals, 0 SOSs, and 0 indicators.\n",
            "Presolve time = 0.02 sec. (0.62 ticks)\n",
            "Represolve time = 0.04 sec. (2.68 ticks)\n",
            "   1743     0      224.0000    31      338.0000      Cuts: 34    20136   31.86%\n",
            "   1743     0      224.0000    41      338.0000      Cuts: 45    20162   31.86%\n",
            "   1743     0      224.0000    47      338.0000      Cuts: 52    20192   31.86%\n",
            "   1743     0      224.0000    20      338.0000       Cuts: 2    20196   31.86%\n",
            "   1743     0      224.0000    37      338.0000      Cuts: 49    20210   31.86%\n",
            "   1743     2      224.0000    16      338.0000      230.3000    20210   31.86%\n",
            "   3176  1043      233.0428    39      338.0000      230.3000    27551   31.86%\n",
            "*  4029+ 1630                          316.0000      233.0000            26.27%\n",
            "*  4455  2021      integral     0      304.0000      235.0000    37617   22.70%\n",
            "   4655  1931      253.2479    41      304.0000      238.0000    40517   21.71%\n",
            "*  4847  2008      integral     0      298.0000      239.0619    44183   19.78%\n",
            "*  4911  1917      integral     0      258.0000      241.0000    46171    6.59%\n",
            "*  4936   491      integral     0      243.0000      241.5854    46799    0.58%\n",
            "\n",
            "GUB cover cuts applied:  9\n",
            "Clique cuts applied:  16\n",
            "Cover cuts applied:  1\n",
            "Implied bound cuts applied:  4\n",
            "Flow cuts applied:  2\n",
            "Mixed integer rounding cuts applied:  5\n",
            "Zero-half cuts applied:  2\n",
            "Gomory fractional cuts applied:  4\n",
            "\n",
            "Root node processing (before b&c):\n",
            "  Real time             =    0.31 sec. (42.46 ticks)\n",
            "Parallel b&c, 2 threads:\n",
            "  Real time             =    3.23 sec. (860.01 ticks)\n",
            "  Sync time (average)   =    0.27 sec.\n",
            "  Wait time (average)   =    0.01 sec.\n",
            "                          ------------\n",
            "Total (root+branch&cut) =    3.54 sec. (902.47 ticks)\n"
          ]
        }
      ]
    },
    {
      "cell_type": "code",
      "source": [
        "model.get_solve_status() # 2 = TODO OK"
      ],
      "metadata": {
        "id": "AxKu3sQkrg81",
        "colab": {
          "base_uri": "https://localhost:8080/"
        },
        "outputId": "72532849-9e2c-4748-9a61-a9ede81f04e6"
      },
      "execution_count": 422,
      "outputs": [
        {
          "output_type": "execute_result",
          "data": {
            "text/plain": [
              "<JobSolveStatus.OPTIMAL_SOLUTION: 2>"
            ]
          },
          "metadata": {},
          "execution_count": 422
        }
      ]
    },
    {
      "cell_type": "code",
      "source": [
        "solution.get_objective_value()"
      ],
      "metadata": {
        "colab": {
          "base_uri": "https://localhost:8080/"
        },
        "id": "KjK_JwGEa63O",
        "outputId": "82913e8a-14f7-4c02-fc10-d931fe736d43"
      },
      "execution_count": 423,
      "outputs": [
        {
          "output_type": "execute_result",
          "data": {
            "text/plain": [
              "243.0"
            ]
          },
          "metadata": {},
          "execution_count": 423
        }
      ]
    },
    {
      "cell_type": "code",
      "source": [
        "final_values = solution.as_df()\n",
        "final_values"
      ],
      "metadata": {
        "id": "Ney5AC4wrl0F",
        "colab": {
          "base_uri": "https://localhost:8080/",
          "height": 1000
        },
        "outputId": "a5c3f3e5-d4e4-43b3-8fdf-f4a6022f16c9"
      },
      "execution_count": 424,
      "outputs": [
        {
          "output_type": "execute_result",
          "data": {
            "text/plain": [
              "      name  value\n",
              "0      U_A    4.0\n",
              "1      U_B    8.0\n",
              "2      U_C    1.0\n",
              "3      U_D    3.0\n",
              "4      U_E    7.0\n",
              "5      U_F    2.0\n",
              "6      U_G    9.0\n",
              "7      U_H    5.0\n",
              "8      U_I    6.0\n",
              "9      U_J   10.0\n",
              "10   Y_0_C    1.0\n",
              "11   Y_A_H    1.0\n",
              "12   Y_B_G    1.0\n",
              "13   Y_C_F    1.0\n",
              "14   Y_D_A    1.0\n",
              "15   Y_E_B    1.0\n",
              "16   Y_F_D    1.0\n",
              "17   Y_G_J    1.0\n",
              "18   Y_H_I    1.0\n",
              "19   Y_I_E    1.0\n",
              "20   Y_J_0    1.0\n",
              "21   V_A_4    1.0\n",
              "22   V_B_8    1.0\n",
              "23   V_C_1    1.0\n",
              "24   V_D_3    1.0\n",
              "25   V_E_7    1.0\n",
              "26   V_F_2    1.0\n",
              "27   V_G_9    1.0\n",
              "28   V_H_5    1.0\n",
              "29   V_I_6    1.0\n",
              "30  V_J_10    1.0\n",
              "31     T_A   40.0\n",
              "32     T_B   15.0\n",
              "33     T_C   30.0\n",
              "34     T_D   50.0\n",
              "35     T_E   30.0\n",
              "36     T_F   50.0\n",
              "37     T_G   30.0\n",
              "38     T_I   10.0\n",
              "39     T_J   15.0"
            ],
            "text/html": [
              "\n",
              "  <div id=\"df-90f09e26-1fc7-4f88-ba6e-2da7d3cc907c\">\n",
              "    <div class=\"colab-df-container\">\n",
              "      <div>\n",
              "<style scoped>\n",
              "    .dataframe tbody tr th:only-of-type {\n",
              "        vertical-align: middle;\n",
              "    }\n",
              "\n",
              "    .dataframe tbody tr th {\n",
              "        vertical-align: top;\n",
              "    }\n",
              "\n",
              "    .dataframe thead th {\n",
              "        text-align: right;\n",
              "    }\n",
              "</style>\n",
              "<table border=\"1\" class=\"dataframe\">\n",
              "  <thead>\n",
              "    <tr style=\"text-align: right;\">\n",
              "      <th></th>\n",
              "      <th>name</th>\n",
              "      <th>value</th>\n",
              "    </tr>\n",
              "  </thead>\n",
              "  <tbody>\n",
              "    <tr>\n",
              "      <th>0</th>\n",
              "      <td>U_A</td>\n",
              "      <td>4.0</td>\n",
              "    </tr>\n",
              "    <tr>\n",
              "      <th>1</th>\n",
              "      <td>U_B</td>\n",
              "      <td>8.0</td>\n",
              "    </tr>\n",
              "    <tr>\n",
              "      <th>2</th>\n",
              "      <td>U_C</td>\n",
              "      <td>1.0</td>\n",
              "    </tr>\n",
              "    <tr>\n",
              "      <th>3</th>\n",
              "      <td>U_D</td>\n",
              "      <td>3.0</td>\n",
              "    </tr>\n",
              "    <tr>\n",
              "      <th>4</th>\n",
              "      <td>U_E</td>\n",
              "      <td>7.0</td>\n",
              "    </tr>\n",
              "    <tr>\n",
              "      <th>5</th>\n",
              "      <td>U_F</td>\n",
              "      <td>2.0</td>\n",
              "    </tr>\n",
              "    <tr>\n",
              "      <th>6</th>\n",
              "      <td>U_G</td>\n",
              "      <td>9.0</td>\n",
              "    </tr>\n",
              "    <tr>\n",
              "      <th>7</th>\n",
              "      <td>U_H</td>\n",
              "      <td>5.0</td>\n",
              "    </tr>\n",
              "    <tr>\n",
              "      <th>8</th>\n",
              "      <td>U_I</td>\n",
              "      <td>6.0</td>\n",
              "    </tr>\n",
              "    <tr>\n",
              "      <th>9</th>\n",
              "      <td>U_J</td>\n",
              "      <td>10.0</td>\n",
              "    </tr>\n",
              "    <tr>\n",
              "      <th>10</th>\n",
              "      <td>Y_0_C</td>\n",
              "      <td>1.0</td>\n",
              "    </tr>\n",
              "    <tr>\n",
              "      <th>11</th>\n",
              "      <td>Y_A_H</td>\n",
              "      <td>1.0</td>\n",
              "    </tr>\n",
              "    <tr>\n",
              "      <th>12</th>\n",
              "      <td>Y_B_G</td>\n",
              "      <td>1.0</td>\n",
              "    </tr>\n",
              "    <tr>\n",
              "      <th>13</th>\n",
              "      <td>Y_C_F</td>\n",
              "      <td>1.0</td>\n",
              "    </tr>\n",
              "    <tr>\n",
              "      <th>14</th>\n",
              "      <td>Y_D_A</td>\n",
              "      <td>1.0</td>\n",
              "    </tr>\n",
              "    <tr>\n",
              "      <th>15</th>\n",
              "      <td>Y_E_B</td>\n",
              "      <td>1.0</td>\n",
              "    </tr>\n",
              "    <tr>\n",
              "      <th>16</th>\n",
              "      <td>Y_F_D</td>\n",
              "      <td>1.0</td>\n",
              "    </tr>\n",
              "    <tr>\n",
              "      <th>17</th>\n",
              "      <td>Y_G_J</td>\n",
              "      <td>1.0</td>\n",
              "    </tr>\n",
              "    <tr>\n",
              "      <th>18</th>\n",
              "      <td>Y_H_I</td>\n",
              "      <td>1.0</td>\n",
              "    </tr>\n",
              "    <tr>\n",
              "      <th>19</th>\n",
              "      <td>Y_I_E</td>\n",
              "      <td>1.0</td>\n",
              "    </tr>\n",
              "    <tr>\n",
              "      <th>20</th>\n",
              "      <td>Y_J_0</td>\n",
              "      <td>1.0</td>\n",
              "    </tr>\n",
              "    <tr>\n",
              "      <th>21</th>\n",
              "      <td>V_A_4</td>\n",
              "      <td>1.0</td>\n",
              "    </tr>\n",
              "    <tr>\n",
              "      <th>22</th>\n",
              "      <td>V_B_8</td>\n",
              "      <td>1.0</td>\n",
              "    </tr>\n",
              "    <tr>\n",
              "      <th>23</th>\n",
              "      <td>V_C_1</td>\n",
              "      <td>1.0</td>\n",
              "    </tr>\n",
              "    <tr>\n",
              "      <th>24</th>\n",
              "      <td>V_D_3</td>\n",
              "      <td>1.0</td>\n",
              "    </tr>\n",
              "    <tr>\n",
              "      <th>25</th>\n",
              "      <td>V_E_7</td>\n",
              "      <td>1.0</td>\n",
              "    </tr>\n",
              "    <tr>\n",
              "      <th>26</th>\n",
              "      <td>V_F_2</td>\n",
              "      <td>1.0</td>\n",
              "    </tr>\n",
              "    <tr>\n",
              "      <th>27</th>\n",
              "      <td>V_G_9</td>\n",
              "      <td>1.0</td>\n",
              "    </tr>\n",
              "    <tr>\n",
              "      <th>28</th>\n",
              "      <td>V_H_5</td>\n",
              "      <td>1.0</td>\n",
              "    </tr>\n",
              "    <tr>\n",
              "      <th>29</th>\n",
              "      <td>V_I_6</td>\n",
              "      <td>1.0</td>\n",
              "    </tr>\n",
              "    <tr>\n",
              "      <th>30</th>\n",
              "      <td>V_J_10</td>\n",
              "      <td>1.0</td>\n",
              "    </tr>\n",
              "    <tr>\n",
              "      <th>31</th>\n",
              "      <td>T_A</td>\n",
              "      <td>40.0</td>\n",
              "    </tr>\n",
              "    <tr>\n",
              "      <th>32</th>\n",
              "      <td>T_B</td>\n",
              "      <td>15.0</td>\n",
              "    </tr>\n",
              "    <tr>\n",
              "      <th>33</th>\n",
              "      <td>T_C</td>\n",
              "      <td>30.0</td>\n",
              "    </tr>\n",
              "    <tr>\n",
              "      <th>34</th>\n",
              "      <td>T_D</td>\n",
              "      <td>50.0</td>\n",
              "    </tr>\n",
              "    <tr>\n",
              "      <th>35</th>\n",
              "      <td>T_E</td>\n",
              "      <td>30.0</td>\n",
              "    </tr>\n",
              "    <tr>\n",
              "      <th>36</th>\n",
              "      <td>T_F</td>\n",
              "      <td>50.0</td>\n",
              "    </tr>\n",
              "    <tr>\n",
              "      <th>37</th>\n",
              "      <td>T_G</td>\n",
              "      <td>30.0</td>\n",
              "    </tr>\n",
              "    <tr>\n",
              "      <th>38</th>\n",
              "      <td>T_I</td>\n",
              "      <td>10.0</td>\n",
              "    </tr>\n",
              "    <tr>\n",
              "      <th>39</th>\n",
              "      <td>T_J</td>\n",
              "      <td>15.0</td>\n",
              "    </tr>\n",
              "  </tbody>\n",
              "</table>\n",
              "</div>\n",
              "      <button class=\"colab-df-convert\" onclick=\"convertToInteractive('df-90f09e26-1fc7-4f88-ba6e-2da7d3cc907c')\"\n",
              "              title=\"Convert this dataframe to an interactive table.\"\n",
              "              style=\"display:none;\">\n",
              "        \n",
              "  <svg xmlns=\"http://www.w3.org/2000/svg\" height=\"24px\"viewBox=\"0 0 24 24\"\n",
              "       width=\"24px\">\n",
              "    <path d=\"M0 0h24v24H0V0z\" fill=\"none\"/>\n",
              "    <path d=\"M18.56 5.44l.94 2.06.94-2.06 2.06-.94-2.06-.94-.94-2.06-.94 2.06-2.06.94zm-11 1L8.5 8.5l.94-2.06 2.06-.94-2.06-.94L8.5 2.5l-.94 2.06-2.06.94zm10 10l.94 2.06.94-2.06 2.06-.94-2.06-.94-.94-2.06-.94 2.06-2.06.94z\"/><path d=\"M17.41 7.96l-1.37-1.37c-.4-.4-.92-.59-1.43-.59-.52 0-1.04.2-1.43.59L10.3 9.45l-7.72 7.72c-.78.78-.78 2.05 0 2.83L4 21.41c.39.39.9.59 1.41.59.51 0 1.02-.2 1.41-.59l7.78-7.78 2.81-2.81c.8-.78.8-2.07 0-2.86zM5.41 20L4 18.59l7.72-7.72 1.47 1.35L5.41 20z\"/>\n",
              "  </svg>\n",
              "      </button>\n",
              "      \n",
              "  <style>\n",
              "    .colab-df-container {\n",
              "      display:flex;\n",
              "      flex-wrap:wrap;\n",
              "      gap: 12px;\n",
              "    }\n",
              "\n",
              "    .colab-df-convert {\n",
              "      background-color: #E8F0FE;\n",
              "      border: none;\n",
              "      border-radius: 50%;\n",
              "      cursor: pointer;\n",
              "      display: none;\n",
              "      fill: #1967D2;\n",
              "      height: 32px;\n",
              "      padding: 0 0 0 0;\n",
              "      width: 32px;\n",
              "    }\n",
              "\n",
              "    .colab-df-convert:hover {\n",
              "      background-color: #E2EBFA;\n",
              "      box-shadow: 0px 1px 2px rgba(60, 64, 67, 0.3), 0px 1px 3px 1px rgba(60, 64, 67, 0.15);\n",
              "      fill: #174EA6;\n",
              "    }\n",
              "\n",
              "    [theme=dark] .colab-df-convert {\n",
              "      background-color: #3B4455;\n",
              "      fill: #D2E3FC;\n",
              "    }\n",
              "\n",
              "    [theme=dark] .colab-df-convert:hover {\n",
              "      background-color: #434B5C;\n",
              "      box-shadow: 0px 1px 3px 1px rgba(0, 0, 0, 0.15);\n",
              "      filter: drop-shadow(0px 1px 2px rgba(0, 0, 0, 0.3));\n",
              "      fill: #FFFFFF;\n",
              "    }\n",
              "  </style>\n",
              "\n",
              "      <script>\n",
              "        const buttonEl =\n",
              "          document.querySelector('#df-90f09e26-1fc7-4f88-ba6e-2da7d3cc907c button.colab-df-convert');\n",
              "        buttonEl.style.display =\n",
              "          google.colab.kernel.accessAllowed ? 'block' : 'none';\n",
              "\n",
              "        async function convertToInteractive(key) {\n",
              "          const element = document.querySelector('#df-90f09e26-1fc7-4f88-ba6e-2da7d3cc907c');\n",
              "          const dataTable =\n",
              "            await google.colab.kernel.invokeFunction('convertToInteractive',\n",
              "                                                     [key], {});\n",
              "          if (!dataTable) return;\n",
              "\n",
              "          const docLinkHtml = 'Like what you see? Visit the ' +\n",
              "            '<a target=\"_blank\" href=https://colab.research.google.com/notebooks/data_table.ipynb>data table notebook</a>'\n",
              "            + ' to learn more about interactive tables.';\n",
              "          element.innerHTML = '';\n",
              "          dataTable['output_type'] = 'display_data';\n",
              "          await google.colab.output.renderOutput(dataTable, element);\n",
              "          const docLink = document.createElement('div');\n",
              "          docLink.innerHTML = docLinkHtml;\n",
              "          element.appendChild(docLink);\n",
              "        }\n",
              "      </script>\n",
              "    </div>\n",
              "  </div>\n",
              "  "
            ]
          },
          "metadata": {},
          "execution_count": 424
        }
      ]
    },
    {
      "cell_type": "code",
      "source": [
        "nombres_bancos= [\n",
        "  'Banco Porteño',\n",
        "  'Banco Del Plata',\n",
        "  'Banco De Los Andes',\n",
        "  'Banco Plural',\n",
        "  'Banco Del Norte',\n",
        "  'Banco Pampeano',\n",
        "  'Banco Cooperativo',\n",
        "  'Banco Sol',\n",
        "  'Banco República',\n",
        "  'Banco Vientos del Sur',\n",
        "]"
      ],
      "metadata": {
        "id": "QLmvBWK0gozG"
      },
      "execution_count": 425,
      "outputs": []
    },
    {
      "cell_type": "code",
      "source": [
        "orden = final_values.iloc[0:N]\n",
        "orden.name = nombres_bancos\n",
        "orden.sort_values(by=\"value\", inplace=True)\n",
        "orden"
      ],
      "metadata": {
        "colab": {
          "base_uri": "https://localhost:8080/",
          "height": 554
        },
        "id": "3p4f63LwgSHX",
        "outputId": "b622a056-ac95-40ca-98bc-97fe06d3391a"
      },
      "execution_count": 426,
      "outputs": [
        {
          "output_type": "stream",
          "name": "stderr",
          "text": [
            "<ipython-input-426-c8d1485eef02>:2: SettingWithCopyWarning: \n",
            "A value is trying to be set on a copy of a slice from a DataFrame.\n",
            "Try using .loc[row_indexer,col_indexer] = value instead\n",
            "\n",
            "See the caveats in the documentation: https://pandas.pydata.org/pandas-docs/stable/user_guide/indexing.html#returning-a-view-versus-a-copy\n",
            "  orden.name = nombres_bancos\n",
            "<ipython-input-426-c8d1485eef02>:3: SettingWithCopyWarning: \n",
            "A value is trying to be set on a copy of a slice from a DataFrame\n",
            "\n",
            "See the caveats in the documentation: https://pandas.pydata.org/pandas-docs/stable/user_guide/indexing.html#returning-a-view-versus-a-copy\n",
            "  orden.sort_values(by=\"value\", inplace=True)\n"
          ]
        },
        {
          "output_type": "execute_result",
          "data": {
            "text/plain": [
              "                    name  value\n",
              "2     Banco De Los Andes    1.0\n",
              "5         Banco Pampeano    2.0\n",
              "3           Banco Plural    3.0\n",
              "0          Banco Porteño    4.0\n",
              "7              Banco Sol    5.0\n",
              "8        Banco República    6.0\n",
              "4        Banco Del Norte    7.0\n",
              "1        Banco Del Plata    8.0\n",
              "6      Banco Cooperativo    9.0\n",
              "9  Banco Vientos del Sur   10.0"
            ],
            "text/html": [
              "\n",
              "  <div id=\"df-9cdf5af0-3ddb-44ec-935e-9dec37b8b8f8\">\n",
              "    <div class=\"colab-df-container\">\n",
              "      <div>\n",
              "<style scoped>\n",
              "    .dataframe tbody tr th:only-of-type {\n",
              "        vertical-align: middle;\n",
              "    }\n",
              "\n",
              "    .dataframe tbody tr th {\n",
              "        vertical-align: top;\n",
              "    }\n",
              "\n",
              "    .dataframe thead th {\n",
              "        text-align: right;\n",
              "    }\n",
              "</style>\n",
              "<table border=\"1\" class=\"dataframe\">\n",
              "  <thead>\n",
              "    <tr style=\"text-align: right;\">\n",
              "      <th></th>\n",
              "      <th>name</th>\n",
              "      <th>value</th>\n",
              "    </tr>\n",
              "  </thead>\n",
              "  <tbody>\n",
              "    <tr>\n",
              "      <th>2</th>\n",
              "      <td>Banco De Los Andes</td>\n",
              "      <td>1.0</td>\n",
              "    </tr>\n",
              "    <tr>\n",
              "      <th>5</th>\n",
              "      <td>Banco Pampeano</td>\n",
              "      <td>2.0</td>\n",
              "    </tr>\n",
              "    <tr>\n",
              "      <th>3</th>\n",
              "      <td>Banco Plural</td>\n",
              "      <td>3.0</td>\n",
              "    </tr>\n",
              "    <tr>\n",
              "      <th>0</th>\n",
              "      <td>Banco Porteño</td>\n",
              "      <td>4.0</td>\n",
              "    </tr>\n",
              "    <tr>\n",
              "      <th>7</th>\n",
              "      <td>Banco Sol</td>\n",
              "      <td>5.0</td>\n",
              "    </tr>\n",
              "    <tr>\n",
              "      <th>8</th>\n",
              "      <td>Banco República</td>\n",
              "      <td>6.0</td>\n",
              "    </tr>\n",
              "    <tr>\n",
              "      <th>4</th>\n",
              "      <td>Banco Del Norte</td>\n",
              "      <td>7.0</td>\n",
              "    </tr>\n",
              "    <tr>\n",
              "      <th>1</th>\n",
              "      <td>Banco Del Plata</td>\n",
              "      <td>8.0</td>\n",
              "    </tr>\n",
              "    <tr>\n",
              "      <th>6</th>\n",
              "      <td>Banco Cooperativo</td>\n",
              "      <td>9.0</td>\n",
              "    </tr>\n",
              "    <tr>\n",
              "      <th>9</th>\n",
              "      <td>Banco Vientos del Sur</td>\n",
              "      <td>10.0</td>\n",
              "    </tr>\n",
              "  </tbody>\n",
              "</table>\n",
              "</div>\n",
              "      <button class=\"colab-df-convert\" onclick=\"convertToInteractive('df-9cdf5af0-3ddb-44ec-935e-9dec37b8b8f8')\"\n",
              "              title=\"Convert this dataframe to an interactive table.\"\n",
              "              style=\"display:none;\">\n",
              "        \n",
              "  <svg xmlns=\"http://www.w3.org/2000/svg\" height=\"24px\"viewBox=\"0 0 24 24\"\n",
              "       width=\"24px\">\n",
              "    <path d=\"M0 0h24v24H0V0z\" fill=\"none\"/>\n",
              "    <path d=\"M18.56 5.44l.94 2.06.94-2.06 2.06-.94-2.06-.94-.94-2.06-.94 2.06-2.06.94zm-11 1L8.5 8.5l.94-2.06 2.06-.94-2.06-.94L8.5 2.5l-.94 2.06-2.06.94zm10 10l.94 2.06.94-2.06 2.06-.94-2.06-.94-.94-2.06-.94 2.06-2.06.94z\"/><path d=\"M17.41 7.96l-1.37-1.37c-.4-.4-.92-.59-1.43-.59-.52 0-1.04.2-1.43.59L10.3 9.45l-7.72 7.72c-.78.78-.78 2.05 0 2.83L4 21.41c.39.39.9.59 1.41.59.51 0 1.02-.2 1.41-.59l7.78-7.78 2.81-2.81c.8-.78.8-2.07 0-2.86zM5.41 20L4 18.59l7.72-7.72 1.47 1.35L5.41 20z\"/>\n",
              "  </svg>\n",
              "      </button>\n",
              "      \n",
              "  <style>\n",
              "    .colab-df-container {\n",
              "      display:flex;\n",
              "      flex-wrap:wrap;\n",
              "      gap: 12px;\n",
              "    }\n",
              "\n",
              "    .colab-df-convert {\n",
              "      background-color: #E8F0FE;\n",
              "      border: none;\n",
              "      border-radius: 50%;\n",
              "      cursor: pointer;\n",
              "      display: none;\n",
              "      fill: #1967D2;\n",
              "      height: 32px;\n",
              "      padding: 0 0 0 0;\n",
              "      width: 32px;\n",
              "    }\n",
              "\n",
              "    .colab-df-convert:hover {\n",
              "      background-color: #E2EBFA;\n",
              "      box-shadow: 0px 1px 2px rgba(60, 64, 67, 0.3), 0px 1px 3px 1px rgba(60, 64, 67, 0.15);\n",
              "      fill: #174EA6;\n",
              "    }\n",
              "\n",
              "    [theme=dark] .colab-df-convert {\n",
              "      background-color: #3B4455;\n",
              "      fill: #D2E3FC;\n",
              "    }\n",
              "\n",
              "    [theme=dark] .colab-df-convert:hover {\n",
              "      background-color: #434B5C;\n",
              "      box-shadow: 0px 1px 3px 1px rgba(0, 0, 0, 0.15);\n",
              "      filter: drop-shadow(0px 1px 2px rgba(0, 0, 0, 0.3));\n",
              "      fill: #FFFFFF;\n",
              "    }\n",
              "  </style>\n",
              "\n",
              "      <script>\n",
              "        const buttonEl =\n",
              "          document.querySelector('#df-9cdf5af0-3ddb-44ec-935e-9dec37b8b8f8 button.colab-df-convert');\n",
              "        buttonEl.style.display =\n",
              "          google.colab.kernel.accessAllowed ? 'block' : 'none';\n",
              "\n",
              "        async function convertToInteractive(key) {\n",
              "          const element = document.querySelector('#df-9cdf5af0-3ddb-44ec-935e-9dec37b8b8f8');\n",
              "          const dataTable =\n",
              "            await google.colab.kernel.invokeFunction('convertToInteractive',\n",
              "                                                     [key], {});\n",
              "          if (!dataTable) return;\n",
              "\n",
              "          const docLinkHtml = 'Like what you see? Visit the ' +\n",
              "            '<a target=\"_blank\" href=https://colab.research.google.com/notebooks/data_table.ipynb>data table notebook</a>'\n",
              "            + ' to learn more about interactive tables.';\n",
              "          element.innerHTML = '';\n",
              "          dataTable['output_type'] = 'display_data';\n",
              "          await google.colab.output.renderOutput(dataTable, element);\n",
              "          const docLink = document.createElement('div');\n",
              "          docLink.innerHTML = docLinkHtml;\n",
              "          element.appendChild(docLink);\n",
              "        }\n",
              "      </script>\n",
              "    </div>\n",
              "  </div>\n",
              "  "
            ]
          },
          "metadata": {},
          "execution_count": 426
        }
      ]
    },
    {
      "cell_type": "markdown",
      "source": [
        "## Paso 5: Grafico la solución"
      ],
      "metadata": {
        "id": "Ld7XfTveVMDw"
      }
    },
    {
      "cell_type": "markdown",
      "source": [
        "Creo las conexiones"
      ],
      "metadata": {
        "id": "yzG0tD7mvZ8F"
      }
    },
    {
      "cell_type": "code",
      "source": [
        "final_values.iloc[N-1:2*N-1]"
      ],
      "metadata": {
        "id": "fYDkE20ZDyOq",
        "colab": {
          "base_uri": "https://localhost:8080/",
          "height": 363
        },
        "outputId": "52318b09-a392-4dcd-e551-c8eefe8781b2"
      },
      "execution_count": 427,
      "outputs": [
        {
          "output_type": "execute_result",
          "data": {
            "text/plain": [
              "     name  value\n",
              "9     U_J   10.0\n",
              "10  Y_0_C    1.0\n",
              "11  Y_A_H    1.0\n",
              "12  Y_B_G    1.0\n",
              "13  Y_C_F    1.0\n",
              "14  Y_D_A    1.0\n",
              "15  Y_E_B    1.0\n",
              "16  Y_F_D    1.0\n",
              "17  Y_G_J    1.0\n",
              "18  Y_H_I    1.0"
            ],
            "text/html": [
              "\n",
              "  <div id=\"df-6028f7ff-39b6-4309-8ce9-538e4743be39\">\n",
              "    <div class=\"colab-df-container\">\n",
              "      <div>\n",
              "<style scoped>\n",
              "    .dataframe tbody tr th:only-of-type {\n",
              "        vertical-align: middle;\n",
              "    }\n",
              "\n",
              "    .dataframe tbody tr th {\n",
              "        vertical-align: top;\n",
              "    }\n",
              "\n",
              "    .dataframe thead th {\n",
              "        text-align: right;\n",
              "    }\n",
              "</style>\n",
              "<table border=\"1\" class=\"dataframe\">\n",
              "  <thead>\n",
              "    <tr style=\"text-align: right;\">\n",
              "      <th></th>\n",
              "      <th>name</th>\n",
              "      <th>value</th>\n",
              "    </tr>\n",
              "  </thead>\n",
              "  <tbody>\n",
              "    <tr>\n",
              "      <th>9</th>\n",
              "      <td>U_J</td>\n",
              "      <td>10.0</td>\n",
              "    </tr>\n",
              "    <tr>\n",
              "      <th>10</th>\n",
              "      <td>Y_0_C</td>\n",
              "      <td>1.0</td>\n",
              "    </tr>\n",
              "    <tr>\n",
              "      <th>11</th>\n",
              "      <td>Y_A_H</td>\n",
              "      <td>1.0</td>\n",
              "    </tr>\n",
              "    <tr>\n",
              "      <th>12</th>\n",
              "      <td>Y_B_G</td>\n",
              "      <td>1.0</td>\n",
              "    </tr>\n",
              "    <tr>\n",
              "      <th>13</th>\n",
              "      <td>Y_C_F</td>\n",
              "      <td>1.0</td>\n",
              "    </tr>\n",
              "    <tr>\n",
              "      <th>14</th>\n",
              "      <td>Y_D_A</td>\n",
              "      <td>1.0</td>\n",
              "    </tr>\n",
              "    <tr>\n",
              "      <th>15</th>\n",
              "      <td>Y_E_B</td>\n",
              "      <td>1.0</td>\n",
              "    </tr>\n",
              "    <tr>\n",
              "      <th>16</th>\n",
              "      <td>Y_F_D</td>\n",
              "      <td>1.0</td>\n",
              "    </tr>\n",
              "    <tr>\n",
              "      <th>17</th>\n",
              "      <td>Y_G_J</td>\n",
              "      <td>1.0</td>\n",
              "    </tr>\n",
              "    <tr>\n",
              "      <th>18</th>\n",
              "      <td>Y_H_I</td>\n",
              "      <td>1.0</td>\n",
              "    </tr>\n",
              "  </tbody>\n",
              "</table>\n",
              "</div>\n",
              "      <button class=\"colab-df-convert\" onclick=\"convertToInteractive('df-6028f7ff-39b6-4309-8ce9-538e4743be39')\"\n",
              "              title=\"Convert this dataframe to an interactive table.\"\n",
              "              style=\"display:none;\">\n",
              "        \n",
              "  <svg xmlns=\"http://www.w3.org/2000/svg\" height=\"24px\"viewBox=\"0 0 24 24\"\n",
              "       width=\"24px\">\n",
              "    <path d=\"M0 0h24v24H0V0z\" fill=\"none\"/>\n",
              "    <path d=\"M18.56 5.44l.94 2.06.94-2.06 2.06-.94-2.06-.94-.94-2.06-.94 2.06-2.06.94zm-11 1L8.5 8.5l.94-2.06 2.06-.94-2.06-.94L8.5 2.5l-.94 2.06-2.06.94zm10 10l.94 2.06.94-2.06 2.06-.94-2.06-.94-.94-2.06-.94 2.06-2.06.94z\"/><path d=\"M17.41 7.96l-1.37-1.37c-.4-.4-.92-.59-1.43-.59-.52 0-1.04.2-1.43.59L10.3 9.45l-7.72 7.72c-.78.78-.78 2.05 0 2.83L4 21.41c.39.39.9.59 1.41.59.51 0 1.02-.2 1.41-.59l7.78-7.78 2.81-2.81c.8-.78.8-2.07 0-2.86zM5.41 20L4 18.59l7.72-7.72 1.47 1.35L5.41 20z\"/>\n",
              "  </svg>\n",
              "      </button>\n",
              "      \n",
              "  <style>\n",
              "    .colab-df-container {\n",
              "      display:flex;\n",
              "      flex-wrap:wrap;\n",
              "      gap: 12px;\n",
              "    }\n",
              "\n",
              "    .colab-df-convert {\n",
              "      background-color: #E8F0FE;\n",
              "      border: none;\n",
              "      border-radius: 50%;\n",
              "      cursor: pointer;\n",
              "      display: none;\n",
              "      fill: #1967D2;\n",
              "      height: 32px;\n",
              "      padding: 0 0 0 0;\n",
              "      width: 32px;\n",
              "    }\n",
              "\n",
              "    .colab-df-convert:hover {\n",
              "      background-color: #E2EBFA;\n",
              "      box-shadow: 0px 1px 2px rgba(60, 64, 67, 0.3), 0px 1px 3px 1px rgba(60, 64, 67, 0.15);\n",
              "      fill: #174EA6;\n",
              "    }\n",
              "\n",
              "    [theme=dark] .colab-df-convert {\n",
              "      background-color: #3B4455;\n",
              "      fill: #D2E3FC;\n",
              "    }\n",
              "\n",
              "    [theme=dark] .colab-df-convert:hover {\n",
              "      background-color: #434B5C;\n",
              "      box-shadow: 0px 1px 3px 1px rgba(0, 0, 0, 0.15);\n",
              "      filter: drop-shadow(0px 1px 2px rgba(0, 0, 0, 0.3));\n",
              "      fill: #FFFFFF;\n",
              "    }\n",
              "  </style>\n",
              "\n",
              "      <script>\n",
              "        const buttonEl =\n",
              "          document.querySelector('#df-6028f7ff-39b6-4309-8ce9-538e4743be39 button.colab-df-convert');\n",
              "        buttonEl.style.display =\n",
              "          google.colab.kernel.accessAllowed ? 'block' : 'none';\n",
              "\n",
              "        async function convertToInteractive(key) {\n",
              "          const element = document.querySelector('#df-6028f7ff-39b6-4309-8ce9-538e4743be39');\n",
              "          const dataTable =\n",
              "            await google.colab.kernel.invokeFunction('convertToInteractive',\n",
              "                                                     [key], {});\n",
              "          if (!dataTable) return;\n",
              "\n",
              "          const docLinkHtml = 'Like what you see? Visit the ' +\n",
              "            '<a target=\"_blank\" href=https://colab.research.google.com/notebooks/data_table.ipynb>data table notebook</a>'\n",
              "            + ' to learn more about interactive tables.';\n",
              "          element.innerHTML = '';\n",
              "          dataTable['output_type'] = 'display_data';\n",
              "          await google.colab.output.renderOutput(dataTable, element);\n",
              "          const docLink = document.createElement('div');\n",
              "          docLink.innerHTML = docLinkHtml;\n",
              "          element.appendChild(docLink);\n",
              "        }\n",
              "      </script>\n",
              "    </div>\n",
              "  </div>\n",
              "  "
            ]
          },
          "metadata": {},
          "execution_count": 427
        }
      ]
    },
    {
      "cell_type": "code",
      "source": [
        "def obtener_bancos(row):\n",
        "  bancos = row[\"name\"].split(\"_\")\n",
        "  return bancos[1], bancos[2]"
      ],
      "metadata": {
        "id": "4SWBDxxTwFDr"
      },
      "execution_count": 428,
      "outputs": []
    },
    {
      "cell_type": "code",
      "source": [
        "# Define the connections between the banks\n",
        "# Sería el recorrido del camión\n",
        "connections = final_values.iloc[N:2*N+1]\n",
        "connections = connections.apply(obtener_bancos, axis=1)\n",
        "connections = list(connections)\n",
        "connections"
      ],
      "metadata": {
        "id": "Oqu08gjSvprm",
        "colab": {
          "base_uri": "https://localhost:8080/"
        },
        "outputId": "d6abf52f-a689-42ee-945e-5afa1f60fb55"
      },
      "execution_count": 429,
      "outputs": [
        {
          "output_type": "execute_result",
          "data": {
            "text/plain": [
              "[('0', 'C'),\n",
              " ('A', 'H'),\n",
              " ('B', 'G'),\n",
              " ('C', 'F'),\n",
              " ('D', 'A'),\n",
              " ('E', 'B'),\n",
              " ('F', 'D'),\n",
              " ('G', 'J'),\n",
              " ('H', 'I'),\n",
              " ('I', 'E'),\n",
              " ('J', '0')]"
            ]
          },
          "metadata": {},
          "execution_count": 429
        }
      ]
    },
    {
      "cell_type": "code",
      "source": [
        "casa_central = banks[0]\n",
        "\n",
        "# Create a plot\n",
        "fig, ax = plt.subplots()\n",
        "\n",
        "# Plot the banks as dots\n",
        "for bank in dist:\n",
        "    ax.plot(dist[bank][0], dist[bank][1], 'o', markersize=10, label=bank)\n",
        "\n",
        "# Plot the connections as arrows\n",
        "for connection in connections:\n",
        "  x1, y1 = dist[connection[0]]\n",
        "  x2, y2 = dist[connection[1]]\n",
        "  dx, dy = x2 - x1, y2 - y1\n",
        "  \n",
        "  if connection[1] == casa_central:\n",
        "    color = 'black'\n",
        "  else:\n",
        "    cambio = int(capital.loc[connection[1]])\n",
        "    if cambio > 0:\n",
        "      color = 'green'\n",
        "    else:\n",
        "      color = 'red'\n",
        "  \n",
        "  ax.quiver(x1, y1, dx, dy,\n",
        "            angles='xy', scale_units='xy',\n",
        "            scale=1, width=0.003,\n",
        "            headwidth=15, color=color,\n",
        "            zorder=3)\n",
        "\n",
        "# Annotate the Casa Central\n",
        "ax.annotate('Casa Central', dist[casa_central])\n",
        "\n",
        "# Annotate the capital\n",
        "for b in banks[1:]:\n",
        "  ax.annotate(int(capital.loc[b]), dist[b], weight=\"bold\")\n",
        "\n",
        "# Add the legend\n",
        "ax.legend(bbox_to_anchor=(1.15, 1.05))\n",
        "\n",
        "# Add the title\n",
        "plt.title(\"Circuito del camión de caudales\")\n",
        "\n",
        "# Show the plot\n",
        "plt.show()"
      ],
      "metadata": {
        "id": "u6LYpkwj6s64",
        "colab": {
          "base_uri": "https://localhost:8080/",
          "height": 452
        },
        "outputId": "b5645183-f893-425e-9f54-47f8ae953c0a"
      },
      "execution_count": 430,
      "outputs": [
        {
          "output_type": "display_data",
          "data": {
            "text/plain": [
              "<Figure size 640x480 with 1 Axes>"
            ],
            "image/png": "[encoded data removed]"
          },
          "metadata": {}
        }
      ]
    }
  ]
}